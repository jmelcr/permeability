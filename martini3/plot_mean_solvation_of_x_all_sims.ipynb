{
 "cells": [
  {
   "cell_type": "markdown",
   "metadata": {},
   "source": [
    "# Mean solvation across membrane\n",
    "In this notebook, \n",
    "I calculate and Plot the mean solvation \n",
    "(mean number of solvent particles from `gmx mindist` called `numcont`)\n",
    "as a function of the distance from the membrane center (from `pullx`)."
   ]
  },
  {
   "cell_type": "code",
   "execution_count": 22,
   "metadata": {},
   "outputs": [],
   "source": [
    "import pandas as pd\n",
    "import numpy as np\n",
    "import seaborn as sns\n",
    "import matplotlib as mpl\n",
    "import matplotlib.pyplot as plt\n",
    "import os, fnmatch\n",
    "import pickle\n"
   ]
  },
  {
   "cell_type": "code",
   "execution_count": 2,
   "metadata": {},
   "outputs": [],
   "source": [
    "def find(pattern, path):\n",
    "    result = []\n",
    "    for root, dirs, files in os.walk(path):\n",
    "        for name in files:\n",
    "            if fnmatch.fnmatch(name, pattern):\n",
    "                result.append(os.path.join(root, name))\n",
    "    return result\n",
    "\n",
    "\n",
    "def locate(pattern, root=os.curdir):\n",
    "    '''Locate all files matching supplied filename pattern in and below\n",
    "    supplied root directory.'''\n",
    "    for path, dirs, files in os.walk(os.path.abspath(root)):\n",
    "        for filename in fnmatch.filter(files, pattern):\n",
    "            yield os.path.join(path, filename)\n"
   ]
  },
  {
   "cell_type": "code",
   "execution_count": 3,
   "metadata": {},
   "outputs": [],
   "source": [
    "class Simulation:\n",
    "    \"\"\"\n",
    "    class that is very specific to the use with my permeability project.\n",
    "    It uses pre-analyzed results from Gromacs\n",
    "    to calculate the mean hydration along the membrane normal.\n",
    "    \"\"\"\n",
    "    def __init__(self, pullx_fname='pullx.xvg', numcont_fname=\"numcont_particle-solvent.xvg\"):\n",
    "        self.dirname       = os.path.dirname(pullx_fname)\n",
    "        self.pullx_fname   = pullx_fname\n",
    "        self.numcont_fname = numcont_fname\n",
    "        \n",
    "        \n",
    "    def load_df(self, fname, columns, app_func=None):\n",
    "        \"\"\"\n",
    "        methods loads a xvg file (expecting only two columns) \n",
    "        and turnes it into a dataframe with the described column names.\n",
    "        columns shall be a list of column names.\n",
    "        app_func is a name of a function to be applied on the resulting DataFrame\n",
    "        \"\"\"\n",
    "        arr = np.loadtxt(fname, dtype=float, comments=[\"#\", \"@\"])\n",
    "        df  = pd.DataFrame(arr, columns=columns).set_index(columns[0])\n",
    "        if app_func:\n",
    "            df = df.apply(app_func)\n",
    "            \n",
    "        return df\n",
    "\n",
    "    \n",
    "    def merge2dfs(self, df1, df2, on_index='t'):\n",
    "        \"simply merge two dataframes o the specified index name\"\n",
    "        return df1.merge(df2, on=on_index)\n",
    "    \n",
    "    \n",
    "    def load_xnt_df(self):\n",
    "        \"\"\"\n",
    "        loads in necessarry data to return \n",
    "        a DataFrame containing the x - numcont values \n",
    "        with t as index\n",
    "        \"\"\"\n",
    "        df = self.merge2dfs(self.load_df(self.pullx_fname, columns=['t', 'x'], app_func=abs),\n",
    "                                   self.load_df(self.numcont_fname, columns=['t', 'numcont']))\n",
    "        #df.numcont = df.numcont.apply(int)\n",
    "        return df\n",
    "      \n",
    "        \n",
    "    @property\n",
    "    def mean_solv(self):\n",
    "        try:\n",
    "            return self.__mean_solv_df\n",
    "        except:\n",
    "            return self.calc_mean_solv()\n",
    "            \n",
    "\n",
    "    @property\n",
    "    def degree_of_solv(self):\n",
    "        \"\"\"\n",
    "        using a definition that 0=dry ; 1=in contact with solvent\n",
    "        the average value tells on the probability of \n",
    "        being dry -vs- in contact with at least one solvent molecule. \n",
    "        \"\"\"\n",
    "        try:\n",
    "            return self.__degree_of_solv_df\n",
    "        except:\n",
    "            return self.calc_mean_solv(degree_of_solv=True)\n",
    "            \n",
    "    \n",
    "    def calc_mean_solv(self, bins=40, degree_of_solv=False):\n",
    "        \"\"\"\n",
    "        calculate the profile of mean solvation (incl. std).\n",
    "        input DataFrame has to have a column 'x'\n",
    "        and\n",
    "        calculate the degree of solbvation - stores as a hidden variable\n",
    "        \"\"\"\n",
    "        # load the files to make the x-numcont(t) DataFrame\n",
    "        xnbinst = self.load_xnt_df()\n",
    "        # perform binning (equal sizes)\n",
    "        xnbinst['bins'] = pd.cut(xnbinst.x, bins=bins)\n",
    "        # empty list to contain the final array\n",
    "        mean_solvation_list = []\n",
    "        degree_of_solvation_list = []\n",
    "        for group in xnbinst.groupby(by='bins'):\n",
    "            grind = group[0]\n",
    "            df = group[1]\n",
    "            # store the center of the bin and the mean+std of solvation value\n",
    "            mean_solvation_list.append([grind.mid, df.numcont.agg(np.mean), df.numcont.agg(np.std)])\n",
    "            # change the DF so that numcont value is truncated to 1 for higher values\n",
    "            df['degsolv'] = df['numcont'].where(df['numcont']<1.0, other=1.0)\n",
    "            degree_of_solvation_list.append([grind.mid, df.degsolv.agg(np.mean), df.degsolv.agg(np.std)])\n",
    "\n",
    "        self.__mean_solv_df = pd.DataFrame(mean_solvation_list, \n",
    "                                           columns=[\"x [nm]\", \"num_solvent mean\", \"num_solvent std\"])\n",
    "        self.__degree_of_solv_df = pd.DataFrame(degree_of_solvation_list, \n",
    "                                           columns=[\"x [nm]\", \"degree of solvation mean\", \"degree of solvation std\"])\n",
    "        \n",
    "        if degree_of_solv:\n",
    "            return self.__degree_of_solv_df\n",
    "        else:\n",
    "            return self.__mean_solv_df\n",
    "\n",
    "\n",
    "    def plot_mean_solv_profile(self, alpha=0.5, plt_label=None, plt_stdev=False, plt_solvdeg=False):\n",
    "        \"\"\"\n",
    "        output: seaborn plot of the mean solvation profile including a\n",
    "        Standard deviation as a fill-between area\n",
    "        \"\"\"\n",
    "        if plt_solvdeg:\n",
    "            colname = 'degree of solvation'\n",
    "            simdf = self.degree_of_solv\n",
    "        else:\n",
    "            colname = 'num_solvent'\n",
    "            simdf = self.mean_solv\n",
    "            \n",
    "        simdf['y1'] = simdf[colname+' mean'] + simdf[colname+' std']\n",
    "        simdf['y2'] = simdf[colname+' mean'] - simdf[colname+' std']\n",
    "        simdf['y2'] = simdf['y2'].where(simdf['y2']>0.0, other=0.0)\n",
    "        \n",
    "        # store the DF for quick check and access\n",
    "        self.simdf = simdf.copy()\n",
    "        \n",
    "        #plotting!\n",
    "        fig = sns.lineplot(data=simdf, x='x [nm]', y=colname+' mean', label=plt_label )\n",
    "        if plt_stdev:\n",
    "            fig.fill_between(data=simdf, x='x [nm]', y1='y1', y2='y2', alpha=alpha)\n",
    "        \n",
    "        return fig"
   ]
  },
  {
   "cell_type": "markdown",
   "metadata": {},
   "source": [
    "# Solvent accessibility & average solvaiton profiles \n",
    "by plotting whether there is at least one molecule within cutoff \n",
    "& the average numcont value per bin/gridpoint\n",
    "\n",
    "This property does not need to be reweighted as the averages per each bin \n",
    "are independent. \n",
    "Only sufficient amount of sampling is necessary. \n",
    "\n",
    "Here, selecting all simulation folders containing the pullx file (which is totally necessarry)."
   ]
  },
  {
   "cell_type": "code",
   "execution_count": 4,
   "metadata": {
    "scrolled": true
   },
   "outputs": [
    {
     "name": "stdout",
     "output_type": "stream",
     "text": [
      "./cholesterol26p_PC_variousTails_sims/saturation_DPPC-POPC_titration/perm_particle_EOLS/sat-unsat_179-0_d_0/sim1_awh_LOrdered\n",
      "./cholesterol26p_PC_variousTails_sims/prep_min_eq/long_eq\n",
      "./cholesterol45p_PC_variousTails_sims/saturation_DPPC-POPC_titration/perm_particle_EOLR/sat-unsat_82-36_d_15/sim1_awh_LOrdered\n",
      "./cholesterol45p_PC_variousTails_sims/saturation_DPPC-POPC_titration/perm_particle_EOLR/sat-unsat_58-60_d_25/sim1_awh_LOrdered\n",
      "./cholesterol45p_PC_variousTails_sims/saturation_DPPC-POPC_titration/perm_particle_EOLR/sat-unsat_22-96_d_40/sim1_awh_LOrdered\n",
      "./cholesterol45p_PC_variousTails_sims/saturation_DPPC-POPC_titration/perm_particle_EOLR/sat-unsat_46-72_d_30/sim1_awh_LOrdered\n",
      "./cholesterol45p_PC_variousTails_sims/saturation_DPPC-POPC_titration/perm_particle_EOLR/sat-unsat_106-12_d_5/sim1_awh_LOrdered\n",
      "./cholesterol45p_PC_variousTails_sims/saturation_DPPC-POPC_titration/perm_particle_EOLR/sat-unsat_118-0_d_0/sim1_awh_LOrdered\n",
      "./cholesterol45p_PC_variousTails_sims/saturation_DPPC-POPC_titration/perm_particle_EOLR/sat-unsat_94-24_d_10/sim1_awh_LOrdered\n",
      "./cholesterol45p_PC_variousTails_sims/saturation_DPPC-POPC_titration/perm_particle_EOLR/sat-unsat_70-48_d_20/sim1_awh_LOrdered\n",
      "./cholesterol45p_PC_variousTails_sims/saturation_DPPC-POPC_titration/perm_particle_EOLR/sat-unsat_34-84_d_35/sim1_awh_LOrdered\n",
      "./cholesterol45p_PC_variousTails_sims/saturation_DPPC-POPC_titration/perm_particle_EOLR/sat-unsat_0-118_d_50/sim1_awh_LOrdered\n",
      "./cholesterol45p_PC_variousTails_sims/saturation_DPPC-POPC_titration/perm_particle_EOLR/sat-unsat_10-108_d_45/sim1_awh_LOrdered\n",
      "./cholesterol45p_PC_variousTails_sims/saturation_DPPC-POPC_titration/perm_particle_EOLT/sat-unsat_82-36_d_15/sim1_awh_LOrdered\n",
      "./cholesterol45p_PC_variousTails_sims/saturation_DPPC-POPC_titration/perm_particle_EOLT/sat-unsat_58-60_d_25/sim1_awh_LOrdered\n",
      "./cholesterol45p_PC_variousTails_sims/saturation_DPPC-POPC_titration/perm_particle_EOLT/sat-unsat_22-96_d_40/sim1_awh_LOrdered\n",
      "./cholesterol45p_PC_variousTails_sims/saturation_DPPC-POPC_titration/perm_particle_EOLT/sat-unsat_46-72_d_30/sim1_awh_LOrdered\n",
      "./cholesterol45p_PC_variousTails_sims/saturation_DPPC-POPC_titration/perm_particle_EOLT/sat-unsat_106-12_d_5/sim1_awh_LOrdered\n",
      "./cholesterol45p_PC_variousTails_sims/saturation_DPPC-POPC_titration/perm_particle_EOLT/sat-unsat_118-0_d_0/sim1_awh_LOrdered\n",
      "./cholesterol45p_PC_variousTails_sims/saturation_DPPC-POPC_titration/perm_particle_EOLT/sat-unsat_94-24_d_10/sim1_awh_LOrdered\n",
      "./cholesterol45p_PC_variousTails_sims/saturation_DPPC-POPC_titration/perm_particle_EOLT/sat-unsat_70-48_d_20/sim1_awh_LOrdered\n",
      "./cholesterol45p_PC_variousTails_sims/saturation_DPPC-POPC_titration/perm_particle_EOLT/sat-unsat_34-84_d_35/sim1_awh_LOrdered\n",
      "./cholesterol45p_PC_variousTails_sims/saturation_DPPC-POPC_titration/perm_particle_EOLT/sat-unsat_0-118_d_50/sim1_awh_LOrdered\n",
      "./cholesterol45p_PC_variousTails_sims/saturation_DPPC-POPC_titration/perm_particle_EOLT/sat-unsat_10-108_d_45/sim1_awh_LOrdered\n",
      "./cholesterol45p_PC_variousTails_sims/saturation_DPPC-POPC_titration/perm_particle_EOLS/sat-unsat_82-36_d_15/sim1_awh_LOrdered\n",
      "./cholesterol45p_PC_variousTails_sims/saturation_DPPC-POPC_titration/perm_particle_EOLS/sat-unsat_58-60_d_25/sim1_awh_LOrdered\n",
      "./cholesterol45p_PC_variousTails_sims/saturation_DPPC-POPC_titration/perm_particle_EOLS/sat-unsat_22-96_d_40/sim1_awh_LOrdered\n",
      "./cholesterol45p_PC_variousTails_sims/saturation_DPPC-POPC_titration/perm_particle_EOLS/sat-unsat_46-72_d_30/sim1_awh_LOrdered\n",
      "./cholesterol45p_PC_variousTails_sims/saturation_DPPC-POPC_titration/perm_particle_EOLS/sat-unsat_106-12_d_5/sim1_awh_LOrdered\n",
      "./cholesterol45p_PC_variousTails_sims/saturation_DPPC-POPC_titration/perm_particle_EOLS/sat-unsat_118-0_d_0/sim1_awh_LOrdered\n",
      "./cholesterol45p_PC_variousTails_sims/saturation_DPPC-POPC_titration/perm_particle_EOLS/sat-unsat_118-0_d_0/sim1_awh_LOrdered(1)\n",
      "./cholesterol45p_PC_variousTails_sims/saturation_DPPC-POPC_titration/perm_particle_EOLS/sat-unsat_94-24_d_10/sim1_awh_LOrdered\n",
      "./cholesterol45p_PC_variousTails_sims/saturation_DPPC-POPC_titration/perm_particle_EOLS/sat-unsat_70-48_d_20/sim1_awh_LOrdered\n",
      "./cholesterol45p_PC_variousTails_sims/saturation_DPPC-POPC_titration/perm_particle_EOLS/sat-unsat_34-84_d_35/sim1_awh_LOrdered\n",
      "./cholesterol45p_PC_variousTails_sims/saturation_DPPC-POPC_titration/perm_particle_EOLS/sat-unsat_0-118_d_50/sim1_awh_LOrdered\n",
      "./cholesterol45p_PC_variousTails_sims/saturation_DPPC-POPC_titration/perm_particle_EOLS/sat-unsat_0-118_d_50/sim1_awh_LOrdered(1)\n",
      "./cholesterol45p_PC_variousTails_sims/saturation_DPPC-POPC_titration/perm_particle_EOLS/sat-unsat_10-108_d_45/sim1_awh_LOrdered\n",
      "./cholesterol45p_PC_variousTails_sims/prep_min_eq/long_eq\n",
      "./cholesterol15p_PC_variousTails_sims/memb_00pEthanol_tails_DP_heads_PE-PC_Temp_288K/01_DPPC-CHOL15_martini3/sim1-awh\n",
      "./cholesterol15p_PC_variousTails_sims/saturation_DPPC-POPC_titration/perm_particle_EOLR/sat-unsat_107-72_d_20/sim1_awh_gel\n",
      "./cholesterol15p_PC_variousTails_sims/saturation_DPPC-POPC_titration/perm_particle_EOLR/sat-unsat_107-72_d_20/sim1_awh_fluid\n",
      "./cholesterol15p_PC_variousTails_sims/saturation_DPPC-POPC_titration/perm_particle_EOLR/sat-unsat_71-108_d_30/sim1_awh_gel\n",
      "./cholesterol15p_PC_variousTails_sims/saturation_DPPC-POPC_titration/perm_particle_EOLR/sat-unsat_71-108_d_30/sim1_awh_fluid\n",
      "./cholesterol15p_PC_variousTails_sims/saturation_DPPC-POPC_titration/perm_particle_EOLR/sat-unsat_161-18_d_5/sim1_awh_gel\n",
      "./cholesterol15p_PC_variousTails_sims/saturation_DPPC-POPC_titration/perm_particle_EOLR/sat-unsat_161-18_d_5/sim1_awh_fluid\n",
      "./cholesterol15p_PC_variousTails_sims/saturation_DPPC-POPC_titration/perm_particle_EOLR/sat-unsat_0-179_d_50/sim1_awh_gel\n",
      "./cholesterol15p_PC_variousTails_sims/saturation_DPPC-POPC_titration/perm_particle_EOLR/sat-unsat_0-179_d_50/sim1_awh_fluid\n",
      "./cholesterol15p_PC_variousTails_sims/saturation_DPPC-POPC_titration/perm_particle_EOLR/sat-unsat_179-0_d_0/sim1_awh_gel\n",
      "./cholesterol15p_PC_variousTails_sims/saturation_DPPC-POPC_titration/perm_particle_EOLR/sat-unsat_179-0_d_0/sim1_awh_fluid\n",
      "./cholesterol15p_PC_variousTails_sims/saturation_DPPC-POPC_titration/perm_particle_EOLR/sat-unsat_143-36_d_10/sim1_awh_gel\n",
      "./cholesterol15p_PC_variousTails_sims/saturation_DPPC-POPC_titration/perm_particle_EOLR/sat-unsat_143-36_d_10/sim1_awh_fluid\n",
      "./cholesterol15p_PC_variousTails_sims/saturation_DPPC-POPC_titration/perm_particle_EOLR/sat-unsat_17-162_d_45/sim1_awh_gel\n",
      "./cholesterol15p_PC_variousTails_sims/saturation_DPPC-POPC_titration/perm_particle_EOLR/sat-unsat_17-162_d_45/sim1_awh_fluid\n",
      "./cholesterol15p_PC_variousTails_sims/saturation_DPPC-POPC_titration/perm_particle_EOLR/sat-unsat_89-90_d_25/sim1_awh_gel\n",
      "./cholesterol15p_PC_variousTails_sims/saturation_DPPC-POPC_titration/perm_particle_EOLR/sat-unsat_89-90_d_25/sim1_awh_fluid\n",
      "./cholesterol15p_PC_variousTails_sims/saturation_DPPC-POPC_titration/perm_particle_EOLR/sat-unsat_125-54_d_15/sim1_awh_gel\n",
      "./cholesterol15p_PC_variousTails_sims/saturation_DPPC-POPC_titration/perm_particle_EOLR/sat-unsat_125-54_d_15/sim1_awh_fluid\n",
      "./cholesterol15p_PC_variousTails_sims/saturation_DPPC-POPC_titration/perm_particle_EOLR/sat-unsat_35-144_d_40/sim1_awh_gel\n",
      "./cholesterol15p_PC_variousTails_sims/saturation_DPPC-POPC_titration/perm_particle_EOLR/sat-unsat_35-144_d_40/sim1_awh_fluid\n",
      "./cholesterol15p_PC_variousTails_sims/saturation_DPPC-POPC_titration/perm_particle_EOLR/sat-unsat_53-126_d_35/sim1_awh_gel\n",
      "./cholesterol15p_PC_variousTails_sims/saturation_DPPC-POPC_titration/perm_particle_EOLR/sat-unsat_53-126_d_35/sim1_awh_fluid\n",
      "./cholesterol15p_PC_variousTails_sims/saturation_DPPC-POPC_titration/perm_particle_EOLT/sat-unsat_107-72_d_20/sim1_awh_gel\n",
      "./cholesterol15p_PC_variousTails_sims/saturation_DPPC-POPC_titration/perm_particle_EOLT/sat-unsat_107-72_d_20/sim1_awh_fluid\n",
      "./cholesterol15p_PC_variousTails_sims/saturation_DPPC-POPC_titration/perm_particle_EOLT/sat-unsat_71-108_d_30/sim1_awh_gel\n",
      "./cholesterol15p_PC_variousTails_sims/saturation_DPPC-POPC_titration/perm_particle_EOLT/sat-unsat_71-108_d_30/sim1_awh_fluid\n",
      "./cholesterol15p_PC_variousTails_sims/saturation_DPPC-POPC_titration/perm_particle_EOLT/sat-unsat_161-18_d_5/sim1_awh_gel\n",
      "./cholesterol15p_PC_variousTails_sims/saturation_DPPC-POPC_titration/perm_particle_EOLT/sat-unsat_161-18_d_5/sim1_awh_fluid\n",
      "./cholesterol15p_PC_variousTails_sims/saturation_DPPC-POPC_titration/perm_particle_EOLT/sat-unsat_0-179_d_50/sim1_awh_gel\n",
      "./cholesterol15p_PC_variousTails_sims/saturation_DPPC-POPC_titration/perm_particle_EOLT/sat-unsat_0-179_d_50/sim1_awh_fluid\n",
      "./cholesterol15p_PC_variousTails_sims/saturation_DPPC-POPC_titration/perm_particle_EOLT/sat-unsat_179-0_d_0/sim1_awh_gel\n",
      "./cholesterol15p_PC_variousTails_sims/saturation_DPPC-POPC_titration/perm_particle_EOLT/sat-unsat_179-0_d_0/sim1_awh_fluid\n",
      "./cholesterol15p_PC_variousTails_sims/saturation_DPPC-POPC_titration/perm_particle_EOLT/sat-unsat_143-36_d_10/sim1_awh_gel\n",
      "./cholesterol15p_PC_variousTails_sims/saturation_DPPC-POPC_titration/perm_particle_EOLT/sat-unsat_143-36_d_10/sim1_awh_fluid\n",
      "./cholesterol15p_PC_variousTails_sims/saturation_DPPC-POPC_titration/perm_particle_EOLT/sat-unsat_17-162_d_45/sim1_awh_gel\n",
      "./cholesterol15p_PC_variousTails_sims/saturation_DPPC-POPC_titration/perm_particle_EOLT/sat-unsat_17-162_d_45/sim1_awh_fluid\n",
      "./cholesterol15p_PC_variousTails_sims/saturation_DPPC-POPC_titration/perm_particle_EOLT/sat-unsat_89-90_d_25/sim1_awh_gel\n",
      "./cholesterol15p_PC_variousTails_sims/saturation_DPPC-POPC_titration/perm_particle_EOLT/sat-unsat_89-90_d_25/sim1_awh_fluid\n",
      "./cholesterol15p_PC_variousTails_sims/saturation_DPPC-POPC_titration/perm_particle_EOLT/sat-unsat_125-54_d_15/sim1_awh_gel\n",
      "./cholesterol15p_PC_variousTails_sims/saturation_DPPC-POPC_titration/perm_particle_EOLT/sat-unsat_125-54_d_15/sim1_awh_fluid\n",
      "./cholesterol15p_PC_variousTails_sims/saturation_DPPC-POPC_titration/perm_particle_EOLT/sat-unsat_35-144_d_40/sim1_awh_gel\n",
      "./cholesterol15p_PC_variousTails_sims/saturation_DPPC-POPC_titration/perm_particle_EOLT/sat-unsat_35-144_d_40/sim1_awh_fluid\n",
      "./cholesterol15p_PC_variousTails_sims/saturation_DPPC-POPC_titration/perm_particle_EOLT/sat-unsat_53-126_d_35/sim1_awh_gel\n",
      "./cholesterol15p_PC_variousTails_sims/saturation_DPPC-POPC_titration/perm_particle_EOLT/sat-unsat_53-126_d_35/sim1_awh_fluid\n",
      "./cholesterol15p_PC_variousTails_sims/saturation_DPPC-POPC_titration/perm_particle_EOLS/sat-unsat_107-72_d_20/sim1_awh_gel\n",
      "./cholesterol15p_PC_variousTails_sims/saturation_DPPC-POPC_titration/perm_particle_EOLS/sat-unsat_107-72_d_20/sim1_awh_fluid\n",
      "./cholesterol15p_PC_variousTails_sims/saturation_DPPC-POPC_titration/perm_particle_EOLS/sat-unsat_71-108_d_30/sim1_awh_gel\n",
      "./cholesterol15p_PC_variousTails_sims/saturation_DPPC-POPC_titration/perm_particle_EOLS/sat-unsat_71-108_d_30/sim1_awh_fluid\n",
      "./cholesterol15p_PC_variousTails_sims/saturation_DPPC-POPC_titration/perm_particle_EOLS/sat-unsat_161-18_d_5/sim1_awh_gel\n",
      "./cholesterol15p_PC_variousTails_sims/saturation_DPPC-POPC_titration/perm_particle_EOLS/sat-unsat_161-18_d_5/sim1_awh_fluid\n",
      "./cholesterol15p_PC_variousTails_sims/saturation_DPPC-POPC_titration/perm_particle_EOLS/sat-unsat_0-179_d_50/sim1_awh_gel\n",
      "./cholesterol15p_PC_variousTails_sims/saturation_DPPC-POPC_titration/perm_particle_EOLS/sat-unsat_179-0_d_0/sim1_awh_gel\n",
      "./cholesterol15p_PC_variousTails_sims/saturation_DPPC-POPC_titration/perm_particle_EOLS/sat-unsat_179-0_d_0/sim1_awh_fluid(1)\n",
      "./cholesterol15p_PC_variousTails_sims/saturation_DPPC-POPC_titration/perm_particle_EOLS/sat-unsat_179-0_d_0/sim1_awh_gel(1)\n",
      "./cholesterol15p_PC_variousTails_sims/saturation_DPPC-POPC_titration/perm_particle_EOLS/sat-unsat_143-36_d_10/sim1_awh_gel\n",
      "./cholesterol15p_PC_variousTails_sims/saturation_DPPC-POPC_titration/perm_particle_EOLS/sat-unsat_143-36_d_10/sim1_awh_fluid\n",
      "./cholesterol15p_PC_variousTails_sims/saturation_DPPC-POPC_titration/perm_particle_EOLS/sat-unsat_17-162_d_45/sim1_awh_gel\n",
      "./cholesterol15p_PC_variousTails_sims/saturation_DPPC-POPC_titration/perm_particle_EOLS/sat-unsat_17-162_d_45/sim1_awh_fluid\n",
      "./cholesterol15p_PC_variousTails_sims/saturation_DPPC-POPC_titration/perm_particle_EOLS/sat-unsat_89-90_d_25/sim1_awh_gel\n",
      "./cholesterol15p_PC_variousTails_sims/saturation_DPPC-POPC_titration/perm_particle_EOLS/sat-unsat_89-90_d_25/sim1_awh_fluid\n",
      "./cholesterol15p_PC_variousTails_sims/saturation_DPPC-POPC_titration/perm_particle_EOLS/sat-unsat_125-54_d_15/sim1_awh_gel\n",
      "./cholesterol15p_PC_variousTails_sims/saturation_DPPC-POPC_titration/perm_particle_EOLS/sat-unsat_125-54_d_15/sim1_awh_fluid\n",
      "./cholesterol15p_PC_variousTails_sims/saturation_DPPC-POPC_titration/perm_particle_EOLS/sat-unsat_35-144_d_40/sim1_awh_gel\n",
      "./cholesterol15p_PC_variousTails_sims/saturation_DPPC-POPC_titration/perm_particle_EOLS/sat-unsat_35-144_d_40/sim1_awh_fluid\n",
      "./cholesterol15p_PC_variousTails_sims/saturation_DPPC-POPC_titration/perm_particle_EOLS/sat-unsat_53-126_d_35/sim1_awh_gel\n",
      "./cholesterol15p_PC_variousTails_sims/saturation_DPPC-POPC_titration/perm_particle_EOLS/sat-unsat_53-126_d_35/sim1_awh_fluid\n",
      "./cholesterol15p_PC_variousTails_sims/memb_00pEthanol_tails_PO_heads_PE-PC_Temp_293K/01_POPC-CHOL15_martini3/sim1-awh\n",
      "./cholesterol15p_PC_variousTails_sims/memb_00pEthanol_tails_PO_heads_PE-PC_Temp_293K/03_2POPC-1POPE-CHOL15_martini3/sim1-awh\n",
      "./cholesterol15p_PC_variousTails_sims/memb_00pEthanol_tails_DP_heads_PE-PC_Temp_293K/03_2DPPC-1DPPE-CHOL15_martini3/sim1-awh\n",
      "./cholesterol15p_PC_variousTails_sims/memb_00pEthanol_tails_DP_heads_PE-PC_Temp_293K/02_DPPC-POPC_1-1_CHOL15_martini3_smallEOL/sim2-reduced_dt\n",
      "./cholesterol15p_PC_variousTails_sims/memb_00pEthanol_tails_DP_heads_PE-PC_Temp_293K/02_DPPC-POPC_1-1_CHOL15_martini3_smallEOL/sim1-awh\n",
      "./cholesterol15p_PC_variousTails_sims/memb_00pEthanol_tails_DP_heads_PE-PC_Temp_293K/02_DPPC-POPC_1-1_CHOL15_martini3_smallEOL/sim3-awh_from-gel\n",
      "./cholesterol15p_PC_variousTails_sims/memb_00pEthanol_tails_DP_heads_PE-PC_Temp_293K/01_DPPC-CHOL15_martini3/sim1-awh_old_setting\n",
      "./cholesterol15p_PC_variousTails_sims/memb_00pEthanol_tails_DP_heads_PE-PC_Temp_293K/01_DPPC-CHOL15_martini3/sim1-awh_gel\n",
      "./cholesterol30p_PC_variousTails_sims/saturation_DPPC-POPC_titration/perm_particle_EOLR/sat-unsat_107-72_d_20/sim1_awh_LOrdered\n",
      "./cholesterol30p_PC_variousTails_sims/saturation_DPPC-POPC_titration/perm_particle_EOLR/sat-unsat_71-108_d_30/sim1_awh_LOrdered\n",
      "./cholesterol30p_PC_variousTails_sims/saturation_DPPC-POPC_titration/perm_particle_EOLR/sat-unsat_161-18_d_5/sim1_awh_LOrdered\n",
      "./cholesterol30p_PC_variousTails_sims/saturation_DPPC-POPC_titration/perm_particle_EOLR/sat-unsat_0-179_d_50/sim1_awh_LOrdered\n",
      "./cholesterol30p_PC_variousTails_sims/saturation_DPPC-POPC_titration/perm_particle_EOLR/sat-unsat_179-0_d_0/sim1_awh_LOrdered\n",
      "./cholesterol30p_PC_variousTails_sims/saturation_DPPC-POPC_titration/perm_particle_EOLR/sat-unsat_143-36_d_10/sim1_awh_LOrdered\n",
      "./cholesterol30p_PC_variousTails_sims/saturation_DPPC-POPC_titration/perm_particle_EOLR/sat-unsat_17-162_d_45/sim1_awh_LOrdered\n",
      "./cholesterol30p_PC_variousTails_sims/saturation_DPPC-POPC_titration/perm_particle_EOLR/sat-unsat_89-90_d_25/sim1_awh_LOrdered\n",
      "./cholesterol30p_PC_variousTails_sims/saturation_DPPC-POPC_titration/perm_particle_EOLR/sat-unsat_125-54_d_15/sim1_awh_LOrdered\n",
      "./cholesterol30p_PC_variousTails_sims/saturation_DPPC-POPC_titration/perm_particle_EOLR/sat-unsat_35-144_d_40/sim1_awh_LOrdered\n",
      "./cholesterol30p_PC_variousTails_sims/saturation_DPPC-POPC_titration/perm_particle_EOLR/sat-unsat_53-126_d_35/sim1_awh_LOrdered\n",
      "./cholesterol30p_PC_variousTails_sims/saturation_DPPC-POPC_titration/perm_particle_EOLT/sat-unsat_107-72_d_20/sim1_awh_LOrdered\n",
      "./cholesterol30p_PC_variousTails_sims/saturation_DPPC-POPC_titration/perm_particle_EOLT/sat-unsat_71-108_d_30/sim1_awh_LOrdered\n",
      "./cholesterol30p_PC_variousTails_sims/saturation_DPPC-POPC_titration/perm_particle_EOLT/sat-unsat_161-18_d_5/sim1_awh_LOrdered\n",
      "./cholesterol30p_PC_variousTails_sims/saturation_DPPC-POPC_titration/perm_particle_EOLT/sat-unsat_0-179_d_50/sim1_awh_LOrdered\n",
      "./cholesterol30p_PC_variousTails_sims/saturation_DPPC-POPC_titration/perm_particle_EOLT/sat-unsat_179-0_d_0/sim1_awh_LOrdered\n",
      "./cholesterol30p_PC_variousTails_sims/saturation_DPPC-POPC_titration/perm_particle_EOLT/sat-unsat_143-36_d_10/sim1_awh_LOrdered\n",
      "./cholesterol30p_PC_variousTails_sims/saturation_DPPC-POPC_titration/perm_particle_EOLT/sat-unsat_17-162_d_45/sim1_awh_LOrdered\n",
      "./cholesterol30p_PC_variousTails_sims/saturation_DPPC-POPC_titration/perm_particle_EOLT/sat-unsat_89-90_d_25/sim1_awh_LOrdered\n",
      "./cholesterol30p_PC_variousTails_sims/saturation_DPPC-POPC_titration/perm_particle_EOLT/sat-unsat_125-54_d_15/sim1_awh_LOrdered\n",
      "./cholesterol30p_PC_variousTails_sims/saturation_DPPC-POPC_titration/perm_particle_EOLT/sat-unsat_35-144_d_40/sim1_awh_LOrdered\n",
      "./cholesterol30p_PC_variousTails_sims/saturation_DPPC-POPC_titration/perm_particle_EOLT/sat-unsat_53-126_d_35/sim1_awh_LOrdered\n",
      "./cholesterol30p_PC_variousTails_sims/saturation_DPPC-POPC_titration/perm_particle_EOLS/sat-unsat_107-72_d_20/sim1_awh_LOrdered\n",
      "./cholesterol30p_PC_variousTails_sims/saturation_DPPC-POPC_titration/perm_particle_EOLS/sat-unsat_71-108_d_30/sim1_awh_LOrdered\n",
      "./cholesterol30p_PC_variousTails_sims/saturation_DPPC-POPC_titration/perm_particle_EOLS/sat-unsat_161-18_d_5/sim1_awh_LOrdered\n",
      "./cholesterol30p_PC_variousTails_sims/saturation_DPPC-POPC_titration/perm_particle_EOLS/sat-unsat_0-179_d_50/sim1_awh_LOrdered\n",
      "./cholesterol30p_PC_variousTails_sims/saturation_DPPC-POPC_titration/perm_particle_EOLS/sat-unsat_179-0_d_0/sim1_awh_LOrdered\n",
      "./cholesterol30p_PC_variousTails_sims/saturation_DPPC-POPC_titration/perm_particle_EOLS/sat-unsat_179-0_d_0/sim1_awh_LOrdered(1)\n",
      "./cholesterol30p_PC_variousTails_sims/saturation_DPPC-POPC_titration/perm_particle_EOLS/sat-unsat_143-36_d_10/sim1_awh_LOrdered\n",
      "./cholesterol30p_PC_variousTails_sims/saturation_DPPC-POPC_titration/perm_particle_EOLS/sat-unsat_17-162_d_45/sim1_awh_LOrdered\n",
      "./cholesterol30p_PC_variousTails_sims/saturation_DPPC-POPC_titration/perm_particle_EOLS/sat-unsat_89-90_d_25/sim1_awh_LOrdered\n",
      "./cholesterol30p_PC_variousTails_sims/saturation_DPPC-POPC_titration/perm_particle_EOLS/sat-unsat_125-54_d_15/sim1_awh_LOrdered\n",
      "./cholesterol30p_PC_variousTails_sims/saturation_DPPC-POPC_titration/perm_particle_EOLS/sat-unsat_35-144_d_40/sim1_awh_LOrdered\n",
      "./cholesterol30p_PC_variousTails_sims/saturation_DPPC-POPC_titration/perm_particle_EOLS/sat-unsat_53-126_d_35/sim1_awh_LOrdered\n",
      "./cholesterol30p_PC_variousTails_sims/prep_min_eq/long_eq\n",
      "./permeant_particle_sizes/EOL_small/DPPC_di-C16-C18-0/DPPC_293K/sim1-awh\n",
      "./permeant_particle_sizes/EOL_small/DPPC_di-C16-C18-0/DPPC_288K/sim1-awh\n",
      "./permeant_particle_sizes/EOL_small/DPPC_di-C16-C18-0/DPPC_288K/sim2-awh\n",
      "./permeant_particle_sizes/EOL_small/POPC_C16-C18-0-1/POPC_293K/sim1-awh\n",
      "./permeant_particle_sizes/EOL_small/POPC_C16-C18-0-1/POPC_288K/sim1-awh\n",
      "./permeant_particle_sizes/EOL_small/saturation_titration/PC_d20p0_293K/sim1_awh_gel\n",
      "./permeant_particle_sizes/EOL_small/saturation_titration/PC_d20p0_293K/sim1_awh_fluid\n",
      "./permeant_particle_sizes/EOL_small/saturation_titration/PC_d05p0_293K/sim1_awh_gel\n",
      "./permeant_particle_sizes/EOL_small/saturation_titration/PC_d05p0_293K/sim1_awh_fluid\n",
      "./permeant_particle_sizes/EOL_small/saturation_titration/PC_d02p4_293K/sim1_awh_gel\n",
      "./permeant_particle_sizes/EOL_small/saturation_titration/PC_d02p4_293K/sim1_awh_fluid\n",
      "./permeant_particle_sizes/EOL_small/saturation_titration/PC_d15p0_293K/sim1_awh_gel\n",
      "./permeant_particle_sizes/EOL_small/saturation_titration/PC_d15p0_293K/sim1_awh_fluid\n",
      "./permeant_particle_sizes/EOL_small/saturation_titration/PC_d25p0_293K/sim1_awh_gel\n",
      "./permeant_particle_sizes/EOL_small/saturation_titration/PC_d25p0_293K/sim1_awh_fluid\n",
      "./permeant_particle_sizes/EOL_small/saturation_titration/PC_d07p5_293K/sim1_awh_gel\n",
      "./permeant_particle_sizes/EOL_small/saturation_titration/PC_d07p5_293K/sim1_awh_fluid\n",
      "./permeant_particle_sizes/EOL_small/saturation_titration/PC_d10p0_293K/sim1_awh_gel\n",
      "./permeant_particle_sizes/EOL_small/saturation_titration/PC_d10p0_293K/sim1_awh_fluid\n",
      "./permeant_particle_sizes/EOL_small/saturation_titration/PC_d00p0_293K/sim1_awh_gel\n",
      "./permeant_particle_sizes/EOL_small/saturation_titration/PC_d00p0_293K/sim1_awh_fluid\n",
      "./permeant_particle_sizes/EOL_small/saturation_titration/PC_d50p0_293K/sim1_awh_gel\n",
      "./permeant_particle_sizes/EOL_small/saturation_titration/PC_d50p0_293K/sim1_awh_fluid\n",
      "./permeant_particle_sizes/EOL_small/saturation_titration/PC_d02p7_293K/sim1_awh_gel\n",
      "./permeant_particle_sizes/EOL_small/saturation_titration/PC_d02p7_293K/sim1_awh_fluid\n",
      "./permeant_particle_sizes/EOL_small/cholesterol15p_sims_293K/memb_00pEthanol_tails_DP_heads_PE-PC_Temp_288K/01_DPPC-CHOL15_martini3/sim1-awh\n",
      "./permeant_particle_sizes/EOL_small/cholesterol15p_sims_293K/memb_00pEthanol_tails_PO_heads_PE-PC_Temp_293K/01_POPC-CHOL15_martini3/sim1-awh\n",
      "./permeant_particle_sizes/EOL_small/cholesterol15p_sims_293K/memb_00pEthanol_tails_PO_heads_PE-PC_Temp_293K/03_2POPC-1POPE-CHOL15_martini3/sim1-awh\n",
      "./permeant_particle_sizes/EOL_small/cholesterol15p_sims_293K/memb_00pEthanol_tails_DP_heads_PE-PC_Temp_293K/03_2DPPC-1DPPE-CHOL15_martini3/sim1-awh\n",
      "./permeant_particle_sizes/EOL_small/cholesterol15p_sims_293K/memb_00pEthanol_tails_DP_heads_PE-PC_Temp_293K/01_DPPC-CHOL15_martini3/sim1-awh\n",
      "./permeant_particle_sizes/EOL_tiny/DPPC_di-C16-C18-0/DPPC_293K/sim1-awh\n",
      "./permeant_particle_sizes/EOL_tiny/DPPC_di-C16-C18-0/DPPC_288K/sim1-awh\n",
      "./permeant_particle_sizes/EOL_tiny/DPPC_di-C16-C18-0/DPPC_288K/sim2-awh\n",
      "./permeant_particle_sizes/EOL_tiny/POPC_C16-C18-0-1/POPC_293K/sim1-awh\n",
      "./permeant_particle_sizes/EOL_tiny/POPC_C16-C18-0-1/POPC_288K/sim1-awh\n",
      "./permeant_particle_sizes/EOL_tiny/saturation_titration/DPPC_testing-awh-setting/PC_d20p0_293K/sim3-awh2\n",
      "./permeant_particle_sizes/EOL_tiny/saturation_titration/DPPC_testing-awh-setting/PC_d05p0_293K/sim3-awh\n",
      "./permeant_particle_sizes/EOL_tiny/saturation_titration/DPPC_testing-awh-setting/PC_d05p0_293K/sim4-awh2\n",
      "./permeant_particle_sizes/EOL_tiny/saturation_titration/DPPC_testing-awh-setting/PC_d05p0_293K/sim1-awh\n",
      "./permeant_particle_sizes/EOL_tiny/saturation_titration/DPPC_testing-awh-setting/PC_d05p0_293K/sim3-awh3\n",
      "./permeant_particle_sizes/EOL_tiny/saturation_titration/DPPC_testing-awh-setting/PC_d05p0_293K/sim3-awh2\n",
      "./permeant_particle_sizes/EOL_tiny/saturation_titration/DPPC_testing-awh-setting/PC_d02p4_293K/sim3-awh3-dppc_begprof\n",
      "./permeant_particle_sizes/EOL_tiny/saturation_titration/DPPC_testing-awh-setting/PC_d02p4_293K/sim3-awh\n",
      "./permeant_particle_sizes/EOL_tiny/saturation_titration/DPPC_testing-awh-setting/PC_d02p4_293K/sim1-awh\n",
      "./permeant_particle_sizes/EOL_tiny/saturation_titration/DPPC_testing-awh-setting/PC_d02p4_293K/sim2-awh\n",
      "./permeant_particle_sizes/EOL_tiny/saturation_titration/DPPC_testing-awh-setting/PC_d02p4_293K/sim3-awh2\n",
      "./permeant_particle_sizes/EOL_tiny/saturation_titration/DPPC_testing-awh-setting/PC_d15p0_293K/sim2-awh\n",
      "./permeant_particle_sizes/EOL_tiny/saturation_titration/DPPC_testing-awh-setting/PC_d15p0_293K/sim3-awh2\n",
      "./permeant_particle_sizes/EOL_tiny/saturation_titration/DPPC_testing-awh-setting/PC_d25p0_293K/sim3-awh2\n",
      "./permeant_particle_sizes/EOL_tiny/saturation_titration/DPPC_testing-awh-setting/PC_d07p5_293K/sim1-awh\n",
      "./permeant_particle_sizes/EOL_tiny/saturation_titration/DPPC_testing-awh-setting/PC_d10p0_293K/sim3-awh\n",
      "./permeant_particle_sizes/EOL_tiny/saturation_titration/DPPC_testing-awh-setting/PC_d10p0_293K/sim1-awh\n",
      "./permeant_particle_sizes/EOL_tiny/saturation_titration/DPPC_testing-awh-setting/PC_d10p0_293K/sim2-awh\n",
      "./permeant_particle_sizes/EOL_tiny/saturation_titration/DPPC_testing-awh-setting/PC_d10p0_293K/sim3-awh3\n",
      "./permeant_particle_sizes/EOL_tiny/saturation_titration/DPPC_testing-awh-setting/PC_d10p0_293K/sim3-awh2\n",
      "./permeant_particle_sizes/EOL_tiny/saturation_titration/DPPC_testing-awh-setting/PC_d00p0_293K/sim3-awh\n",
      "./permeant_particle_sizes/EOL_tiny/saturation_titration/DPPC_testing-awh-setting/PC_d00p0_293K/sim1-awh\n",
      "./permeant_particle_sizes/EOL_tiny/saturation_titration/DPPC_testing-awh-setting/PC_d00p0_293K/sim2-awh\n",
      "./permeant_particle_sizes/EOL_tiny/saturation_titration/DPPC_testing-awh-setting/PC_d00p0_293K/sim3-awh2\n",
      "./permeant_particle_sizes/EOL_tiny/saturation_titration/DPPC_testing-awh-setting/PC_d50p0_293K/sim3-awh\n",
      "./permeant_particle_sizes/EOL_tiny/saturation_titration/DPPC_testing-awh-setting/PC_d02p7_293K/sim1-awh\n",
      "./permeant_particle_sizes/EOL_tiny/cholesterol15p_sims_293K/memb_00pEthanol_tails_DP_heads_PE-PC_Temp_288K/01_DPPC-CHOL15_martini3/sim1-awh\n",
      "./permeant_particle_sizes/EOL_tiny/cholesterol15p_sims_293K/memb_00pEthanol_tails_PO_heads_PE-PC_Temp_293K/01_POPC-CHOL15_martini3/sim1-awh\n",
      "./permeant_particle_sizes/EOL_tiny/cholesterol15p_sims_293K/memb_00pEthanol_tails_PO_heads_PE-PC_Temp_293K/03_2POPC-1POPE-CHOL15_martini3/sim1-awh\n",
      "./permeant_particle_sizes/EOL_tiny/cholesterol15p_sims_293K/memb_00pEthanol_tails_DP_heads_PE-PC_Temp_293K/03_2DPPC-1DPPE-CHOL15_martini3/sim1-awh\n",
      "./permeant_particle_sizes/EOL_tiny/cholesterol15p_sims_293K/memb_00pEthanol_tails_DP_heads_PE-PC_Temp_293K/01_DPPC-CHOL15_martini3/sim1-awh\n",
      "./permeant_particle_sizes/EOL_regular/DPPC_di-C16-C18-0/DPPC_293K/sim1-awh\n",
      "./permeant_particle_sizes/EOL_regular/DPPC_di-C16-C18-0/DPPC_288K/sim1-awh\n",
      "./permeant_particle_sizes/EOL_regular/DPPC_di-C16-C18-0/DPPC_288K/sim2-awh\n",
      "./permeant_particle_sizes/EOL_regular/POPC_C16-C18-0-1/POPC_293K/sim1-awh\n",
      "./permeant_particle_sizes/EOL_regular/POPC_C16-C18-0-1/POPC_288K/sim1-awh\n",
      "./permeant_particle_sizes/EOL_regular/saturation_titration/PC_d20p0_293K/sim1_awh_gel\n",
      "./permeant_particle_sizes/EOL_regular/saturation_titration/PC_d20p0_293K/sim1_awh_fluid\n",
      "./permeant_particle_sizes/EOL_regular/saturation_titration/PC_d05p0_293K/sim1_awh_gel\n",
      "./permeant_particle_sizes/EOL_regular/saturation_titration/PC_d05p0_293K/sim1_awh_fluid\n",
      "./permeant_particle_sizes/EOL_regular/saturation_titration/PC_d02p4_293K/sim1_awh_gel\n",
      "./permeant_particle_sizes/EOL_regular/saturation_titration/PC_d02p4_293K/sim1_awh_fluid\n",
      "./permeant_particle_sizes/EOL_regular/saturation_titration/PC_d15p0_293K/sim1_awh_gel\n",
      "./permeant_particle_sizes/EOL_regular/saturation_titration/PC_d15p0_293K/sim1_awh_fluid\n",
      "./permeant_particle_sizes/EOL_regular/saturation_titration/PC_d25p0_293K/sim1_awh_gel\n",
      "./permeant_particle_sizes/EOL_regular/saturation_titration/PC_d25p0_293K/sim1_awh_fluid\n",
      "./permeant_particle_sizes/EOL_regular/saturation_titration/PC_d07p5_293K/sim1_awh_gel\n",
      "./permeant_particle_sizes/EOL_regular/saturation_titration/PC_d07p5_293K/sim1_awh_fluid\n",
      "./permeant_particle_sizes/EOL_regular/saturation_titration/PC_d10p0_293K/sim1_awh_gel\n",
      "./permeant_particle_sizes/EOL_regular/saturation_titration/PC_d10p0_293K/sim1_awh_fluid\n",
      "./permeant_particle_sizes/EOL_regular/saturation_titration/PC_d00p0_293K/sim1_awh_gel\n",
      "./permeant_particle_sizes/EOL_regular/saturation_titration/PC_d00p0_293K/sim1_awh_fluid\n",
      "./permeant_particle_sizes/EOL_regular/saturation_titration/PC_d50p0_293K/sim1_awh_gel\n",
      "./permeant_particle_sizes/EOL_regular/saturation_titration/PC_d50p0_293K/sim1_awh_fluid\n",
      "./permeant_particle_sizes/EOL_regular/saturation_titration/PC_d02p7_293K/sim1_awh_gel\n",
      "./permeant_particle_sizes/EOL_regular/saturation_titration/PC_d02p7_293K/sim1_awh_fluid\n",
      "./permeant_particle_sizes/EOL_regular/cholesterol15p_sims_293K/memb_00pEthanol_tails_DP_heads_PE-PC_Temp_288K/01_DPPC-CHOL15_martini3/sim1-awh\n",
      "./permeant_particle_sizes/EOL_regular/cholesterol15p_sims_293K/memb_00pEthanol_tails_PO_heads_PE-PC_Temp_293K/01_POPC-CHOL15_martini3/sim1-awh\n",
      "./permeant_particle_sizes/EOL_regular/cholesterol15p_sims_293K/memb_00pEthanol_tails_PO_heads_PE-PC_Temp_293K/03_2POPC-1POPE-CHOL15_martini3/sim1-awh\n",
      "./permeant_particle_sizes/EOL_regular/cholesterol15p_sims_293K/memb_00pEthanol_tails_DP_heads_PE-PC_Temp_293K/03_2DPPC-1DPPE-CHOL15_martini3/sim1-awh\n",
      "./permeant_particle_sizes/EOL_regular/cholesterol15p_sims_293K/memb_00pEthanol_tails_DP_heads_PE-PC_Temp_293K/01_DPPC-CHOL15_martini3/sim1-awh\n",
      "./cholesterol00p_PC_variousTails_sims/saturation_DPPC-POPC_titration/perm_particle_EOLS/sat-unsat_169-0_d_0/sim1_awh_gel\n",
      "./cholesterol00p_PC_variousTails_sims/saturation_DPPC-POPC_titration/perm_particle_EOLS/dopc-unsat_0-169_d_100/sim2_awh_fluid_AWHk2k_pull10k_linear_SC6\n",
      "./cholesterol00p_PC_variousTails_sims/saturation_DPPC-POPC_titration/perm_particle_EOLS/dopc-unsat_0-169_d_100/sim2_awh_fluid_AWHk2k_pull10k_linear_SP6\n",
      "./cholesterol00p_PC_variousTails_sims/saturation_DPPC-POPC_titration/perm_particle_EOLS/dopc-unsat_0-169_d_100/sim2_awh_fluid_AWHk2k_pull10k_linear_N5\n",
      "./cholesterol00p_PC_variousTails_sims/saturation_DPPC-POPC_titration/perm_particle_EOLS/dopc-unsat_0-169_d_100/sim2_awh_fluid_AWHk2k_pull10k_linear_SN3\n",
      "./cholesterol00p_PC_variousTails_sims/saturation_DPPC-POPC_titration/perm_particle_EOLS/dopc-unsat_0-169_d_100/sim2_awh_fluid_AWHk2k_pull10k_linear_SC5\n",
      "./cholesterol00p_PC_variousTails_sims/saturation_DPPC-POPC_titration/perm_particle_EOLS/dopc-unsat_0-169_d_100/sim2_awh_fluid_AWHk2k_pull10k_linear_SN5\n",
      "./cholesterol00p_PC_variousTails_sims/saturation_DPPC-POPC_titration/perm_particle_EOLS/dopc-unsat_0-169_d_100/sim2_awh_fluid_AWHk2k_pull10k_linear_N1\n",
      "./cholesterol00p_PC_variousTails_sims/saturation_DPPC-POPC_titration/perm_particle_EOLS/dopc-unsat_0-169_d_100/sim2_awh_fluid_AWHk2k_pull10k_linear_SP3\n",
      "./cholesterol00p_PC_variousTails_sims/saturation_DPPC-POPC_titration/perm_particle_EOLS/dopc-unsat_0-169_d_100/sim2_awh_fluid_AWHk2k_pull10k_linear_SN1\n",
      "./cholesterol00p_PC_variousTails_sims/saturation_DPPC-POPC_titration/perm_particle_EOLS/dopc-unsat_0-169_d_100/sim2_awh_fluid_AWHk2k_pull10k_linear_SN2\n",
      "./cholesterol00p_PC_variousTails_sims/saturation_DPPC-POPC_titration/perm_particle_EOLS/sat-unsat_0-169_d_50/sim2_awh_fluid_AWHk2k_pull10k_linear_SP6\n",
      "./cholesterol00p_PC_variousTails_sims/saturation_DPPC-POPC_titration/perm_particle_EOLS/sat-unsat_0-169_d_50/sim1_awh_fluid_AWHk2k_pull10k_linear\n",
      "./cholesterol00p_PC_variousTails_sims/saturation_DPPC-POPC_titration/perm_particle_EOLS/sat-unsat_0-169_d_50/sim1_awh_fluid_AWHk2k_pull10k_linear_P6\n",
      "./cholesterol00p_PC_variousTails_sims/saturation_DPPC-POPC_titration/perm_particle_EOLS/sat-unsat_0-169_d_50/sim1_awh_fluid_smallerAWHk9k_pull99k\n",
      "./cholesterol00p_PC_variousTails_sims/saturation_DPPC-POPC_titration/perm_particle_EOLS/sat-unsat_0-169_d_50/sim2_awh_fluid_AWHk2k_pull10k_linear_SN3\n",
      "./cholesterol00p_PC_variousTails_sims/saturation_DPPC-POPC_titration/perm_particle_EOLS/sat-unsat_0-169_d_50/sim2_awh_fluid_AWHk2k_pull10k_linear_SN5\n",
      "./cholesterol00p_PC_variousTails_sims/saturation_DPPC-POPC_titration/perm_particle_EOLS/sat-unsat_0-169_d_50/sim2_awh_fluid_AWHk2k_pull10k_linear_SP3\n",
      "./cholesterol00p_PC_variousTails_sims/saturation_DPPC-POPC_titration/perm_particle_EOLS/sat-unsat_0-169_d_50/sim1_awh_fluid\n",
      "./cholesterol00p_PC_variousTails_sims/saturation_DPPC-POPC_titration/perm_particle_EOLS/sat-unsat_0-169_d_50/sim1_awh_fluid_AWHk2k_pull10k_linear_amp\n",
      "./cholesterol00p_PC_variousTails_sims/saturation_DPPC-POPC_titration/perm_particle_EOLS/sat-unsat_0-169_d_50/sim2_awh_fluid_AWHk2k_pull10k_linear_SN1\n",
      "./cholesterol00p_PC_variousTails_sims/saturation_DPPC-POPC_titration/perm_particle_EOLS/sat-unsat_0-169_d_50/sim1_awh_fluid_AWHk2k_pull4k\n",
      "./cholesterol00p_PC_variousTails_sims/saturation_DPPC-POPC_titration/perm_particle_EOLS/sat-unsat_0-169_d_50/sim1_awh_fluid_smallerAWHk1k_pull9k\n",
      "./cholesterol00p_PC_variousTails_sims/saturation_DPPC-POPC_titration/perm_particle_EOLS/sat-unsat_0-169_d_50/sim1_awh_fluid_AWHk2k_pull10k_linear_10psupdate\n",
      "./cholesterol00p_PC_variousTails_sims/saturation_DPPC-POPC_titration/perm_particle_EOLS/sat-unsat_0-169_d_50/sim1_awh_fluid_AWHk2k_pull20k_linear\n",
      "./cholesterol00p_PC_variousTails_sims/membrane_thickness_unsaturated_tails/DNPC_di-C24-C26-1/awh-perm\n",
      "./cholesterol00p_PC_variousTails_sims/membrane_thickness_unsaturated_tails/DYPC_di-C12-C14-1/awh-perm\n",
      "./cholesterol00p_PC_variousTails_sims/membrane_thickness_unsaturated_tails/DOPC_di-C16-C18-1/awh-perm\n",
      "./cholesterol00p_PC_variousTails_sims/membrane_thickness_unsaturated_tails/DGPC_di-C20-C22-1/awh-perm\n",
      "./noCholesterol_PC_variousTails_sims/POPC_C16-C18-0-1/POPC_293K/sim1-awh\n",
      "./noCholesterol_PC_variousTails_sims/POPC_C16-C18-0-1/POPC_288K/sim1-awh\n"
     ]
    }
   ],
   "source": [
    "# find all pullx files in the curdir and below\n",
    "pullx_files = find(\"pullx.xvg\", os.curdir)\n",
    "\n",
    "# create Simulation class instance based on the generated data\n",
    "sims    = []\n",
    "for f in pullx_files:\n",
    "    dirname = os.path.dirname(f)\n",
    "    numcont_fname = os.path.join(dirname, \"numcont_particle-solvent.xvg\")\n",
    "    sim = Simulation(pullx_fname=f, numcont_fname=numcont_fname)\n",
    "    sims.append(sim)\n",
    "    print(dirname)\n"
   ]
  },
  {
   "cell_type": "markdown",
   "metadata": {},
   "source": [
    "## POPC + sterols membranes"
   ]
  },
  {
   "cell_type": "code",
   "execution_count": 53,
   "metadata": {},
   "outputs": [],
   "source": [
    "#selected_particles = [\"SC5\", \"SP3\", \"SP6\", \"SN2\", \"SN3\"]\n",
    "sns.set_palette(\"Blues_r\", n_colors=4)  #len(sims))"
   ]
  },
  {
   "cell_type": "code",
   "execution_count": 54,
   "metadata": {},
   "outputs": [],
   "source": [
    "# selection for \"all\" and \"any\" functions\n",
    "# these shall select simulations with d=0 (saturated) and the listed sterol concentrations\n",
    "sel_kwords_dirname = [\"EOLS\", \"d_50\"]\n",
    "sel_kwords_dirname_any = [\"0p\", \"15p\", \"30p\", \"45p\"]"
   ]
  },
  {
   "cell_type": "code",
   "execution_count": 55,
   "metadata": {},
   "outputs": [
    {
     "name": "stdout",
     "output_type": "stream",
     "text": [
      "./cholesterol00p_PC_variousTails_sims/saturation_DPPC-POPC_titration/perm_particle_EOLS/sat-unsat_0-169_d_50/sim1_awh_fluid\n",
      "./cholesterol15p_PC_variousTails_sims/saturation_DPPC-POPC_titration/perm_particle_EOLS/sat-unsat_0-179_d_50/sim1_awh_gel\n",
      "./cholesterol30p_PC_variousTails_sims/saturation_DPPC-POPC_titration/perm_particle_EOLS/sat-unsat_0-179_d_50/sim1_awh_LOrdered\n",
      "./cholesterol45p_PC_variousTails_sims/saturation_DPPC-POPC_titration/perm_particle_EOLS/sat-unsat_0-118_d_50/sim1_awh_LOrdered\n"
     ]
    }
   ],
   "source": [
    "# set the plotting label from the dirname\n",
    "sims_popc = []\n",
    "for s in sims:\n",
    "    # this shall select the sterol concentration as written in the directory name\n",
    "    # and apply it as an attribute \"label\" to the simulation instance\n",
    "    s.label = s.dirname[13:15]\n",
    "    if all(x in s.dirname for x in sel_kwords_dirname) and any(x in s.dirname for x in sel_kwords_dirname_any) and not any(x in s.dirname for x in [\"AWHk\", \"(1)\"]):\n",
    "        print(s.dirname)\n",
    "        sims_popc.append(s)"
   ]
  },
  {
   "cell_type": "code",
   "execution_count": 56,
   "metadata": {},
   "outputs": [],
   "source": [
    "# sort the list of simulations after their particle name (follows solubility, yay!)\n",
    "sims.sort(key=lambda sim: sim.label)"
   ]
  },
  {
   "cell_type": "code",
   "execution_count": 58,
   "metadata": {},
   "outputs": [
    {
     "data": {
      "image/png": "[encoded data removed]",
      "text/plain": [
       "<Figure size 316.8x158.4 with 1 Axes>"
      ]
     },
     "metadata": {
      "needs_background": "light"
     },
     "output_type": "display_data"
    }
   ],
   "source": [
    "# make a plot of the solvent accessibility profile for each simulation \n",
    "for sim in sims:\n",
    "    s = sim\n",
    "    if all(x in s.dirname for x in sel_kwords_dirname) and any(x in s.dirname for x in sel_kwords_dirname_any) and not any(x in s.dirname for x in [\"AWHk\", \"(1)\"]):   #any(x in sim.dirname for x in selected_particles):\n",
    "        try: \n",
    "            fig = sim.plot_mean_solv_profile(plt_label=\"{}% chol.\".format(sim.label), plt_solvdeg=True)\n",
    "        except:\n",
    "            pass\n",
    "\n",
    "#fig.figure.set_size_inches([4.4,2.2])\n",
    "fig.set_xlabel(\"distance (nm)\")\n",
    "fig.set_ylabel(\"solvent accessibility\")\n",
    "\n",
    "fig.set_xlim([-0.1, 4.1])\n",
    "fig.figure.savefig(\"solvent_accessibility_profiles_unsatur-d50_sterol-series.png\", dpi=150, bbox_inches='tight')\n",
    "\n",
    "fig.figure.set_size_inches([4.4,2.2])\n",
    "fig.set_xlim([0.0,3.0])\n",
    "fig.figure.savefig(\"solvent_accessibility_profiles_unsatur-d50_sterol-series_zoomin.png\", dpi=150, bbox_inches='tight')\n"
   ]
  },
  {
   "cell_type": "code",
   "execution_count": 59,
   "metadata": {
    "scrolled": true
   },
   "outputs": [
    {
     "data": {
      "image/png": "[encoded data removed]",
      "text/plain": [
       "<Figure size 432x288 with 1 Axes>"
      ]
     },
     "metadata": {
      "needs_background": "light"
     },
     "output_type": "display_data"
    }
   ],
   "source": [
    "# make a plot of the mean solvation profile for each simulation \n",
    "for sim in sims:\n",
    "    s = sim\n",
    "    if all(x in s.dirname for x in sel_kwords_dirname) and any(x in s.dirname for x in sel_kwords_dirname_any) and not any(x in s.dirname for x in [\"AWHk\", \"(1)\"]):  #any(x in sim.dirname for x in selected_particles):\n",
    "        try: \n",
    "            fig = sim.plot_mean_solv_profile(plt_label=\"{}% chol.\".format(sim.label))\n",
    "        except:\n",
    "            pass\n",
    "\n",
    "#fig.figure.set_size_inches([4d.4,2.2])\n",
    "\n",
    "fig.set_xlabel(\"distance (nm)\")\n",
    "fig.set_ylabel(\"mean solvation\")\n",
    "        \n",
    "fig.figure.savefig(\"mean_solvation_profiles_unsatur-d50_sterol-series.png\", dpi=150, bbox_inches='tight')\n",
    "\n",
    "#fig.set_xlim([0.5,2.2])\n",
    "#fig.set_ylim([-0.1, 8.0])\n",
    "#fig.figure.savefig(\"mean_solvation_profiles_zoomin.png\", dpi=150, bbox_inches='tight')\n"
   ]
  },
  {
   "cell_type": "markdown",
   "metadata": {},
   "source": [
    "## DPPC + sterols membranes"
   ]
  },
  {
   "cell_type": "code",
   "execution_count": 41,
   "metadata": {},
   "outputs": [],
   "source": [
    "#selected_particles = [\"SC5\", \"SP3\", \"SP6\", \"SN2\", \"SN3\"]\n",
    "sns.set_palette(\"Reds_r\", n_colors=4)  #len(sims))"
   ]
  },
  {
   "cell_type": "code",
   "execution_count": 42,
   "metadata": {},
   "outputs": [],
   "source": [
    "# selection for \"all\" and \"any\" functions\n",
    "# these shall select simulations with d=0 (saturated) and the listed sterol concentrations\n",
    "sel_kwords_dirname = [\"EOLS\", \"d_0\"]\n",
    "sel_kwords_dirname_any = [\"0p\", \"15p\", \"30p\", \"45p\"]"
   ]
  },
  {
   "cell_type": "code",
   "execution_count": 43,
   "metadata": {},
   "outputs": [
    {
     "name": "stdout",
     "output_type": "stream",
     "text": [
      "./cholesterol00p_PC_variousTails_sims/saturation_DPPC-POPC_titration/perm_particle_EOLS/sat-unsat_169-0_d_0/sim1_awh_gel\n",
      "./cholesterol15p_PC_variousTails_sims/saturation_DPPC-POPC_titration/perm_particle_EOLS/sat-unsat_179-0_d_0/sim1_awh_gel\n",
      "./cholesterol30p_PC_variousTails_sims/saturation_DPPC-POPC_titration/perm_particle_EOLS/sat-unsat_179-0_d_0/sim1_awh_LOrdered\n",
      "./cholesterol45p_PC_variousTails_sims/saturation_DPPC-POPC_titration/perm_particle_EOLS/sat-unsat_118-0_d_0/sim1_awh_LOrdered\n"
     ]
    }
   ],
   "source": [
    "# set the plotting label from the dirname\n",
    "sims_dppc = []\n",
    "for s in sims:\n",
    "    # this shall select the sterol concentration as written in the directory name\n",
    "    # and apply it as an attribute \"label\" to the simulation instance\n",
    "    s.label = s.dirname[13:15]\n",
    "    if all(x in s.dirname for x in sel_kwords_dirname) and any(x in s.dirname for x in sel_kwords_dirname_any) and not any(x in s.dirname for x in [\"AWHk\", \"(1)\"]):\n",
    "        print(s.dirname)\n",
    "        sims_dppc.append(s)"
   ]
  },
  {
   "cell_type": "code",
   "execution_count": 44,
   "metadata": {},
   "outputs": [],
   "source": [
    "# sort the list of simulations after their particle name (follows solubility, yay!)\n",
    "sims.sort(key=lambda sim: sim.label)"
   ]
  },
  {
   "cell_type": "code",
   "execution_count": 50,
   "metadata": {},
   "outputs": [
    {
     "data": {
      "image/png": "[encoded data removed]",
      "text/plain": [
       "<Figure size 316.8x273.6 with 1 Axes>"
      ]
     },
     "metadata": {
      "needs_background": "light"
     },
     "output_type": "display_data"
    }
   ],
   "source": [
    "# make a plot of the solvent accessibility profile for each simulation \n",
    "for sim in sims:\n",
    "    s = sim\n",
    "    if all(x in s.dirname for x in sel_kwords_dirname) and any(x in s.dirname for x in sel_kwords_dirname_any) and not any(x in s.dirname for x in [\"AWHk\", \"(1)\"]):   #any(x in sim.dirname for x in selected_particles):\n",
    "        try: \n",
    "            fig = sim.plot_mean_solv_profile(plt_label=\"{}% chol.\".format(sim.label), plt_solvdeg=True)\n",
    "        except:\n",
    "            pass\n",
    "\n",
    "#fig.figure.set_size_inches([4.4,2.2])\n",
    "fig.set_xlabel(\"distance (nm)\")\n",
    "fig.set_ylabel(\"solvent accessibility\")\n",
    "\n",
    "fig.set_xlim([-0.1, 4.1])\n",
    "fig.figure.savefig(\"solvent_accessibility_profiles_satur-d0_sterol-series.png\", dpi=150, bbox_inches='tight')\n",
    "\n",
    "fig.figure.set_size_inches([4.4,3.8])\n",
    "fig.set_xlim([0.0,3.0])\n",
    "fig.figure.savefig(\"solvent_accessibility_profiles_satur-d0_sterol-series_zoomin.png\", dpi=150, bbox_inches='tight')\n"
   ]
  },
  {
   "cell_type": "code",
   "execution_count": 51,
   "metadata": {},
   "outputs": [
    {
     "data": {
      "image/png": "[encoded data removed]",
      "text/plain": [
       "<Figure size 432x288 with 1 Axes>"
      ]
     },
     "metadata": {
      "needs_background": "light"
     },
     "output_type": "display_data"
    }
   ],
   "source": [
    "# make a plot of the mean solvation profile for each simulation \n",
    "for sim in sims:\n",
    "    s = sim\n",
    "    if all(x in s.dirname for x in sel_kwords_dirname) and any(x in s.dirname for x in sel_kwords_dirname_any) and not any(x in s.dirname for x in [\"AWHk\", \"(1)\"]):  #any(x in sim.dirname for x in selected_particles):\n",
    "        try: \n",
    "            fig = sim.plot_mean_solv_profile(plt_label=\"{}% cholesterol\".format(sim.label))\n",
    "        except:\n",
    "            pass\n",
    "\n",
    "#fig.figure.set_size_inches([4.4,2.2])\n",
    "\n",
    "fig.set_xlabel(\"distance (nm)\")\n",
    "fig.set_ylabel(\"mean solvation\")\n",
    "        \n",
    "fig.figure.savefig(\"mean_solvation_profiles_satur-d0_sterol-series.png\", dpi=150, bbox_inches='tight')\n",
    "\n",
    "#fig.set_xlim([0.5,2.2])\n",
    "#fig.set_ylim([-0.1, 8.0])\n",
    "#fig.figure.savefig(\"mean_solvation_profiles_zoomin.png\", dpi=150, bbox_inches='tight')\n"
   ]
  },
  {
   "cell_type": "code",
   "execution_count": null,
   "metadata": {},
   "outputs": [],
   "source": []
  },
  {
   "cell_type": "markdown",
   "metadata": {},
   "source": [
    "## Plot both DPPC and POPC + sterols together!"
   ]
  },
  {
   "cell_type": "code",
   "execution_count": 30,
   "metadata": {},
   "outputs": [],
   "source": [
    "sims_dppc.reverse()\n",
    "sims_selplot = sims_popc + sims_dppc"
   ]
  },
  {
   "cell_type": "code",
   "execution_count": 31,
   "metadata": {
    "scrolled": true
   },
   "outputs": [
    {
     "name": "stdout",
     "output_type": "stream",
     "text": [
      "./cholesterol00p_PC_variousTails_sims/saturation_DPPC-POPC_titration/perm_particle_EOLS/sat-unsat_0-169_d_50/sim1_awh_fluid\n",
      "./cholesterol15p_PC_variousTails_sims/saturation_DPPC-POPC_titration/perm_particle_EOLS/sat-unsat_0-179_d_50/sim1_awh_gel\n",
      "./cholesterol30p_PC_variousTails_sims/saturation_DPPC-POPC_titration/perm_particle_EOLS/sat-unsat_0-179_d_50/sim1_awh_LOrdered\n",
      "./cholesterol45p_PC_variousTails_sims/saturation_DPPC-POPC_titration/perm_particle_EOLS/sat-unsat_0-118_d_50/sim1_awh_LOrdered\n",
      "./cholesterol45p_PC_variousTails_sims/saturation_DPPC-POPC_titration/perm_particle_EOLS/sat-unsat_118-0_d_0/sim1_awh_LOrdered\n",
      "./cholesterol30p_PC_variousTails_sims/saturation_DPPC-POPC_titration/perm_particle_EOLS/sat-unsat_179-0_d_0/sim1_awh_LOrdered\n",
      "./cholesterol15p_PC_variousTails_sims/saturation_DPPC-POPC_titration/perm_particle_EOLS/sat-unsat_179-0_d_0/sim1_awh_gel\n",
      "./cholesterol00p_PC_variousTails_sims/saturation_DPPC-POPC_titration/perm_particle_EOLS/sat-unsat_169-0_d_0/sim1_awh_gel\n"
     ]
    }
   ],
   "source": [
    "for s in sims_selplot:\n",
    "    print(s.dirname)"
   ]
  },
  {
   "cell_type": "code",
   "execution_count": 32,
   "metadata": {},
   "outputs": [],
   "source": [
    "# let's use some cool palette!\n",
    "sns.set_palette(\"PRGn\", n_colors=len(sims_selplot))\n",
    "\n",
    "# use a larger font\n",
    "mpl.rcParams.update({'font.size': 12})"
   ]
  },
  {
   "cell_type": "code",
   "execution_count": 33,
   "metadata": {},
   "outputs": [
    {
     "data": {
      "image/png": "[encoded data removed]",
      "text/plain": [
       "<Figure size 446.4x288 with 1 Axes>"
      ]
     },
     "metadata": {
      "needs_background": "light"
     },
     "output_type": "display_data"
    }
   ],
   "source": [
    "# make a plot of the solvent accessibility profile for each simulation \n",
    "for sim in sims_selplot:\n",
    "    s = sim\n",
    "    if True:\n",
    "        try: \n",
    "            fig = sim.plot_mean_solv_profile(plt_label=\"{}% cholesterol\".format(sim.label), plt_solvdeg=True)\n",
    "        except:\n",
    "            pass\n",
    "\n",
    "fig = plt.gca()\n",
    "fig.figure.set_size_inches([6.2,4.0])\n",
    "\n",
    "#fig.figure.set_size_inches([4.4,2.2])\n",
    "fig.set_xlabel(\"distance (nm)\")\n",
    "fig.set_ylabel(\"solvent accessibility\")\n",
    "\n",
    "fig.set_xlim([-0.1, 4.1])\n",
    "fig.figure.savefig(\"solvent_accessibility_profiles_satur-d0and50_sterol-series.png\", dpi=150, bbox_inches='tight')\n",
    "\n",
    "#fig.figure.set_size_inches([4.4,3.8])\n",
    "#fig.set_xlim([0.0,3.0])\n",
    "#fig.figure.savefig(\"solvent_accessibility_profiles_satur-d0and50_sterol-series_zoomin.png\", dpi=150, bbox_inches='tight')\n"
   ]
  },
  {
   "cell_type": "code",
   "execution_count": null,
   "metadata": {},
   "outputs": [],
   "source": []
  },
  {
   "cell_type": "markdown",
   "metadata": {},
   "source": [
    "## Object I/O — Save it/load it — pickle"
   ]
  },
  {
   "cell_type": "code",
   "execution_count": 60,
   "metadata": {},
   "outputs": [
    {
     "name": "stdout",
     "output_type": "stream",
     "text": [
      "Saved the sims list to:  mean_solvation_obj_list.pickle\n"
     ]
    }
   ],
   "source": [
    "# save the list of simulations\n",
    "with open(\"mean_solvation_obj_list.pickle\", 'bw') as picfile: \n",
    "    pickle.dump(sims, picfile)\n",
    "    print(\"Saved the sims list to: \", picfile.name)\n",
    "    "
   ]
  },
  {
   "cell_type": "code",
   "execution_count": 5,
   "metadata": {},
   "outputs": [
    {
     "name": "stdout",
     "output_type": "stream",
     "text": [
      "Loaded the list of Simulation class instances.\n"
     ]
    }
   ],
   "source": [
    "# load the list of simulations\n",
    "with open(\"mean_solvation_obj_list.pickle\", 'br') as picfile: \n",
    "    sims = pickle.load(picfile)\n",
    "    print(\"Loaded the list of Simulation class instances.\")\n",
    "    "
   ]
  },
  {
   "cell_type": "code",
   "execution_count": null,
   "metadata": {},
   "outputs": [],
   "source": []
  }
 ],
 "metadata": {
  "jupytext": {
   "formats": "ipynb,md"
  },
  "kernelspec": {
   "display_name": "Python 3",
   "language": "python",
   "name": "python3"
  },
  "language_info": {
   "codemirror_mode": {
    "name": "ipython",
    "version": 3
   },
   "file_extension": ".py",
   "mimetype": "text/x-python",
   "name": "python",
   "nbconvert_exporter": "python",
   "pygments_lexer": "ipython3",
   "version": "3.8.3"
  }
 },
 "nbformat": 4,
 "nbformat_minor": 4
}
