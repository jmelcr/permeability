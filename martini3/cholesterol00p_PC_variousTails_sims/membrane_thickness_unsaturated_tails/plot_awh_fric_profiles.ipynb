{
 "cells": [
  {
   "cell_type": "code",
   "execution_count": 1,
   "metadata": {},
   "outputs": [
    {
     "name": "stdout",
     "output_type": "stream",
     "text": [
      "Populating the interactive namespace from numpy and matplotlib\n"
     ]
    }
   ],
   "source": [
    "import numpy as np\n",
    "#import gromacs\n",
    "import pandas as pd\n",
    "import os, fnmatch\n",
    "import matplotlib.pyplot as plt\n",
    "import seaborn as sns\n",
    "from IPython.display import display\n",
    "import MDAnalysis as mda\n",
    "import pickle\n",
    "from scipy import signal\n",
    "from scipy.ndimage.filters import uniform_filter1d\n",
    "%pylab inline"
   ]
  },
  {
   "cell_type": "markdown",
   "metadata": {},
   "source": [
    "# Function definitions\n",
    "a few handy functions with a quite general meaning "
   ]
  },
  {
   "cell_type": "code",
   "execution_count": 2,
   "metadata": {},
   "outputs": [],
   "source": [
    "def find(pattern, path):\n",
    "    result = []\n",
    "    for root, dirs, files in os.walk(path):\n",
    "        for name in files:\n",
    "            if fnmatch.fnmatch(name, pattern):\n",
    "                result.append(os.path.join(root, name))\n",
    "    return result"
   ]
  },
  {
   "cell_type": "code",
   "execution_count": 3,
   "metadata": {},
   "outputs": [],
   "source": [
    "def locate(pattern, root=os.curdir):\n",
    "    '''Locate all files matching supplied filename pattern in and below\n",
    "    supplied root directory.'''\n",
    "    for path, dirs, files in os.walk(os.path.abspath(root)):\n",
    "        for filename in fnmatch.filter(files, pattern):\n",
    "            yield os.path.join(path, filename)"
   ]
  },
  {
   "cell_type": "code",
   "execution_count": 4,
   "metadata": {},
   "outputs": [],
   "source": [
    "def symmetrize(a):\n",
    "    \"\"\" \n",
    "    a - array to be symmetrized mirror-like, with the mirror symmetry placed in the centre\n",
    "    returns: a tuple with the symmetrized array (half the size), \n",
    "             and the resulting standard deviation in the second place of the tuple\n",
    "    \"\"\"\n",
    "    d = a.shape[0]   #assuming index=0\n",
    "    m = d//2         # the middle-of-array index -- integer division here\n",
    "    l = a[:m]        # left part\n",
    "    r = np.ndarray(l.shape)\n",
    "    for i in range(m):\n",
    "        r[i] = a[-i-1]\n",
    "    s = np.average(np.vstack((l, r)), axis=0)\n",
    "    e = np.std(np.vstack((l, r)), axis=0)\n",
    "    return (s, e)"
   ]
  },
  {
   "cell_type": "code",
   "execution_count": 5,
   "metadata": {},
   "outputs": [],
   "source": [
    "def cropstring(s, l=None, r=None):\n",
    "    \"\"\"\n",
    "    Returns a cropped substring of a string s\n",
    "    \n",
    "     l, r : strings\n",
    "            strings or patterns (RegEx not implemented!) to match in string s\n",
    "            for cropping after l and before r\n",
    "    \"\"\"\n",
    "    if isinstance(l, str):\n",
    "        il = s.find(l) + len(l)\n",
    "    else:\n",
    "        il = 0\n",
    "    if isinstance(r, str):\n",
    "        ir = s.find(r)\n",
    "    else:\n",
    "        ir = len(s)+1  #till the end of the original string\n",
    "    return s[il:ir]"
   ]
  },
  {
   "cell_type": "markdown",
   "metadata": {},
   "source": [
    "# Simulation class definition\n",
    "This class includes all methods and attributes to obtain results from ethanol-membrane intreraction simulations with Martini within **permeability** project with Jacopo Fralicciardi and Bert Poolman.\n",
    "\n",
    "This is prepared in a way that the readout shall be easily concatenated in a Pandas Dataframe for further analysis including multi-indexing etc..."
   ]
  },
  {
   "cell_type": "code",
   "execution_count": 6,
   "metadata": {},
   "outputs": [],
   "source": [
    "class Simulation:\n",
    "    '''Simulation class stores and accesses simulation data \n",
    "    relevant for ethanol - membrane interaction project with Martini'''\n",
    "    default_top_fname             = \"topol.tpr\"\n",
    "    default_traj_fname            = \"traj_comp_pbc.xtc\"\n",
    "    default_lipidator_fname       = \"lipidator.out\"\n",
    "    default_solvent_density_fname = \"density_solvent.xvg\"\n",
    "    default_boxx_fname            = \"boxx.xvg\"\n",
    "    use_symmetry = True\n",
    "    column_labels = (\"satur index\",\n",
    "                     \"sterol conc\",\n",
    "                     \"particle\",\n",
    "                     \"starting conf\",\n",
    "                     \"compress\",\n",
    "                     \"perm\", \"perm err\")\n",
    "\n",
    "    def __init__(self, dirname):\n",
    "        self.dirname = dirname\n",
    "        # the dirname containing conditions of the simulation\n",
    "        # is not parsed at the beginning (only done when needed in method parse_dirname)\n",
    "        self.dirname_parsed = False\n",
    "        # check presence of required files\n",
    "        self.top_fname             = Simulation.default_top_fname\n",
    "        self.traj_fname            = Simulation.default_traj_fname\n",
    "        self.lipidator_fname       = Simulation.default_lipidator_fname\n",
    "        self.solvent_density_fname = Simulation.default_solvent_density_fname\n",
    "        self.boxx_fname            = Simulation.default_boxx_fname\n",
    "        for fname in [self.top_fname, ]: # self.lipidator_fname, self.solvent_density_fname, self.boxx_fname]:\n",
    "            try:\n",
    "                for f in locate(fname, self.dirname):\n",
    "                    if fname in f:\n",
    "                        temp_found_file0 = f\n",
    "                    break\n",
    "            except:\n",
    "                print(\"something went wrong with locating {} in dir:\\n{}\".format(fname, self.dirname))    \n",
    "        # get the topology using MDAnalysis\n",
    "        # this is not used at this moment, so creating mda.Universe is skipped\n",
    "        if False:\n",
    "            try:\n",
    "                self.topology = mda.Universe(os.path.join(self.dirname, self.top_fname)) \n",
    "            except:\n",
    "                raise UserWarning(\"Error loading topology and trajectory in directory {}\".format(self.dirname))\n",
    "            \n",
    "            \n",
    "    \n",
    "    def calc_perm(self, m=20, use_symmetry=True, const_fric=None):\n",
    "        \"\"\"\n",
    "        calculate permeability from AWH simulation deltaG and friction profiles\n",
    "        \n",
    "        parameter m defines the number of samples from each side of the profile\n",
    "        to use for estimation of the zero-level \n",
    "        by taking mean on the left & right (which are obtained independently and have to agree in a converged sim.) \n",
    "        and comparing the values\n",
    "        \n",
    "        returns tuple with two values (permeability and , its err.estim.)\n",
    "        \"\"\"\n",
    "        \n",
    "        # locate the awh file (friction file has the same naming convention format, se we will only simply substitute)\n",
    "        awh_files = locate(\"awh_*.xvg\", self.dirname)\n",
    "        # choose the newest of the files\n",
    "        try:\n",
    "            newest_file = max(awh_files, key=os.path.getctime)\n",
    "        except:\n",
    "            print(\"cannot find newest file in dir {} \\n setting perm to None values\".format(sim.dirname))\n",
    "            return (None, None)\n",
    "        \n",
    "        # assign the AWH data sets to numpy arrays\n",
    "        awh_data  = np.loadtxt(newest_file, comments=(\"#\", \"@\"))\n",
    "        x    = awh_data[:,0]\n",
    "        fep  = awh_data[:,1]\n",
    "\n",
    "        # prepare friction data - from file (implicit) or constant (optional)\n",
    "        if not const_fric:\n",
    "            fric_data = np.loadtxt(newest_file.replace(\"/awh_\", \"/friction_\"), comments=(\"#\", \"@\"))\n",
    "            fric = fric_data[:,1]\n",
    "        else:\n",
    "            # OVERRIDING friction data with a constant number\n",
    "            fric = np.ones(fep.shape)*const_fric\n",
    "            \n",
    "        # store the AWH, x-coord & friction profile as attributes of this class Simulation\n",
    "        self.awh_x = x\n",
    "        self.awh   = fep\n",
    "        self.fric  = fric\n",
    "            \n",
    "        # obtain the estimate of deltaG from left & right\n",
    "        dg1 = np.max(fep-fep[-m:].mean())\n",
    "        dg2 = np.max(fep-fep[:m].mean())\n",
    "        self.dg    = np.mean([dg1, dg2])\n",
    "        self.dgstd = np.std([dg1, dg2])\n",
    "        \n",
    "        # calculate the permeability (through 1/resistance)\n",
    "        if use_symmetry:\n",
    "            # apply symmetry rules to the profile and obtain an estimate of error\n",
    "            fepsymm  = symmetrize(fep)\n",
    "            fricsymm = symmetrize(fric)\n",
    "            xsymm    = x[:fepsymm[0].shape[0]]\n",
    "            rxsymm    = np.exp(fepsymm[0]-fepsymm[0][:m].mean())*fricsymm[0]/1000.0    # r(x) = resistance\n",
    "            # use value of 100.0 instead of \"*fricsymm[1]\" to simplify the equation and error estimate?\n",
    "            rxstdsymm = ( np.exp(fepsymm[0])*fricsymm[1] + np.exp(fepsymm[1])*fricsymm[0] )/1000.0    # error of r(x) through chain rule\n",
    "            r         = np.trapz(x=xsymm[m:], y=rxsymm[m:]) *2.0   # *2, because i have only half of the profile after symmetrizing it\n",
    "            rstd      = np.trapz(x=xsymm[m:], y=rxstdsymm[m:]) *2.0\n",
    "        else:\n",
    "            # set the zero-level (solvent) to 0 from one resp. other side\n",
    "            rx1  = np.exp(fep-fep[-m:].mean())*fric/1000.0    # r(x) ...\n",
    "            rx2  = np.exp(fep-fep[:m].mean()) *fric/1000.0    # resistance in ns/nm resp s/m\n",
    "            r = np.trapz(x=x[m:-m], y=np.vstack((rx1, rx2))[:,m:-m])\n",
    "\n",
    "        unit_scaling_factor = 100000.0  # provides unit cm/s *e-3 from simulation units (kT and ps)d\n",
    "        perm      = unit_scaling_factor/r   # in nm/us*e-4 resp cm/s*e-3\n",
    "        try: \n",
    "            permstd = perm**2 * rstd /unit_scaling_factor   # is the same as: perm*rstd/r\n",
    "        except:\n",
    "            permstd = None\n",
    "\n",
    "        self.__perm_perr = (perm, permstd)\n",
    "        return (perm, permstd)\n",
    "\n",
    "    \n",
    "    @property\n",
    "    def perm(self):\n",
    "        try:\n",
    "            return self.__perm_perr[0]\n",
    "        except:\n",
    "            # shall be raised e.g. in case self.apl is not defined yet\n",
    "            self.calc_perm()  # defines the above self.\"attribute\"\n",
    "        finally:\n",
    "            return self.__perm_perr[0]\n",
    "\n",
    "    @property\n",
    "    def permerr(self):\n",
    "        try:\n",
    "            return self.__perm_perr[1]\n",
    "        except:\n",
    "            # shall be raised e.g. in case self.apl is not defined yet\n",
    "            self.calc_perm()  # defines the above self.\"attribute\"\n",
    "        finally:\n",
    "            return self.__perm_perr[1]\n",
    "        \n",
    "    \n",
    "    def read_lipidator(self):\n",
    "        \"\"\"get several properties,\n",
    "        bending and tilt moduli [in units kT and kT/nm^2],\n",
    "        area per lipid (incl. stderr & stdev) [in units nm^2], \n",
    "        from lipidator file\"\"\"\n",
    "        try:\n",
    "            with open(os.path.join(self.dirname, self.lipidator_fname), \"r\") as lefile:\n",
    "                for line in lefile.readlines():\n",
    "                    linesplit = line.split()\n",
    "                    if line.startswith(\"Monolayer Bending\"):\n",
    "                        bending = float(linesplit[linesplit.index('kappa')+1])\n",
    "                    if line.startswith(\"Bilayer Tilt\"):\n",
    "                        tilt    = float(linesplit[linesplit.index('kappa')+1])\n",
    "                    if line.startswith(\" Area AVG\"):\n",
    "                        apl       = float(linesplit[linesplit.index('[bilayer]:')+1]) *0.01\n",
    "                        aplstderr = float(linesplit[linesplit.index('[bilayer]:')+4]) *0.01\n",
    "                        aplstdev  = float(linesplit[linesplit.index('[bilayer]:')+6]) *0.01\n",
    "                        \n",
    "        except IOError:\n",
    "            print(\"Problems loading the lipidator file in dir {}\".format(self.dirname))\n",
    "        except:\n",
    "            print(\"Generally some problems in loading Lipidator output -- check code.\")\n",
    "        finally:\n",
    "            try:\n",
    "                self.__bend       = bending\n",
    "                self.__tilt       = tilt\n",
    "                self.__apl        = apl\n",
    "                self.__apl_stderr = aplstderr\n",
    "                self.__apl_stdev  = aplstdev\n",
    "            except:\n",
    "                # will be raised e.g. in case any of the above is not defined \n",
    "                # (e.g. weren't accessed via the method above)\n",
    "                self.__bend = self.__tilt = self.__apl = self.__apl_stderr = self.__apl_stdev = None\n",
    "        return (bending, tilt, apl, aplstderr, aplstdev)\n",
    "    \n",
    "    \n",
    "    @property\n",
    "    def apl(self):\n",
    "        try:\n",
    "            return self.__apl\n",
    "        except:\n",
    "            # shall be raised e.g. in case self.apl is not defined yet\n",
    "            self.read_lipidator()  # defines the above self.apl\n",
    "        finally:\n",
    "            return self.__apl\n",
    "    \n",
    "\n",
    "    @property\n",
    "    def tilt(self):\n",
    "        try:\n",
    "            return self.__tilt\n",
    "        except:\n",
    "            # shall be raised e.g. in case self.apl is not defined yet\n",
    "            self.read_lipidator()  # defines the above self.apl\n",
    "        finally:\n",
    "            return self.__tilt\n",
    "    \n",
    "\n",
    "    @property\n",
    "    def bend(self):\n",
    "        try:\n",
    "            return self.__bend\n",
    "        except:\n",
    "            # shall be raised e.g. in case self.apl is not defined yet\n",
    "            self.read_lipidator()  # defines the above self.apl\n",
    "        finally:\n",
    "            return self.__bend\n",
    "    \n",
    "    \n",
    "    def calc_thick(self):\n",
    "        \"\"\"\n",
    "        method calculating Luzzati thickness (hydrophobic thickness) \n",
    "        from a density profile xvg file\n",
    "        \"\"\"\n",
    "        try:\n",
    "            # variable wat also accounts for generally any solvent (e.g. water+ethanol solution)\n",
    "            dens_arr = np.loadtxt(os.path.join(self.dirname, self.solvent_density_fname), comments=[\"#\", \"@\"])\n",
    "            wat = dens_arr[:,1]\n",
    "            x   = dens_arr[:,0]\n",
    "            d_z = np.abs(x[-1]-x[0])         # simulation box z-length , aka repeat distance\n",
    "            bulkwatdens = np.mean(wat[:10])\n",
    "            wat /= bulkwatdens\n",
    "            h   = d_z - np.trapz(wat, x)\n",
    "            #print(x, wat, bulkwatdens, d_z, h)\n",
    "        except IOError:\n",
    "            print(\"Problems loading the density_ethanol_water XVG file in dir {}\".format(self.dirname))\n",
    "            h = None\n",
    "        except:\n",
    "            print(\"Generally some problems in the density_ethanol_water loading resp. Luzzati thickness calc -- check code.\")\n",
    "            h = None\n",
    "        finally:\n",
    "            self.__thick = h\n",
    "            return thick                \n",
    "\n",
    "\n",
    "    @property\n",
    "    def thick(self):\n",
    "        try:\n",
    "            return self.__thick\n",
    "        except:\n",
    "            # shall be raised e.g. in case self.__thick is not defined yet\n",
    "            self.calc_thick()\n",
    "        finally:\n",
    "            return self.__thick\n",
    "\n",
    "            \n",
    "    #    Copied from below - turn into methods!\n",
    "    def calc_compressibility(self):\n",
    "        \"\"\"\n",
    "        method calculating \n",
    "        Area Compressibility modulus [in units kT/nm^2]\n",
    "        from Box-x xvg file - a time-series of box-x (data : np.array)\n",
    "        using the fluctuation theorem  \n",
    "        \"\"\"\n",
    "        try:\n",
    "            data_arr = np.loadtxt(os.path.join(self.dirname, self.boxx_fname), comments=[\"#\", \"@\"])\n",
    "            x_t = data_arr[:,1]\n",
    "            a_t = x_t**2\n",
    "            a_0 = a_t.mean()\n",
    "            var =  a_t.var()\n",
    "            ka = a_0/var\n",
    "        except IOError:\n",
    "            print(\"Problems loading the box-x XVG file in dir {}\".format(self.dirname))\n",
    "            ka = None\n",
    "        except:\n",
    "            print(\"Generally some problems in the Box-x loading/calc -- check code.\")\n",
    "            ka = None\n",
    "        finally:\n",
    "            self.__compress = ka\n",
    "            return ka\n",
    "           \n",
    "            \n",
    "    @property\n",
    "    def compress(self):\n",
    "        try:\n",
    "            return self.__compress\n",
    "        except:\n",
    "            # shall be raised e.g. in case self.apl is not defined yet\n",
    "            self.calc_compressibility()  # defines the above self.\"attribute\"\n",
    "        finally:\n",
    "            return self.__compress\n",
    " \n",
    "\n",
    "    def parse_dirname(self):\n",
    "        \"\"\"\n",
    "        Dirname parser assigning values to \n",
    "        simulation conditions (temperature)\n",
    "        and compositions (saturation number d, which lipids, what sterols and how much..)\n",
    "        as instance attributes\n",
    "        \n",
    "        This method is HIGHLY SPECIFIC to the permeability project \n",
    "        and the dirname naming conventions therein\n",
    "        \"\"\"\n",
    "        s = self.dirname # just a short-hand abbreviation for the long self.dirname \n",
    "        self.sterol_type     = cropstring(s, l=\"./\", r=\"sterol\")\n",
    "        self.sterol_conc  =int(cropstring(s, l=self.sterol_type+\"sterol\", r=\"p_PC\"))\n",
    "        self.temperature  = 293  # as in the main mdp file\n",
    "        self.particle = cropstring(s, \"perm_particle_EOL\", \"/sat-unsat\")\n",
    "        self.d = float(cropstring(s, \"_d_\", \"/sim1\"))/100.0  # saturation index d\n",
    "        self.starting_conf = cropstring(s, \"_awh_\")\n",
    "        # and finally, the dirname path was parsed, so ...\n",
    "        self.dirname_parsed  = True\n",
    "        \n",
    "    \n",
    "    @property\n",
    "    def satur_index(self):\n",
    "        \"\"\"\n",
    "        Assign a saturation index d depending on the used tails\n",
    "        \n",
    "        NOT USED in this project\n",
    "        \"\"\"\n",
    "        raise Warning(\"Invoking function >> satur_index <<, which shall not be used!\")\n",
    "        try:\n",
    "            self.tails\n",
    "        except:\n",
    "            self.parse_dirname()\n",
    "        finally:\n",
    "            t = self.tails\n",
    "            if t == \"DP\":\n",
    "                d = 0.0\n",
    "            elif t == \"PO\":\n",
    "                d = 0.5\n",
    "            elif t == \"DO\" or t == \"PI\":\n",
    "                d = 1.0\n",
    "            elif t == \"DI\":\n",
    "                d = 2.0\n",
    "            else:\n",
    "                d = None\n",
    "        self.sat_ind = d\n",
    "        return d\n",
    "    \n",
    "    \n",
    "    @property\n",
    "    def as_record(self):\n",
    "        \"\"\"\n",
    "        Export the single Simulation instance as a record (a tuple of items)\n",
    "        The order is given by the Class variable Simulation.column_labels\n",
    "        \"\"\"\n",
    "        try:\n",
    "            self.d\n",
    "        except:\n",
    "            self.parse_dirname()\n",
    "        finally:    \n",
    "            record = (self.d, \n",
    "                      self.sterol_conc, \n",
    "                      self.particle,\n",
    "                      self.starting_conf,\n",
    "                      self.compress,\n",
    "                      self.perm, self.permerr)\n",
    "\n",
    "        return record"
   ]
  },
  {
   "cell_type": "markdown",
   "metadata": {},
   "source": [
    "# Search through the simulations\n",
    "on my local disk on md39.\n",
    "\n",
    "In the following section, I will loop through the simulation folders and \n",
    "obtain results from my analysis scripts.\n",
    "\n",
    "This will be put together in a Pandas Dataframe with multiindexing at the end. \n",
    "\n",
    "The multiindex will use properties as parsed from the directory names."
   ]
  },
  {
   "cell_type": "code",
   "execution_count": 7,
   "metadata": {},
   "outputs": [],
   "source": [
    "tpr_files = find(\"topol.tpr\", os.curdir)"
   ]
  },
  {
   "cell_type": "code",
   "execution_count": 8,
   "metadata": {},
   "outputs": [
    {
     "data": {
      "text/plain": [
       "['./DNPC_di-C24-C26-1/awh-perm/topol.tpr',\n",
       " './DYPC_di-C12-C14-1/awh-perm/topol.tpr',\n",
       " './DOPC_di-C16-C18-1/awh-perm/topol.tpr',\n",
       " './DGPC_di-C20-C22-1/awh-perm/topol.tpr']"
      ]
     },
     "execution_count": 8,
     "metadata": {},
     "output_type": "execute_result"
    }
   ],
   "source": [
    "tpr_files"
   ]
  },
  {
   "cell_type": "code",
   "execution_count": 9,
   "metadata": {
    "scrolled": true
   },
   "outputs": [],
   "source": [
    "sims    = []\n",
    "for f in tpr_files:\n",
    "    sim = Simulation(os.path.dirname(f))\n",
    "    sims.append(sim)"
   ]
  },
  {
   "cell_type": "code",
   "execution_count": 10,
   "metadata": {},
   "outputs": [
    {
     "name": "stdout",
     "output_type": "stream",
     "text": [
      "Problems loading the density_ethanol_water XVG file in dir ./DGPC_di-C20-C22-1/awh-perm\n"
     ]
    }
   ],
   "source": [
    "sim.dirname\n",
    "sim.thick"
   ]
  },
  {
   "cell_type": "markdown",
   "metadata": {},
   "source": [
    "# AWH profiles plotting  (continue here after loading pickle file at the bottom of this notebook)\n",
    "As working with the pickled objects also requires defining the Simulation class,\n",
    "I will make the AWH-profile plots here in this notebook. \n",
    "\n",
    "## DOPC with permants of various POW\n",
    "In the following plots, I will show the dG profiles \n",
    "from permeations with various solutes of varying solubility. "
   ]
  },
  {
   "cell_type": "code",
   "execution_count": 20,
   "metadata": {
    "scrolled": true
   },
   "outputs": [
    {
     "name": "stdout",
     "output_type": "stream",
     "text": [
      "Sim in dir ./DYPC_di-C12-C14-1/awh-perm\n",
      " has permeability 197.68273454270775 +/- 76.58504012816687 cm/s e-3\n",
      "Sim in dir ./DOPC_di-C16-C18-1/awh-perm\n",
      " has permeability 96.82906041874399 +/- 35.67818107627855 cm/s e-3\n",
      "Sim in dir ./DGPC_di-C20-C22-1/awh-perm\n",
      " has permeability 40.979596085096766 +/- 14.45661130737742 cm/s e-3\n",
      "Sim in dir ./DNPC_di-C24-C26-1/awh-perm\n",
      " has permeability 27.87003774211551 +/- 12.114159646676589 cm/s e-3\n"
     ]
    }
   ],
   "source": [
    "# define the particle name. \n",
    "# luckily it is always 3 character long, so this is simple\n",
    "for s in sims:\n",
    "    s.pname = s.dirname[-3:]\n",
    "    # set the plotting label from the dirname\n",
    "    s.label = s.dirname[14:17]\n",
    "    # calculate permeability and record the profiles\n",
    "    print(\"Sim in dir {}\\n has permeability {} +/- {} cm/s e-3\".format(s.dirname, s.perm, s.permerr))\n",
    "        "
   ]
  },
  {
   "cell_type": "markdown",
   "metadata": {},
   "source": [
    "Now, sort the lists after the particle name:"
   ]
  },
  {
   "cell_type": "code",
   "execution_count": 21,
   "metadata": {},
   "outputs": [],
   "source": [
    "sims.sort(key=lambda s: s.label)"
   ]
  },
  {
   "cell_type": "markdown",
   "metadata": {},
   "source": [
    "### Free energy profiles\n",
    "\n",
    "in the code below,\n",
    "I plot the symmetrized AWH-free energy profiles.\n",
    "The differences from symmetrization \n",
    "give rise to the error estimates included in the plot. \n",
    "\n",
    "The plot can be futher improved \n",
    "by using a simulation snapshot as a background. "
   ]
  },
  {
   "cell_type": "code",
   "execution_count": 22,
   "metadata": {},
   "outputs": [],
   "source": [
    "#selected_particles = [\"SC5\", \"SP3\", \"SP6\", \"SN3\", \"SN2\"]\n",
    "sns.set_palette(\"inferno\", n_colors=len(sims))"
   ]
  },
  {
   "cell_type": "code",
   "execution_count": 23,
   "metadata": {},
   "outputs": [],
   "source": [
    "def prep_to_plot(x, y, shift_to_zero=True, filt_freq=None, runmeansize=10):\n",
    "    \"\"\"Function symmetrizes and shifts the profiles for plotting.\"\"\"\n",
    "    ysymm_arr = symmetrize(y)\n",
    "    # apply filter to get rid of some noise\n",
    "    if filt_freq:\n",
    "        b, a = signal.butter(4, filt_freq)\n",
    "        ysymm_arr = signal.filtfilt(b, a, ysymm_arr, padlen=0)\n",
    "\n",
    "    ys    = ysymm_arr[:][0]\n",
    "    yserr = ysymm_arr[:][1]\n",
    "    x_half = -x[:len(ys)]\n",
    "    if shift_to_zero:\n",
    "        delta = ys[:50].mean()\n",
    "        ys -= delta\n",
    "    return (x_half, ys, yserr)"
   ]
  },
  {
   "cell_type": "code",
   "execution_count": 24,
   "metadata": {},
   "outputs": [
    {
     "name": "stdout",
     "output_type": "stream",
     "text": [
      "Working with sim in dri ./DYPC_di-C12-C14-1/awh-perm\n",
      "Working with sim in dri ./DOPC_di-C16-C18-1/awh-perm\n",
      "Working with sim in dri ./DGPC_di-C20-C22-1/awh-perm\n",
      "Working with sim in dri ./DNPC_di-C24-C26-1/awh-perm\n"
     ]
    },
    {
     "data": {
      "image/png": "[encoded data removed]",
      "text/plain": [
       "<Figure size 216x158.4 with 1 Axes>"
      ]
     },
     "metadata": {
      "needs_background": "light"
     },
     "output_type": "display_data"
    }
   ],
   "source": [
    "for sim_list, xxpc in zip([sims, ], [\"PC\", ]):\n",
    "    for s in sim_list:\n",
    "        if True:   #(xxpc == 'DOPC') and s.pname in selected_particles:\n",
    "            print(\"Working with sim in dri {}\".format(s.dirname))\n",
    "            try:\n",
    "                    (x_half, awhsym, awhsym_err) = prep_to_plot(s.awh_x, s.awh)\n",
    "                    plt.plot(x_half, awhsym)  #, label=\"{}\".format(s.pname))\n",
    "                    if True:\n",
    "                        plt.fill_between(x=x_half, \n",
    "                                     y1=awhsym+awhsym_err,\n",
    "                                     y2=awhsym-awhsym_err,\n",
    "                                     label=\"{}\".format(s.label))\n",
    "            except:\n",
    "                print(\"troubles plotting simulation in {}\".format(s.dirname))\n",
    "\n",
    "    plt.legend()\n",
    "    fig = plt.gca()\n",
    "    fig.figure.set_size_inches([3.0,2.2])\n",
    "    #plt.ylim([-1, 11])\n",
    "    plt.xlim([-0.1, 4.1])\n",
    "    plt.ylabel(\"Free energy (kT)\")\n",
    "    plt.xlabel(\"Distance from membrane center (nm)\")\n",
    "    plt.savefig(\"awh_dG_profiles_{}_various-thicknesses.png\".format(xxpc), dpi=300, bbox_inches='tight')\n",
    "    plt.show()"
   ]
  },
  {
   "cell_type": "markdown",
   "metadata": {},
   "source": [
    "### Friction profiles\n",
    "\n",
    "in the code below,\n",
    "I plot the symmetrized friction profiles.\n",
    "The differences from symmetrization \n",
    "give rise to the error estimates included in the plot. \n",
    "\n",
    "These plots would benefit from further processing,\n",
    "namely smoothening of the noise. \n",
    "\n",
    "However, at the current status it makes the necessary points. "
   ]
  },
  {
   "cell_type": "code",
   "execution_count": 25,
   "metadata": {},
   "outputs": [
    {
     "name": "stdout",
     "output_type": "stream",
     "text": [
      "Working with sim in dri ./DYPC_di-C12-C14-1/awh-perm\n",
      "Working with sim in dri ./DOPC_di-C16-C18-1/awh-perm\n",
      "Working with sim in dri ./DGPC_di-C20-C22-1/awh-perm\n",
      "Working with sim in dri ./DNPC_di-C24-C26-1/awh-perm\n"
     ]
    },
    {
     "data": {
      "image/png": "[encoded data removed]",
      "text/plain": [
       "<Figure size 316.8x158.4 with 1 Axes>"
      ]
     },
     "metadata": {
      "needs_background": "light"
     },
     "output_type": "display_data"
    }
   ],
   "source": [
    "# Butterworth filter of 4th degree with a Nyquist freq of 100Hz (Low pass filter)\n",
    "b, a = signal.butter(4, 0.080)\n",
    "\n",
    "for sim_list, xxpc in zip([sims, ], [\"PC\", ]):\n",
    "    for s in sim_list:\n",
    "        if True:   #(xxpc == 'DOPC') and s.pname in selected_particles:\n",
    "            print(\"Working with sim in dri {}\".format(s.dirname))\n",
    "            # applied Butterworth filter on the friction profile\n",
    "            (x_half, fricsym, fricsym_err) = prep_to_plot(s.awh_x, s.fric, shift_to_zero=False, filt_freq=0.150)\n",
    "            x_half = -s.awh_x[:len(fricsym)]\n",
    "            plt.plot(x_half, fricsym)  #, label=\"{}\".format(s.pname))\n",
    "            #plt.plot(x_half, fricsym_filt, label=\"{}\".format(s.pname))\n",
    "            if True:\n",
    "                        plt.fill_between(x=x_half, \n",
    "                                         y1=fricsym+fricsym_err,\n",
    "                                         y2=fricsym-fricsym_err,\n",
    "                                         label=\"{}\".format(s.label),\n",
    "                                         alpha=0.5)\n",
    "    plt.legend()\n",
    "    fig = plt.gca()\n",
    "    fig.figure.set_size_inches([4.4,2.2])\n",
    "    plt.ylabel(\"Friction (ps nm$^{-2}$ (kT)$^{-1}$)\")\n",
    "    plt.xlabel(\"Distance from membrane center (nm)\")\n",
    "    plt.savefig(\"friction_profiles_{}_various-thicknesses.png\".format(xxpc), dpi=300, bbox_inches='tight')\n",
    "    plt.show()"
   ]
  },
  {
   "cell_type": "code",
   "execution_count": 18,
   "metadata": {},
   "outputs": [
    {
     "name": "stdout",
     "output_type": "stream",
     "text": [
      "Saved the sims list to:  awh_fric_sim_obj_list.pickle\n"
     ]
    }
   ],
   "source": [
    "# save the list of simulations\n",
    "with open(\"awh_fric_sim_obj_list.pickle\", 'bw') as picfile: \n",
    "    pickle.dump(sims, picfile)\n",
    "    print(\"Saved the sims list to: \", picfile.name)\n",
    "    "
   ]
  },
  {
   "cell_type": "code",
   "execution_count": 19,
   "metadata": {},
   "outputs": [],
   "source": [
    "# read the list of Simulation class instances from a pickled file\n",
    "with open(\"awh_fric_sim_obj_list.pickle\", 'br') as picfile: \n",
    "    sims = pickle.load(picfile)"
   ]
  },
  {
   "cell_type": "code",
   "execution_count": null,
   "metadata": {},
   "outputs": [],
   "source": []
  }
 ],
 "metadata": {
  "jupytext": {
   "formats": "ipynb,py:percent,md"
  },
  "kernelspec": {
   "display_name": "Python 3",
   "language": "python",
   "name": "python3"
  },
  "language_info": {
   "codemirror_mode": {
    "name": "ipython",
    "version": 3
   },
   "file_extension": ".py",
   "mimetype": "text/x-python",
   "name": "python",
   "nbconvert_exporter": "python",
   "pygments_lexer": "ipython3",
   "version": "3.8.3"
  }
 },
 "nbformat": 4,
 "nbformat_minor": 4
}
