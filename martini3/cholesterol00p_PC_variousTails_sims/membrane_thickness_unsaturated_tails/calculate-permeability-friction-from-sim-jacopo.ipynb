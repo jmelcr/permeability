{
 "cells": [
  {
   "cell_type": "code",
   "execution_count": 1,
   "metadata": {},
   "outputs": [],
   "source": [
    "import numpy as np\n",
    "#import gromacs\n",
    "import pandas as pd\n",
    "import os, fnmatch\n",
    "import matplotlib.pyplot as plt\n",
    "from IPython.display import display\n",
    "\n",
    "\n",
    "def find(pattern, path):\n",
    "    result = []\n",
    "    for root, dirs, files in os.walk(path):\n",
    "        for name in files:\n",
    "            if fnmatch.fnmatch(name, pattern):\n",
    "                result.append(os.path.join(root, name))\n",
    "    return result\n",
    "\n",
    "\n",
    "def symmetrize(a):\n",
    "    \"\"\" \n",
    "    a - array to be symmetrized mirror-like, with the mirror symmetry placed in the centre\n",
    "    returns: a tuple with the symmetrized array (half the size), \n",
    "             and the resulting standard deviation in the second place of the tuple\n",
    "    \"\"\"\n",
    "    d = a.shape[0]   #assuming index=0\n",
    "    m = d//2         # the middle-of-array index -- integer division here\n",
    "    l = a[:m]        # left part\n",
    "    r = np.ndarray(l.shape)\n",
    "    for i in range(m):\n",
    "        r[i] = a[-i-1]\n",
    "    s = np.average(np.vstack((l, r)), axis=0)\n",
    "    e = np.std(np.vstack((l, r)), axis=0)\n",
    "    return (s, e)\n"
   ]
  },
  {
   "cell_type": "code",
   "execution_count": 2,
   "metadata": {},
   "outputs": [
    {
     "name": "stdout",
     "output_type": "stream",
     "text": [
      "./DYPC_di-C12-C14-1/awh-perm/awh_t2e+06.xvg\n",
      "Generally some problems in the Surface excess loading -- check code.\n",
      "./DOPC_di-C16-C18-1/awh-perm/awh_t2e+06.xvg\n",
      "Generally some problems in the Surface excess loading -- check code.\n",
      "./DNPC_di-C24-C26-1/awh-perm/awh_t2e+06.xvg\n",
      "Generally some problems in the Surface excess loading -- check code.\n",
      "./DGPC_di-C20-C22-1/awh-perm/awh_t2e+06.xvg\n",
      "Generally some problems in the Surface excess loading -- check code.\n"
     ]
    },
    {
     "ename": "ValueError",
     "evalue": "max() arg is an empty sequence",
     "output_type": "error",
     "traceback": [
      "\u001b[0;31m---------------------------------------------------------------------------\u001b[0m",
      "\u001b[0;31mValueError\u001b[0m                                Traceback (most recent call last)",
      "\u001b[0;32m<ipython-input-2-af0fc10a6000>\u001b[0m in \u001b[0;36m<module>\u001b[0;34m\u001b[0m\n\u001b[1;32m     23\u001b[0m \u001b[0;34m\u001b[0m\u001b[0m\n\u001b[1;32m     24\u001b[0m \u001b[0;32mfor\u001b[0m \u001b[0mi\u001b[0m \u001b[0;32min\u001b[0m \u001b[0mrange\u001b[0m\u001b[0;34m(\u001b[0m\u001b[0;36m8\u001b[0m\u001b[0;34m)\u001b[0m\u001b[0;34m:\u001b[0m  \u001b[0;31m# find the no.... newest files\u001b[0m\u001b[0;34m\u001b[0m\u001b[0;34m\u001b[0m\u001b[0m\n\u001b[0;32m---> 25\u001b[0;31m     \u001b[0mnewest_file\u001b[0m \u001b[0;34m=\u001b[0m \u001b[0mmax\u001b[0m\u001b[0;34m(\u001b[0m\u001b[0mawh_files\u001b[0m\u001b[0;34m,\u001b[0m \u001b[0mkey\u001b[0m\u001b[0;34m=\u001b[0m\u001b[0mos\u001b[0m\u001b[0;34m.\u001b[0m\u001b[0mpath\u001b[0m\u001b[0;34m.\u001b[0m\u001b[0mgetctime\u001b[0m\u001b[0;34m)\u001b[0m\u001b[0;34m\u001b[0m\u001b[0;34m\u001b[0m\u001b[0m\n\u001b[0m\u001b[1;32m     26\u001b[0m     \u001b[0mprint\u001b[0m\u001b[0;34m(\u001b[0m\u001b[0mnewest_file\u001b[0m\u001b[0;34m)\u001b[0m\u001b[0;34m\u001b[0m\u001b[0;34m\u001b[0m\u001b[0m\n\u001b[1;32m     27\u001b[0m     \u001b[0mnewest_dirname\u001b[0m \u001b[0;34m=\u001b[0m \u001b[0mos\u001b[0m\u001b[0;34m.\u001b[0m\u001b[0mpath\u001b[0m\u001b[0;34m.\u001b[0m\u001b[0mdirname\u001b[0m\u001b[0;34m(\u001b[0m\u001b[0mnewest_file\u001b[0m\u001b[0;34m)\u001b[0m\u001b[0;34m\u001b[0m\u001b[0;34m\u001b[0m\u001b[0m\n",
      "\u001b[0;31mValueError\u001b[0m: max() arg is an empty sequence"
     ]
    }
   ],
   "source": [
    "# find all awh_t....xvg files\n",
    "awh_files = find('awh_t*.xvg', os.curdir)\n",
    "\n",
    "use_symmetry = True\n",
    "\n",
    "# get the simulation results from the last awh_t... resp friction_t... files and the APL\n",
    "simulations = {}\n",
    "apls  = []\n",
    "aplstderrs = []\n",
    "means = []\n",
    "dgs   = []\n",
    "dgstds= []\n",
    "stds  = []\n",
    "perms    = []\n",
    "permstds = []\n",
    "surfexcs = []\n",
    "bendings = []\n",
    "tilts    = []\n",
    "compress = []\n",
    "thicks   = []\n",
    "\n",
    "m = 10  # begin-end index to cut the edges of the profile\n",
    "\n",
    "for i in range(8):  # find the no.... newest files\n",
    "    newest_file = max(awh_files, key=os.path.getctime)\n",
    "    print(newest_file)\n",
    "    newest_dirname = os.path.dirname(newest_file)\n",
    "    try:\n",
    "        awh_data  = np.loadtxt(newest_file, comments=(\"#\", \"@\"))\n",
    "        fric_data = np.loadtxt(newest_file.replace(\"awh_\", \"friction_\"), comments=(\"#\", \"@\"))\n",
    "        x    = awh_data[:,0]\n",
    "        fep  = awh_data[:,1]\n",
    "        fric = fric_data[:,1]\n",
    "        # OVERRIDING friction data with a constant number\n",
    "        #fric = np.ones(fep.shape)*2900.0\n",
    "        # obtain the estimate of deltaG\n",
    "        dg1   = np.max(fep-fep[-m:].mean())\n",
    "        dg2   = np.max(fep-fep[:m].mean())\n",
    "        dgs.append(np.mean([dg1, dg2]))\n",
    "        dgstds.append(np.std([dg1, dg2]))\n",
    "        if use_symmetry:\n",
    "            fepsymm  = symmetrize(fep)\n",
    "            fricsymm = symmetrize(fric)\n",
    "            xsymm    = x[:fepsymm[0].shape[0]]\n",
    "            rxsymm    = np.exp(fepsymm[0]-fepsymm[0][:m].mean())*fricsymm[0]/1000.0    # r(x)\n",
    "            #rxstdsymm = ( np.exp(fepsymm[0])*fricsymm[1] + np.exp(fepsymm[1])*fricsymm[0] )/1000.0    # error of r(x) through chain rule\n",
    "            # OVERRIDING error estimate of friction here\n",
    "            rxstdsymm = ( np.exp(fepsymm[0])*100.0 + np.exp(fepsymm[1])*fricsymm[0] )/1000.0    # error of r(x) through chain rule\n",
    "            r         = np.trapz(x=xsymm[m:], y=rxsymm[m:]) *2.0   # *2, because i have only half of the profile after symmetrizing it\n",
    "            rstd      = np.trapz(x=xsymm[m:], y=rxstdsymm[m:]) *2.0\n",
    "            perm      = 1000.0/r   # in nm/us resp mm/s\n",
    "            permstd   = perm**2 * rstd /1000.0   # is the same as: perm*rstd/r\n",
    "            simulations[newest_dirname] = r\n",
    "            means.append(r)\n",
    "            stds.append(rstd)\n",
    "            perms.append(perm)\n",
    "            permstds.append(permstd)\n",
    "        else:\n",
    "            # set the zero-level (solvent) to 0 from one resp. other side\n",
    "            rx1  = np.exp(fep-fep[-m:].mean())*fric/1000.0    # r(x) ...\n",
    "            rx2  = np.exp(fep-fep[:m].mean()) *fric/1000.0    # resistance in ns/nm resp s/m\n",
    "            r = np.trapz(x=x[m:-m], y=np.vstack((rx1, rx2))[:,m:-m])\n",
    "            simulations[newest_dirname] = r.mean()\n",
    "            means.append(r.mean())\n",
    "            stds.append(r.std())\n",
    "        try:\n",
    "            apl = np.loadtxt(newest_dirname+\"/apl.dat\")\n",
    "        except IOError:\n",
    "            print(\"Problems loading the APL file in dir {} with np.loadtxt\".format(newest_dirname))\n",
    "            apl = None\n",
    "        except:\n",
    "            print(\"Generally some problems in the apl loading -- check code.\")\n",
    "        finally:\n",
    "            # this is now read from lipidator output (see below)\n",
    "            #apls.append(apl)\n",
    "            pass\n",
    "        # adding Surface excess\n",
    "        try:\n",
    "            with open(newest_dirname+\"/surf_excess_wat_ethanol.dat\", \"r\") as sefile:\n",
    "                line = sefile.readline()\n",
    "                surfexcess = float(line.split()[-2])\n",
    "        except IOError:\n",
    "            print(\"Problems loading the surface excess file in dir {}\".format(newest_dirname))\n",
    "            surfexcess = None\n",
    "        except:\n",
    "            print(\"Generally some problems in the Surface excess loading -- check code.\")\n",
    "            surfexcess = None\n",
    "        finally:\n",
    "            surfexcs.append(surfexcess)\n",
    "        # adding Luzzati thickness from density profile xvg file\n",
    "        try:\n",
    "            dens_arr = np.loadtxt(newest_dirname+\"/density_ethanol_water.xvg\", comments=[\"#\", \"@\"])\n",
    "            wat = dens_arr[:,2]\n",
    "            x   = dens_arr[:,0]\n",
    "            d_z = np.abs(x[-1]-x[0])\n",
    "            bulkwatdens = np.mean(wat[:10])\n",
    "            wat /= bulkwatdens\n",
    "            h   = d_z - np.trapz(wat, x)\n",
    "            #print(x, wat, bulkwatdens, d_z, h)\n",
    "        except IOError:\n",
    "            print(\"Problems loading the density_ethanol_water XVG file in dir {}\".format(newest_dirname))\n",
    "            h = None\n",
    "        except:\n",
    "            print(\"Generally some problems in the density_ethanol_water loading resp. Luzzati thickness calc -- check code.\")\n",
    "            h = None\n",
    "        finally:\n",
    "            thicks.append(h)\n",
    "        # adding Compressibility modulus from Box-x xvg file\n",
    "        try:\n",
    "            x_t = np.loadtxt(newest_dirname+\"/boxx.xvg\", comments=[\"#\", \"@\"])\n",
    "            a_t = x_t**2\n",
    "            a_0 = a_t.mean(axis=0)[1]\n",
    "            dev = a_t-a_0\n",
    "            var =  np.var(dev, axis=0)[1]\n",
    "            ka = a_0/var\n",
    "        except IOError:\n",
    "            print(\"Problems loading the box-x XVG file in dir {}\".format(newest_dirname))\n",
    "            ka = None\n",
    "        except:\n",
    "            print(\"Generally some problems in the Box-x loading/calc -- check code.\")\n",
    "            ka = None\n",
    "        finally:\n",
    "            compress.append(ka)\n",
    "        # adding bending and tilt modulus from lipidator\n",
    "        try:\n",
    "            with open(newest_dirname+\"/lipidator.out\", \"r\") as lefile:\n",
    "                for line in lefile.readlines():\n",
    "                    linesplit = line.split()\n",
    "                    if line.startswith(\"Monolayer Bending\"):\n",
    "                        bending = float(linesplit[linesplit.index('kappa')+1])\n",
    "                    if line.startswith(\"Bilayer Tilt\"):\n",
    "                        tilt    = float(linesplit[linesplit.index('kappa')+1])\n",
    "                    if line.startswith(\" Area AVG\"):\n",
    "                        apl       = float(linesplit[linesplit.index('[bilayer]:')+1]) *0.01\n",
    "                        aplstderr = float(linesplit[linesplit.index('[bilayer]:')+4]) *0.01\n",
    "                        aplstdev  = float(linesplit[linesplit.index('[bilayer]:')+6]) *0.01\n",
    "                        \n",
    "        except IOError:\n",
    "            print(\"Problems loading the lipidator file in dir {}\".format(newest_dirname))\n",
    "            bending = tilt = None\n",
    "        except:\n",
    "            print(\"Generally some problems in loading Lipidator output -- check code.\")\n",
    "        finally:\n",
    "            try:\n",
    "                bendings.append(bending)\n",
    "                tilts.append(tilt)\n",
    "                apls.append(apl)\n",
    "                aplstderrs.append(aplstderr)\n",
    "            except:\n",
    "                bendings.append(None)\n",
    "                tilts.append(None)\n",
    "                apls.append(None)\n",
    "                aplstderrs.append(None)\n",
    "    except IOError:\n",
    "        print(\"Problems loading file {} (or its friction_ counterpart) with np.loadtxt\".format(newest_file))\n",
    "    #except:\n",
    "    #    print(\"Some other problem occured -- investigate in the code...\")\n",
    "    finally:    \n",
    "        # clean the other awh-files, which were found in the same folder\n",
    "        awh_files = [ f for f in awh_files if os.path.dirname(f) != newest_dirname]\n"
   ]
  },
  {
   "cell_type": "code",
   "execution_count": 3,
   "metadata": {},
   "outputs": [],
   "source": [
    "pdsims_all = pd.DataFrame([(r, std, dg, dgstd, apl, aplstd, p, pstd, surfex, bend, til, compr, thick) \n",
    "                           for (r, std, dg, dgstd, apl, aplstd, p, pstd, surfex, bend, til, compr, thick) \n",
    "                           in zip(means, stds, dgs, dgstds, apls, aplstderrs, perms, permstds, surfexcs, bendings, tilts, compress, thicks)], \n",
    "                          index=simulations.keys(), \n",
    "                          columns=[\"resistance ns/nm\", \"r std\", \"deltaG kT\", \"dG std\", \"APL nm2\", \"APL stderr\", \n",
    "                                   \"perm nm/us\", \"perm std\", \"surfexc nm-2\",\n",
    "                                   \"Bending modulus kT\", \"Tilt modulus kT/nm2\", \"Compressibility modulus kT/nm2\",\n",
    "                                   \"thickness nm\"])"
   ]
  },
  {
   "cell_type": "code",
   "execution_count": 4,
   "metadata": {},
   "outputs": [],
   "source": [
    "pdsims = pdsims_all"
   ]
  },
  {
   "cell_type": "code",
   "execution_count": 5,
   "metadata": {},
   "outputs": [
    {
     "data": {
      "text/html": [
       "<div>\n",
       "<style scoped>\n",
       "    .dataframe tbody tr th:only-of-type {\n",
       "        vertical-align: middle;\n",
       "    }\n",
       "\n",
       "    .dataframe tbody tr th {\n",
       "        vertical-align: top;\n",
       "    }\n",
       "\n",
       "    .dataframe thead th {\n",
       "        text-align: right;\n",
       "    }\n",
       "</style>\n",
       "<table border=\"1\" class=\"dataframe\">\n",
       "  <thead>\n",
       "    <tr style=\"text-align: right;\">\n",
       "      <th></th>\n",
       "      <th>resistance ns/nm</th>\n",
       "      <th>r std</th>\n",
       "      <th>deltaG kT</th>\n",
       "      <th>dG std</th>\n",
       "      <th>APL nm2</th>\n",
       "      <th>APL stderr</th>\n",
       "      <th>perm nm/us</th>\n",
       "      <th>perm std</th>\n",
       "      <th>surfexc nm-2</th>\n",
       "      <th>Bending modulus kT</th>\n",
       "      <th>Tilt modulus kT/nm2</th>\n",
       "      <th>Compressibility modulus kT/nm2</th>\n",
       "      <th>thickness nm</th>\n",
       "    </tr>\n",
       "  </thead>\n",
       "  <tbody>\n",
       "    <tr>\n",
       "      <th>./DNPC_di-C24-C26-1/awh-perm</th>\n",
       "      <td>3599.130157</td>\n",
       "      <td>222.212551</td>\n",
       "      <td>5.845824</td>\n",
       "      <td>0.195652</td>\n",
       "      <td>0.650363</td>\n",
       "      <td>0.000149</td>\n",
       "      <td>0.277845</td>\n",
       "      <td>0.017154</td>\n",
       "      <td>None</td>\n",
       "      <td>11.5620</td>\n",
       "      <td>23.7640</td>\n",
       "      <td>86.887427</td>\n",
       "      <td>5.007429</td>\n",
       "    </tr>\n",
       "    <tr>\n",
       "      <th>./DGPC_di-C20-C22-1/awh-perm</th>\n",
       "      <td>2381.956267</td>\n",
       "      <td>138.008642</td>\n",
       "      <td>5.469992</td>\n",
       "      <td>0.315903</td>\n",
       "      <td>0.654579</td>\n",
       "      <td>0.000185</td>\n",
       "      <td>0.419823</td>\n",
       "      <td>0.024324</td>\n",
       "      <td>None</td>\n",
       "      <td>14.7264</td>\n",
       "      <td>23.3837</td>\n",
       "      <td>77.109762</td>\n",
       "      <td>4.463948</td>\n",
       "    </tr>\n",
       "    <tr>\n",
       "      <th>./DOPC_di-C16-C18-1/awh-perm</th>\n",
       "      <td>1041.657754</td>\n",
       "      <td>115.896809</td>\n",
       "      <td>5.250605</td>\n",
       "      <td>0.136105</td>\n",
       "      <td>0.659611</td>\n",
       "      <td>0.000190</td>\n",
       "      <td>0.960008</td>\n",
       "      <td>0.106812</td>\n",
       "      <td>None</td>\n",
       "      <td>12.9827</td>\n",
       "      <td>19.8708</td>\n",
       "      <td>68.086306</td>\n",
       "      <td>3.645674</td>\n",
       "    </tr>\n",
       "    <tr>\n",
       "      <th>./DYPC_di-C12-C14-1/awh-perm</th>\n",
       "      <td>502.410675</td>\n",
       "      <td>68.942308</td>\n",
       "      <td>4.642096</td>\n",
       "      <td>0.050397</td>\n",
       "      <td>0.634132</td>\n",
       "      <td>0.000172</td>\n",
       "      <td>1.990404</td>\n",
       "      <td>0.273129</td>\n",
       "      <td>None</td>\n",
       "      <td>13.7143</td>\n",
       "      <td>21.4417</td>\n",
       "      <td>68.355247</td>\n",
       "      <td>3.127697</td>\n",
       "    </tr>\n",
       "  </tbody>\n",
       "</table>\n",
       "</div>"
      ],
      "text/plain": [
       "                              resistance ns/nm       r std  deltaG kT  \\\n",
       "./DNPC_di-C24-C26-1/awh-perm       3599.130157  222.212551   5.845824   \n",
       "./DGPC_di-C20-C22-1/awh-perm       2381.956267  138.008642   5.469992   \n",
       "./DOPC_di-C16-C18-1/awh-perm       1041.657754  115.896809   5.250605   \n",
       "./DYPC_di-C12-C14-1/awh-perm        502.410675   68.942308   4.642096   \n",
       "\n",
       "                                dG std   APL nm2  APL stderr  perm nm/us  \\\n",
       "./DNPC_di-C24-C26-1/awh-perm  0.195652  0.650363    0.000149    0.277845   \n",
       "./DGPC_di-C20-C22-1/awh-perm  0.315903  0.654579    0.000185    0.419823   \n",
       "./DOPC_di-C16-C18-1/awh-perm  0.136105  0.659611    0.000190    0.960008   \n",
       "./DYPC_di-C12-C14-1/awh-perm  0.050397  0.634132    0.000172    1.990404   \n",
       "\n",
       "                              perm std surfexc nm-2  Bending modulus kT  \\\n",
       "./DNPC_di-C24-C26-1/awh-perm  0.017154         None             11.5620   \n",
       "./DGPC_di-C20-C22-1/awh-perm  0.024324         None             14.7264   \n",
       "./DOPC_di-C16-C18-1/awh-perm  0.106812         None             12.9827   \n",
       "./DYPC_di-C12-C14-1/awh-perm  0.273129         None             13.7143   \n",
       "\n",
       "                              Tilt modulus kT/nm2  \\\n",
       "./DNPC_di-C24-C26-1/awh-perm              23.7640   \n",
       "./DGPC_di-C20-C22-1/awh-perm              23.3837   \n",
       "./DOPC_di-C16-C18-1/awh-perm              19.8708   \n",
       "./DYPC_di-C12-C14-1/awh-perm              21.4417   \n",
       "\n",
       "                              Compressibility modulus kT/nm2  thickness nm  \n",
       "./DNPC_di-C24-C26-1/awh-perm                       86.887427      5.007429  \n",
       "./DGPC_di-C20-C22-1/awh-perm                       77.109762      4.463948  \n",
       "./DOPC_di-C16-C18-1/awh-perm                       68.086306      3.645674  \n",
       "./DYPC_di-C12-C14-1/awh-perm                       68.355247      3.127697  "
      ]
     },
     "execution_count": 5,
     "metadata": {},
     "output_type": "execute_result"
    }
   ],
   "source": [
    "pdsims.sort_values(by=\"perm nm/us\")"
   ]
  },
  {
   "cell_type": "markdown",
   "metadata": {},
   "source": [
    "## Saving into CSVs\n",
    "\n",
    "as there lots of rubbish in the table \n",
    "and we are only interested in the prermeabilities, \n",
    "let's select only Perm and its error estimate."
   ]
  },
  {
   "cell_type": "code",
   "execution_count": 6,
   "metadata": {},
   "outputs": [],
   "source": [
    "pdsims.to_csv(\"list_of_simulations_all_values.csv\")"
   ]
  },
  {
   "cell_type": "markdown",
   "metadata": {},
   "source": [
    "# Continue here after loading data from CSV in the last cell"
   ]
  },
  {
   "cell_type": "code",
   "execution_count": 28,
   "metadata": {},
   "outputs": [],
   "source": [
    "permsdf = pdsims.loc[:,\"perm nm/us\" : \"perm std\"].sort_values(by=\"perm nm/us\")"
   ]
  },
  {
   "cell_type": "markdown",
   "metadata": {},
   "source": [
    "Save the actual permeabilities into a CSV:"
   ]
  },
  {
   "cell_type": "code",
   "execution_count": 8,
   "metadata": {},
   "outputs": [],
   "source": [
    "permsdf.to_csv(\"list_of_simulations_permeability-tail-length.csv\")"
   ]
  },
  {
   "cell_type": "markdown",
   "metadata": {},
   "source": [
    "Calculate relative permeabilities – normalized to the thinnest membrane (last after sorting)"
   ]
  },
  {
   "cell_type": "code",
   "execution_count": 29,
   "metadata": {},
   "outputs": [],
   "source": [
    "# get the relative permeability error estimate\n",
    "permsdf[\"perm relerr\"] = permsdf.loc[:, \"perm std\"] / permsdf.loc[:, \"perm nm/us\"]\n",
    "\n",
    "permsdfrel = permsdf.drop(columns=\"perm std\")"
   ]
  },
  {
   "cell_type": "code",
   "execution_count": 30,
   "metadata": {},
   "outputs": [],
   "source": [
    "permsdfrel.loc[:, \"perm nm/us\"] /= permsdfrel.loc[\"./DYPC_di-C12-C14-1/awh-perm\", \"perm nm/us\"]"
   ]
  },
  {
   "cell_type": "code",
   "execution_count": 31,
   "metadata": {},
   "outputs": [
    {
     "data": {
      "text/html": [
       "<div>\n",
       "<style scoped>\n",
       "    .dataframe tbody tr th:only-of-type {\n",
       "        vertical-align: middle;\n",
       "    }\n",
       "\n",
       "    .dataframe tbody tr th {\n",
       "        vertical-align: top;\n",
       "    }\n",
       "\n",
       "    .dataframe thead th {\n",
       "        text-align: right;\n",
       "    }\n",
       "</style>\n",
       "<table border=\"1\" class=\"dataframe\">\n",
       "  <thead>\n",
       "    <tr style=\"text-align: right;\">\n",
       "      <th></th>\n",
       "      <th>perm nm/us</th>\n",
       "      <th>perm relerr</th>\n",
       "    </tr>\n",
       "  </thead>\n",
       "  <tbody>\n",
       "    <tr>\n",
       "      <th>./DNPC_di-C24-C26-1/awh-perm</th>\n",
       "      <td>0.139592</td>\n",
       "      <td>0.061741</td>\n",
       "    </tr>\n",
       "    <tr>\n",
       "      <th>./DGPC_di-C20-C22-1/awh-perm</th>\n",
       "      <td>0.210924</td>\n",
       "      <td>0.057939</td>\n",
       "    </tr>\n",
       "    <tr>\n",
       "      <th>./DOPC_di-C16-C18-1/awh-perm</th>\n",
       "      <td>0.482318</td>\n",
       "      <td>0.111262</td>\n",
       "    </tr>\n",
       "    <tr>\n",
       "      <th>./DYPC_di-C12-C14-1/awh-perm</th>\n",
       "      <td>1.000000</td>\n",
       "      <td>0.137223</td>\n",
       "    </tr>\n",
       "  </tbody>\n",
       "</table>\n",
       "</div>"
      ],
      "text/plain": [
       "                              perm nm/us  perm relerr\n",
       "./DNPC_di-C24-C26-1/awh-perm    0.139592     0.061741\n",
       "./DGPC_di-C20-C22-1/awh-perm    0.210924     0.057939\n",
       "./DOPC_di-C16-C18-1/awh-perm    0.482318     0.111262\n",
       "./DYPC_di-C12-C14-1/awh-perm    1.000000     0.137223"
      ]
     },
     "execution_count": 31,
     "metadata": {},
     "output_type": "execute_result"
    }
   ],
   "source": [
    "permsdfrel"
   ]
  },
  {
   "cell_type": "markdown",
   "metadata": {},
   "source": [
    "Save the relative permeabilities into a CSV:"
   ]
  },
  {
   "cell_type": "code",
   "execution_count": 32,
   "metadata": {},
   "outputs": [],
   "source": [
    "permsdfrel.to_csv(\"list_of_simulations_permeability-tail-length-relative.csv\")"
   ]
  },
  {
   "cell_type": "code",
   "execution_count": 33,
   "metadata": {},
   "outputs": [
    {
     "data": {
      "text/plain": [
       "<matplotlib.axes._subplots.AxesSubplot at 0x7f6f07db29a0>"
      ]
     },
     "execution_count": 33,
     "metadata": {},
     "output_type": "execute_result"
    },
    {
     "data": {
      "image/png": "[encoded data removed]",
      "text/plain": [
       "<Figure size 432x288 with 1 Axes>"
      ]
     },
     "metadata": {
      "needs_background": "light"
     },
     "output_type": "display_data"
    }
   ],
   "source": [
    "permsdfrel.plot.bar()"
   ]
  },
  {
   "cell_type": "markdown",
   "metadata": {},
   "source": [
    "## Plot (normalized) Permeability as a function of thickness"
   ]
  },
  {
   "cell_type": "code",
   "execution_count": 34,
   "metadata": {},
   "outputs": [],
   "source": [
    "# make a new dataframe\n",
    "relperdf = pdsims.sort_values(by=\"perm nm/us\")\n",
    "\n",
    "# get the relative permeability (+error estimate) from existing DF\n",
    "relperdf[\"perm rel\"] = permsdfrel[\"perm nm/us\"]\n",
    "relperdf[\"perm relerr\"] = permsdf[\"perm relerr\"]"
   ]
  },
  {
   "cell_type": "code",
   "execution_count": 35,
   "metadata": {},
   "outputs": [
    {
     "data": {
      "text/html": [
       "<div>\n",
       "<style scoped>\n",
       "    .dataframe tbody tr th:only-of-type {\n",
       "        vertical-align: middle;\n",
       "    }\n",
       "\n",
       "    .dataframe tbody tr th {\n",
       "        vertical-align: top;\n",
       "    }\n",
       "\n",
       "    .dataframe thead th {\n",
       "        text-align: right;\n",
       "    }\n",
       "</style>\n",
       "<table border=\"1\" class=\"dataframe\">\n",
       "  <thead>\n",
       "    <tr style=\"text-align: right;\">\n",
       "      <th></th>\n",
       "      <th>resistance ns/nm</th>\n",
       "      <th>r std</th>\n",
       "      <th>deltaG kT</th>\n",
       "      <th>dG std</th>\n",
       "      <th>APL nm2</th>\n",
       "      <th>APL stderr</th>\n",
       "      <th>perm nm/us</th>\n",
       "      <th>perm std</th>\n",
       "      <th>surfexc nm-2</th>\n",
       "      <th>Bending modulus kT</th>\n",
       "      <th>Tilt modulus kT/nm2</th>\n",
       "      <th>Compressibility modulus kT/nm2</th>\n",
       "      <th>thickness nm</th>\n",
       "      <th>perm rel</th>\n",
       "      <th>perm relerr</th>\n",
       "    </tr>\n",
       "  </thead>\n",
       "  <tbody>\n",
       "    <tr>\n",
       "      <th>./DNPC_di-C24-C26-1/awh-perm</th>\n",
       "      <td>3599.130157</td>\n",
       "      <td>222.212551</td>\n",
       "      <td>5.845824</td>\n",
       "      <td>0.195652</td>\n",
       "      <td>0.650363</td>\n",
       "      <td>0.000149</td>\n",
       "      <td>0.277845</td>\n",
       "      <td>0.017154</td>\n",
       "      <td>NaN</td>\n",
       "      <td>11.5620</td>\n",
       "      <td>23.7640</td>\n",
       "      <td>86.887427</td>\n",
       "      <td>5.007429</td>\n",
       "      <td>0.139592</td>\n",
       "      <td>0.061741</td>\n",
       "    </tr>\n",
       "    <tr>\n",
       "      <th>./DGPC_di-C20-C22-1/awh-perm</th>\n",
       "      <td>2381.956267</td>\n",
       "      <td>138.008642</td>\n",
       "      <td>5.469992</td>\n",
       "      <td>0.315903</td>\n",
       "      <td>0.654579</td>\n",
       "      <td>0.000185</td>\n",
       "      <td>0.419823</td>\n",
       "      <td>0.024324</td>\n",
       "      <td>NaN</td>\n",
       "      <td>14.7264</td>\n",
       "      <td>23.3837</td>\n",
       "      <td>77.109762</td>\n",
       "      <td>4.463948</td>\n",
       "      <td>0.210924</td>\n",
       "      <td>0.057939</td>\n",
       "    </tr>\n",
       "    <tr>\n",
       "      <th>./DOPC_di-C16-C18-1/awh-perm</th>\n",
       "      <td>1041.657754</td>\n",
       "      <td>115.896809</td>\n",
       "      <td>5.250605</td>\n",
       "      <td>0.136105</td>\n",
       "      <td>0.659611</td>\n",
       "      <td>0.000190</td>\n",
       "      <td>0.960008</td>\n",
       "      <td>0.106812</td>\n",
       "      <td>NaN</td>\n",
       "      <td>12.9827</td>\n",
       "      <td>19.8708</td>\n",
       "      <td>68.086306</td>\n",
       "      <td>3.645674</td>\n",
       "      <td>0.482318</td>\n",
       "      <td>0.111262</td>\n",
       "    </tr>\n",
       "    <tr>\n",
       "      <th>./DYPC_di-C12-C14-1/awh-perm</th>\n",
       "      <td>502.410675</td>\n",
       "      <td>68.942308</td>\n",
       "      <td>4.642096</td>\n",
       "      <td>0.050397</td>\n",
       "      <td>0.634132</td>\n",
       "      <td>0.000172</td>\n",
       "      <td>1.990404</td>\n",
       "      <td>0.273129</td>\n",
       "      <td>NaN</td>\n",
       "      <td>13.7143</td>\n",
       "      <td>21.4417</td>\n",
       "      <td>68.355247</td>\n",
       "      <td>3.127697</td>\n",
       "      <td>1.000000</td>\n",
       "      <td>0.137223</td>\n",
       "    </tr>\n",
       "  </tbody>\n",
       "</table>\n",
       "</div>"
      ],
      "text/plain": [
       "                              resistance ns/nm       r std  deltaG kT  \\\n",
       "./DNPC_di-C24-C26-1/awh-perm       3599.130157  222.212551   5.845824   \n",
       "./DGPC_di-C20-C22-1/awh-perm       2381.956267  138.008642   5.469992   \n",
       "./DOPC_di-C16-C18-1/awh-perm       1041.657754  115.896809   5.250605   \n",
       "./DYPC_di-C12-C14-1/awh-perm        502.410675   68.942308   4.642096   \n",
       "\n",
       "                                dG std   APL nm2  APL stderr  perm nm/us  \\\n",
       "./DNPC_di-C24-C26-1/awh-perm  0.195652  0.650363    0.000149    0.277845   \n",
       "./DGPC_di-C20-C22-1/awh-perm  0.315903  0.654579    0.000185    0.419823   \n",
       "./DOPC_di-C16-C18-1/awh-perm  0.136105  0.659611    0.000190    0.960008   \n",
       "./DYPC_di-C12-C14-1/awh-perm  0.050397  0.634132    0.000172    1.990404   \n",
       "\n",
       "                              perm std  surfexc nm-2  Bending modulus kT  \\\n",
       "./DNPC_di-C24-C26-1/awh-perm  0.017154           NaN             11.5620   \n",
       "./DGPC_di-C20-C22-1/awh-perm  0.024324           NaN             14.7264   \n",
       "./DOPC_di-C16-C18-1/awh-perm  0.106812           NaN             12.9827   \n",
       "./DYPC_di-C12-C14-1/awh-perm  0.273129           NaN             13.7143   \n",
       "\n",
       "                              Tilt modulus kT/nm2  \\\n",
       "./DNPC_di-C24-C26-1/awh-perm              23.7640   \n",
       "./DGPC_di-C20-C22-1/awh-perm              23.3837   \n",
       "./DOPC_di-C16-C18-1/awh-perm              19.8708   \n",
       "./DYPC_di-C12-C14-1/awh-perm              21.4417   \n",
       "\n",
       "                              Compressibility modulus kT/nm2  thickness nm  \\\n",
       "./DNPC_di-C24-C26-1/awh-perm                       86.887427      5.007429   \n",
       "./DGPC_di-C20-C22-1/awh-perm                       77.109762      4.463948   \n",
       "./DOPC_di-C16-C18-1/awh-perm                       68.086306      3.645674   \n",
       "./DYPC_di-C12-C14-1/awh-perm                       68.355247      3.127697   \n",
       "\n",
       "                              perm rel  perm relerr  \n",
       "./DNPC_di-C24-C26-1/awh-perm  0.139592     0.061741  \n",
       "./DGPC_di-C20-C22-1/awh-perm  0.210924     0.057939  \n",
       "./DOPC_di-C16-C18-1/awh-perm  0.482318     0.111262  \n",
       "./DYPC_di-C12-C14-1/awh-perm  1.000000     0.137223  "
      ]
     },
     "execution_count": 35,
     "metadata": {},
     "output_type": "execute_result"
    }
   ],
   "source": [
    "relperdf"
   ]
  },
  {
   "cell_type": "code",
   "execution_count": 36,
   "metadata": {},
   "outputs": [],
   "source": [
    "import seaborn as sns"
   ]
  },
  {
   "cell_type": "code",
   "execution_count": 37,
   "metadata": {},
   "outputs": [
    {
     "data": {
      "text/plain": [
       "<seaborn.axisgrid.PairGrid at 0x7f6f061e9940>"
      ]
     },
     "execution_count": 37,
     "metadata": {},
     "output_type": "execute_result"
    },
    {
     "data": {
      "image/png": "[encoded data removed]",
      "text/plain": [
       "<Figure size 540x540 with 12 Axes>"
      ]
     },
     "metadata": {
      "needs_background": "light"
     },
     "output_type": "display_data"
    }
   ],
   "source": [
    "# a quick pairplot of relevant features to see the dataset roughly...\n",
    "sns.pairplot(relperdf[[\"perm rel\", \"APL nm2\", \"thickness nm\"]])"
   ]
  },
  {
   "cell_type": "code",
   "execution_count": 38,
   "metadata": {},
   "outputs": [
    {
     "data": {
      "image/png": "[encoded data removed]",
      "text/plain": [
       "<Figure size 316.8x158.4 with 1 Axes>"
      ]
     },
     "metadata": {
      "needs_background": "light"
     },
     "output_type": "display_data"
    }
   ],
   "source": [
    "#sns.lmplot(data=relperdf, x=\"thickness nm\", y='perm rel')\n",
    "fig = plt.figure(figsize=[4.4,2.2])\n",
    "plt.errorbar(data=relperdf.sort_values(by=\"thickness nm\"), x=\"thickness nm\", y='perm rel', yerr=\"perm relerr\", \n",
    "             label=None,\n",
    "             marker=None,\n",
    "             ls=\"--\", color='grey')\n",
    "sns.scatterplot(data=relperdf.sort_values(by=\"thickness nm\"), x=\"thickness nm\", y='perm rel', \n",
    "                hue=[\"C14\", \"C18\", \"C22\", \"C26\"], hue_order=[\"C14\", \"C18\", \"C22\", \"C26\"],\n",
    "                palette='inferno',\n",
    "                markers=\"s\", s=155)\n",
    "plt.xlabel(\"Hydrophobic thickness (nm)\")\n",
    "plt.ylabel(\"Permeability (a.u.)\")\n",
    "\n",
    "plt.savefig(\"rel-perm-thickness_plot.png\", dpi=300, bbox_inches='tight')"
   ]
  },
  {
   "cell_type": "code",
   "execution_count": 39,
   "metadata": {},
   "outputs": [
    {
     "data": {
      "image/png": "[encoded data removed]",
      "text/plain": [
       "<Figure size 172.8x374.4 with 1 Axes>"
      ]
     },
     "metadata": {
      "needs_background": "light"
     },
     "output_type": "display_data"
    }
   ],
   "source": [
    "#sns.lmplot(data=relperdf, x=\"thickness nm\", y='perm rel')\n",
    "fig = plt.figure(figsize=[2.4,5.2])\n",
    "plt.errorbar(data=relperdf.sort_values(by=\"thickness nm\"), x=\"thickness nm\", y='perm rel', yerr=\"perm relerr\", \n",
    "             label=None,\n",
    "             marker=None,\n",
    "             ls=\"--\", color='grey')\n",
    "sns.scatterplot(data=relperdf.sort_values(by=\"thickness nm\"), x=\"thickness nm\", y='perm rel', \n",
    "                hue=[\"C14\", \"C18\", \"C22\", \"C26\"], hue_order=[\"C14\", \"C18\", \"C22\", \"C26\"],\n",
    "                palette='inferno',\n",
    "                markers=\"s\", s=155)\n",
    "plt.xlabel(\"Hydrophobic thickness (nm)\")\n",
    "plt.ylabel(\"Permeability (a.u.)\")\n",
    "\n",
    "plt.savefig(\"rel-perm-thickness_plot_vertical.png\", dpi=300, bbox_inches='tight')"
   ]
  },
  {
   "cell_type": "code",
   "execution_count": 40,
   "metadata": {},
   "outputs": [
    {
     "data": {
      "image/png": "[encoded data removed]",
      "text/plain": [
       "<Figure size 316.8x158.4 with 1 Axes>"
      ]
     },
     "metadata": {
      "needs_background": "light"
     },
     "output_type": "display_data"
    }
   ],
   "source": [
    "#sns.lmplot(data=relperdf, x=\"thickness nm\", y='perm rel')\n",
    "fig = plt.figure(figsize=[4.4,2.2])\n",
    "plt.errorbar(data=relperdf.sort_values(by=\"APL nm2\"), x=\"APL nm2\", y='perm rel', yerr=\"perm relerr\", \n",
    "             label=None,\n",
    "             marker=None,\n",
    "             ls=\"\", color='grey')\n",
    "sns.scatterplot(data=relperdf.sort_values(by=\"APL nm2\"), x=\"APL nm2\", y='perm rel', \n",
    "                hue=[\"C14\", \"C26\", \"C22\", \"C18\"], hue_order=[\"C14\", \"C18\", \"C22\", \"C26\"],\n",
    "                palette='inferno',\n",
    "                markers=\"s\", s=155)\n",
    "plt.xlabel(r\"Lipid surface area (nm$^2$)\")\n",
    "plt.ylabel(\"Permeability (a.u.)\")\n",
    "plt.xlim([0.625,0.665])\n",
    "plt.legend(loc='lower left')\n",
    "\n",
    "plt.savefig(\"rel-perm-APL_plot.png\", dpi=300, bbox_inches='tight')"
   ]
  },
  {
   "cell_type": "code",
   "execution_count": 41,
   "metadata": {},
   "outputs": [
    {
     "data": {
      "image/png": "[encoded data removed]",
      "text/plain": [
       "<Figure size 316.8x158.4 with 1 Axes>"
      ]
     },
     "metadata": {
      "needs_background": "light"
     },
     "output_type": "display_data"
    }
   ],
   "source": [
    "#sns.lmplot(data=relperdf, x=\"thickness nm\", y='perm rel')\n",
    "fig = plt.figure(figsize=[4.4,2.2])\n",
    "sns.scatterplot(data=relperdf.sort_values(by=\"APL nm2\"), x=\"APL nm2\", y=\"thickness nm\", \n",
    "                hue=[\"C14\", \"C26\", \"C22\", \"C18\"], hue_order=[\"C14\", \"C18\", \"C22\", \"C26\"],\n",
    "                palette='inferno',\n",
    "                markers=\"s\", s=155)\n",
    "plt.xlabel(r\"Lipid surface area (nm$^2$)\")\n",
    "plt.ylabel(\"Permeability (a.u.)\")\n",
    "plt.xlim([0.625,0.665])\n",
    "plt.legend(loc='upper left')\n",
    "\n",
    "plt.savefig(\"thickness-APL_plot.png\", dpi=300, bbox_inches='tight')"
   ]
  },
  {
   "cell_type": "code",
   "execution_count": 42,
   "metadata": {},
   "outputs": [],
   "source": [
    "# Data Loading for re-plotting...\n",
    "\n",
    "# this is not required\n",
    "#permsdf = pd.read_csv(\"list_of_simulations_permeability-tail-length-relative.csv\", index_col=0)\n",
    "\n",
    "pdsims  = pd.read_csv(\"list_of_simulations_all_values.csv\", index_col=0)"
   ]
  },
  {
   "cell_type": "code",
   "execution_count": null,
   "metadata": {},
   "outputs": [],
   "source": []
  }
 ],
 "metadata": {
  "kernelspec": {
   "display_name": "Python 3",
   "language": "python",
   "name": "python3"
  },
  "language_info": {
   "codemirror_mode": {
    "name": "ipython",
    "version": 3
   },
   "file_extension": ".py",
   "mimetype": "text/x-python",
   "name": "python",
   "nbconvert_exporter": "python",
   "pygments_lexer": "ipython3",
   "version": "3.8.3"
  }
 },
 "nbformat": 4,
 "nbformat_minor": 4
}
