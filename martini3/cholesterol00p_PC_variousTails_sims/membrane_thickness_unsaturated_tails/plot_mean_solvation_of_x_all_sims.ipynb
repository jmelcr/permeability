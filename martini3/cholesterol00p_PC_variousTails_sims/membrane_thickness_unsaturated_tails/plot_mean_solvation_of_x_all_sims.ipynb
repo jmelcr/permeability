{
 "cells": [
  {
   "cell_type": "markdown",
   "metadata": {},
   "source": [
    "# Mean solvation across membrane\n",
    "In this notebook, \n",
    "I calculate and Plot the mean solvation \n",
    "(mean number of solvent particles from `gmx mindist` called `numcont`)\n",
    "as a function of the distance from the membrane center (from `pullx`)."
   ]
  },
  {
   "cell_type": "code",
   "execution_count": 1,
   "metadata": {},
   "outputs": [],
   "source": [
    "import pandas as pd\n",
    "import numpy as np\n",
    "import seaborn as sns\n",
    "import matplotlib.pyplot as plt\n",
    "import os, fnmatch\n",
    "import pickle\n"
   ]
  },
  {
   "cell_type": "code",
   "execution_count": 2,
   "metadata": {},
   "outputs": [],
   "source": [
    "def find(pattern, path):\n",
    "    result = []\n",
    "    for root, dirs, files in os.walk(path):\n",
    "        for name in files:\n",
    "            if fnmatch.fnmatch(name, pattern):\n",
    "                result.append(os.path.join(root, name))\n",
    "    return result\n",
    "\n",
    "\n",
    "def locate(pattern, root=os.curdir):\n",
    "    '''Locate all files matching supplied filename pattern in and below\n",
    "    supplied root directory.'''\n",
    "    for path, dirs, files in os.walk(os.path.abspath(root)):\n",
    "        for filename in fnmatch.filter(files, pattern):\n",
    "            yield os.path.join(path, filename)\n"
   ]
  },
  {
   "cell_type": "code",
   "execution_count": 3,
   "metadata": {},
   "outputs": [],
   "source": [
    "class Simulation:\n",
    "    \"\"\"\n",
    "    class that is very specific to the use with my permeability project.\n",
    "    It uses pre-analyzed results from Gromacs\n",
    "    to calculate the mean hydration along the membrane normal.\n",
    "    \"\"\"\n",
    "    def __init__(self, pullx_fname='pullx.xvg', numcont_fname=\"numcont_particle-solvent.xvg\"):\n",
    "        self.dirname       = os.path.dirname(pullx_fname)\n",
    "        self.pullx_fname   = pullx_fname\n",
    "        self.numcont_fname = numcont_fname\n",
    "        \n",
    "        \n",
    "    def load_df(self, fname, columns, app_func=None):\n",
    "        \"\"\"\n",
    "        methods loads a xvg file (expecting only two columns) \n",
    "        and turnes it into a dataframe with the described column names.\n",
    "        columns shall be a list of column names.\n",
    "        app_func is a name of a function to be applied on the resulting DataFrame\n",
    "        \"\"\"\n",
    "        arr = np.loadtxt(fname, dtype=float, comments=[\"#\", \"@\"])\n",
    "        df  = pd.DataFrame(arr, columns=columns).set_index(columns[0])\n",
    "        if app_func:\n",
    "            df = df.apply(app_func)\n",
    "            \n",
    "        return df\n",
    "\n",
    "    \n",
    "    def merge2dfs(self, df1, df2, on_index='t'):\n",
    "        \"simply merge two dataframes o the specified index name\"\n",
    "        return df1.merge(df2, on=on_index)\n",
    "    \n",
    "    \n",
    "    def load_xnt_df(self):\n",
    "        \"\"\"\n",
    "        loads in necessarry data to return \n",
    "        a DataFrame containing the x - numcont values \n",
    "        with t as index\n",
    "        \"\"\"\n",
    "        df = self.merge2dfs(self.load_df(self.pullx_fname, columns=['t', 'x'], app_func=abs),\n",
    "                                   self.load_df(self.numcont_fname, columns=['t', 'numcont']))\n",
    "        #df.numcont = df.numcont.apply(int)\n",
    "        return df\n",
    "      \n",
    "        \n",
    "    @property\n",
    "    def mean_solv(self):\n",
    "        try:\n",
    "            return self.__mean_solv_df\n",
    "        except:\n",
    "            return self.calc_mean_solv()\n",
    "            \n",
    "\n",
    "    @property\n",
    "    def degree_of_solv(self):\n",
    "        \"\"\"\n",
    "        using a definition that 0=dry ; 1=in contact with solvent\n",
    "        the average value tells on the probability of \n",
    "        being dry -vs- in contact with at least one solvent molecule. \n",
    "        \"\"\"\n",
    "        try:\n",
    "            return self.__degree_of_solv_df\n",
    "        except:\n",
    "            return self.calc_mean_solv(degree_of_solv=True)\n",
    "            \n",
    "    \n",
    "    def calc_mean_solv(self, bins=40, degree_of_solv=False):\n",
    "        \"\"\"\n",
    "        calculate the profile of mean solvation (incl. std).\n",
    "        input DataFrame has to have a column 'x'\n",
    "        and\n",
    "        calculate the degree of solbvation - stores as a hidden variable\n",
    "        \"\"\"\n",
    "        # load the files to make the x-numcont(t) DataFrame\n",
    "        xnbinst = self.load_xnt_df()\n",
    "        # perform binning (equal sizes)\n",
    "        xnbinst['bins'] = pd.cut(xnbinst.x, bins=bins)\n",
    "        # empty list to contain the final array\n",
    "        mean_solvation_list = []\n",
    "        degree_of_solvation_list = []\n",
    "        for group in xnbinst.groupby(by='bins'):\n",
    "            grind = group[0]\n",
    "            df = group[1]\n",
    "            # store the center of the bin and the mean+std of solvation value\n",
    "            mean_solvation_list.append([grind.mid, df.numcont.agg(np.mean), df.numcont.agg(np.std)])\n",
    "            # change the DF so that numcont value is truncated to 1 for higher values\n",
    "            df['degsolv'] = df['numcont'].where(df['numcont']<1.0, other=1.0)\n",
    "            degree_of_solvation_list.append([grind.mid, df.degsolv.agg(np.mean), df.degsolv.agg(np.std)])\n",
    "\n",
    "        self.__mean_solv_df = pd.DataFrame(mean_solvation_list, \n",
    "                                           columns=[\"x [nm]\", \"num_solvent mean\", \"num_solvent std\"])\n",
    "        self.__degree_of_solv_df = pd.DataFrame(degree_of_solvation_list, \n",
    "                                           columns=[\"x [nm]\", \"degree of solvation mean\", \"degree of solvation std\"])\n",
    "        \n",
    "        if degree_of_solv:\n",
    "            return self.__degree_of_solv_df\n",
    "        else:\n",
    "            return self.__mean_solv_df\n",
    "\n",
    "\n",
    "    def plot_mean_solv_profile(self, alpha=0.5, plt_label=None, plt_stdev=False, plt_solvdeg=False):\n",
    "        \"\"\"\n",
    "        output: seaborn plot of the mean solvation profile including a\n",
    "        Standard deviation as a fill-between area\n",
    "        \"\"\"\n",
    "        if plt_solvdeg:\n",
    "            colname = 'degree of solvation'\n",
    "            simdf = self.degree_of_solv\n",
    "        else:\n",
    "            colname = 'num_solvent'\n",
    "            simdf = self.mean_solv\n",
    "            \n",
    "        simdf['y1'] = simdf[colname+' mean'] + simdf[colname+' std']\n",
    "        simdf['y2'] = simdf[colname+' mean'] - simdf[colname+' std']\n",
    "        simdf['y2'] = simdf['y2'].where(simdf['y2']>0.0, other=0.0)\n",
    "        \n",
    "        # store the DF for quick check and access\n",
    "        self.simdf = simdf.copy()\n",
    "        \n",
    "        #plotting!\n",
    "        fig = sns.lineplot(data=simdf, x='x [nm]', y=colname+' mean', label=plt_label )\n",
    "        if plt_stdev:\n",
    "            fig.fill_between(data=simdf, x='x [nm]', y1='y1', y2='y2', alpha=alpha)\n",
    "        \n",
    "        return fig"
   ]
  },
  {
   "cell_type": "markdown",
   "metadata": {},
   "source": [
    "# Plot the average numcont value per bin/gridpoint\n",
    "This property does not need to be reweighted as the averages per each bin \n",
    "are independent. \n",
    "Only sufficient amount of sampling is necessary. "
   ]
  },
  {
   "cell_type": "code",
   "execution_count": 4,
   "metadata": {},
   "outputs": [
    {
     "name": "stdout",
     "output_type": "stream",
     "text": [
      "./DNPC_di-C24-C26-1/awh-perm\n",
      "./DYPC_di-C12-C14-1/awh-perm\n",
      "./DOPC_di-C16-C18-1/awh-perm\n",
      "./DGPC_di-C20-C22-1/awh-perm\n"
     ]
    }
   ],
   "source": [
    "# find all pullx files in the curdir and below\n",
    "pullx_files = find(\"pullx.xvg\", os.curdir)\n",
    "\n",
    "# create Simulation class instance based on the generated data\n",
    "sims    = []\n",
    "for f in pullx_files:\n",
    "    dirname = os.path.dirname(f)\n",
    "    numcont_fname = os.path.join(dirname, \"numcont_particle-solvent.xvg\")\n",
    "    sim = Simulation(pullx_fname=f, numcont_fname=numcont_fname)\n",
    "    sims.append(sim)\n",
    "    print(dirname)\n"
   ]
  },
  {
   "cell_type": "code",
   "execution_count": 5,
   "metadata": {},
   "outputs": [],
   "source": [
    "#selected_particles = [\"SC5\", \"SP3\", \"SP6\", \"SN2\", \"SN3\"]\n",
    "sns.set_palette(\"inferno\", n_colors=len(sims))"
   ]
  },
  {
   "cell_type": "code",
   "execution_count": 6,
   "metadata": {},
   "outputs": [],
   "source": [
    "# sort the list of simulations after their particle name (follows solubility, yay!)\n",
    "sims.sort(key=lambda sim: sim.dirname[11:13])"
   ]
  },
  {
   "cell_type": "code",
   "execution_count": 7,
   "metadata": {},
   "outputs": [],
   "source": [
    "# set the plotting label from the dirname\n",
    "for s in sims:\n",
    "    s.label = s.dirname[14:17]"
   ]
  },
  {
   "cell_type": "code",
   "execution_count": 8,
   "metadata": {},
   "outputs": [
    {
     "data": {
      "image/png": "[encoded data removed]",
      "text/plain": [
       "<Figure size 316.8x158.4 with 1 Axes>"
      ]
     },
     "metadata": {
      "needs_background": "light"
     },
     "output_type": "display_data"
    }
   ],
   "source": [
    "# make a plot of the solvatation profile for each simulation \n",
    "for sim in sims:\n",
    "    if True:  #any(x in sim.dirname for x in selected_particles):\n",
    "        try: \n",
    "            fig = sim.plot_mean_solv_profile(plt_label=sim.label)\n",
    "        except:\n",
    "            pass\n",
    "\n",
    "fig.figure.set_size_inches([4.4,2.2])\n",
    "\n",
    "fig.set_xlabel(\"Distance from membrane center (nm)\")\n",
    "fig.set_ylabel(\"Mean solvation\")\n",
    "        \n",
    "fig.figure.savefig(\"mean_solvation_profiles.png\", dpi=300, bbox_inches='tight')\n",
    "\n",
    "#fig.set_xlim([0.5,2.2])\n",
    "#fig.set_ylim([-0.1, 8.0])\n",
    "#fig.figure.savefig(\"mean_solvation_profiles_zoomin.png\", dpi=150, bbox_inches='tight')\n"
   ]
  },
  {
   "cell_type": "code",
   "execution_count": 12,
   "metadata": {},
   "outputs": [
    {
     "data": {
      "image/png": "[encoded data removed]",
      "text/plain": [
       "<Figure size 216x158.4 with 1 Axes>"
      ]
     },
     "metadata": {
      "needs_background": "light"
     },
     "output_type": "display_data"
    }
   ],
   "source": [
    "# make a plot of the solvatation profile for each simulation \n",
    "for sim in sims:\n",
    "    if True:   #any(x in sim.dirname for x in selected_particles):\n",
    "        try: \n",
    "            fig = sim.plot_mean_solv_profile(plt_label=sim.label, plt_solvdeg=True)\n",
    "            sim.degree_of_solv.iloc[:, :3].to_excel(\n",
    "                \"table_solvent-accessibility-profile_particle-level-III_lipid-tail-{}.xls\".format(sim.label))\n",
    "\n",
    "        except:\n",
    "            pass\n",
    "\n",
    "fig.figure.set_size_inches([3.0,2.2])\n",
    "fig.set_xlabel(\"Distance from membrane center (nm)\")\n",
    "fig.set_ylabel(\"Solvent accessibility\")\n",
    "\n",
    "fig.set_xlim([-0.1, 4.1])\n",
    "fig.figure.savefig(\"solvent_accessibility_profiles.png\", dpi=300, bbox_inches='tight')\n"
   ]
  },
  {
   "cell_type": "code",
   "execution_count": null,
   "metadata": {},
   "outputs": [],
   "source": []
  },
  {
   "cell_type": "code",
   "execution_count": null,
   "metadata": {},
   "outputs": [],
   "source": []
  },
  {
   "cell_type": "markdown",
   "metadata": {},
   "source": [
    "# I/O of the collected data\n",
    "\n",
    "Save the list of Simulation class instances as a pickled object and\n",
    "prepare a cell to load it again for later quick use. "
   ]
  },
  {
   "cell_type": "code",
   "execution_count": null,
   "metadata": {},
   "outputs": [],
   "source": [
    "# save the list of simulations\n",
    "with open(\"mean_solvation_obj_list.pickle\", 'bw') as picfile: \n",
    "    pickle.dump(sims, picfile)\n",
    "    print(\"Saved the sims list to: \", picfile.name)\n",
    "    "
   ]
  },
  {
   "cell_type": "code",
   "execution_count": 4,
   "metadata": {},
   "outputs": [],
   "source": [
    "# read the list of Simulation class instances from a pickled file\n",
    "with open(\"mean_solvation_obj_list.pickle\", 'br') as picfile: \n",
    "    sims = pickle.load(picfile)\n"
   ]
  },
  {
   "cell_type": "code",
   "execution_count": null,
   "metadata": {},
   "outputs": [],
   "source": []
  }
 ],
 "metadata": {
  "jupytext": {
   "formats": "ipynb,md"
  },
  "kernelspec": {
   "display_name": "Python 3",
   "language": "python",
   "name": "python3"
  },
  "language_info": {
   "codemirror_mode": {
    "name": "ipython",
    "version": 3
   },
   "file_extension": ".py",
   "mimetype": "text/x-python",
   "name": "python",
   "nbconvert_exporter": "python",
   "pygments_lexer": "ipython3",
   "version": "3.7.8"
  }
 },
 "nbformat": 4,
 "nbformat_minor": 4
}
