{
 "cells": [
  {
   "cell_type": "code",
   "execution_count": 1,
   "metadata": {},
   "outputs": [
    {
     "name": "stdout",
     "output_type": "stream",
     "text": [
      "Populating the interactive namespace from numpy and matplotlib\n"
     ]
    }
   ],
   "source": [
    "import numpy as np\n",
    "#import gromacs\n",
    "import pandas as pd\n",
    "import os, fnmatch\n",
    "import matplotlib.pyplot as plt\n",
    "import seaborn as sns\n",
    "from IPython.display import display\n",
    "import MDAnalysis as mda\n",
    "import pickle\n",
    "from scipy import signal\n",
    "from scipy.ndimage.filters import uniform_filter1d\n",
    "%pylab inline"
   ]
  },
  {
   "cell_type": "markdown",
   "metadata": {},
   "source": [
    "# Function definitions\n",
    "a few handy functions with a quite general meaning "
   ]
  },
  {
   "cell_type": "code",
   "execution_count": 2,
   "metadata": {},
   "outputs": [],
   "source": [
    "def find(pattern, path):\n",
    "    result = []\n",
    "    for root, dirs, files in os.walk(path):\n",
    "        for name in files:\n",
    "            if fnmatch.fnmatch(name, pattern):\n",
    "                result.append(os.path.join(root, name))\n",
    "    return result"
   ]
  },
  {
   "cell_type": "code",
   "execution_count": 3,
   "metadata": {},
   "outputs": [],
   "source": [
    "def locate(pattern, root=os.curdir):\n",
    "    '''Locate all files matching supplied filename pattern in and below\n",
    "    supplied root directory.'''\n",
    "    for path, dirs, files in os.walk(os.path.abspath(root)):\n",
    "        for filename in fnmatch.filter(files, pattern):\n",
    "            yield os.path.join(path, filename)"
   ]
  },
  {
   "cell_type": "code",
   "execution_count": 4,
   "metadata": {},
   "outputs": [],
   "source": [
    "def symmetrize(a):\n",
    "    \"\"\" \n",
    "    a - array to be symmetrized mirror-like, with the mirror symmetry placed in the centre\n",
    "    returns: a tuple with the symmetrized array (half the size), \n",
    "             and the resulting standard deviation in the second place of the tuple\n",
    "    \"\"\"\n",
    "    d = a.shape[0]   #assuming index=0\n",
    "    m = d//2         # the middle-of-array index -- integer division here\n",
    "    l = a[:m]        # left part\n",
    "    r = np.ndarray(l.shape)\n",
    "    for i in range(m):\n",
    "        r[i] = a[-i-1]\n",
    "    s = np.average(np.vstack((l, r)), axis=0)\n",
    "    e = np.std(np.vstack((l, r)), axis=0)\n",
    "    return (s, e)"
   ]
  },
  {
   "cell_type": "code",
   "execution_count": 5,
   "metadata": {},
   "outputs": [],
   "source": [
    "def cropstring(s, l=None, r=None):\n",
    "    \"\"\"\n",
    "    Returns a cropped substring of a string s\n",
    "    \n",
    "     l, r : strings\n",
    "            strings or patterns (RegEx not implemented!) to match in string s\n",
    "            for cropping after l and before r\n",
    "    \"\"\"\n",
    "    if isinstance(l, str):\n",
    "        il = s.find(l) + len(l)\n",
    "    else:\n",
    "        il = 0\n",
    "    if isinstance(r, str):\n",
    "        ir = s.find(r)\n",
    "    else:\n",
    "        ir = len(s)+1  #till the end of the original string\n",
    "    return s[il:ir]"
   ]
  },
  {
   "cell_type": "markdown",
   "metadata": {},
   "source": [
    "# Simulation class definition\n",
    "This class includes all methods and attributes to obtain results from ethanol-membrane intreraction simulations with Martini within **permeability** project with Jacopo Fralicciardi and Bert Poolman.\n",
    "\n",
    "This is prepared in a way that the readout shall be easily concatenated in a Pandas Dataframe for further analysis including multi-indexing etc..."
   ]
  },
  {
   "cell_type": "code",
   "execution_count": 6,
   "metadata": {},
   "outputs": [],
   "source": [
    "class Simulation:\n",
    "    '''Simulation class stores and accesses simulation data \n",
    "    relevant for ethanol - membrane interaction project with Martini'''\n",
    "    default_top_fname             = \"topol.tpr\"\n",
    "    default_traj_fname            = \"traj_comp_pbc.xtc\"\n",
    "    default_lipidator_fname       = \"lipidator.out\"\n",
    "    default_solvent_density_fname = \"density_solvent.xvg\"\n",
    "    default_boxx_fname            = \"boxx.xvg\"\n",
    "    use_symmetry = True\n",
    "    column_labels = (\"satur index\",\n",
    "                     \"sterol conc\",\n",
    "                     \"particle\",\n",
    "                     \"starting conf\",\n",
    "                     \"compress\",\n",
    "                     \"perm\", \"perm err\")\n",
    "\n",
    "    def __init__(self, dirname):\n",
    "        self.dirname = dirname\n",
    "        # the dirname containing conditions of the simulation\n",
    "        # is not parsed at the beginning (only done when needed in method parse_dirname)\n",
    "        self.dirname_parsed = False\n",
    "        # check presence of required files\n",
    "        self.top_fname             = Simulation.default_top_fname\n",
    "        self.traj_fname            = Simulation.default_traj_fname\n",
    "        self.lipidator_fname       = Simulation.default_lipidator_fname\n",
    "        self.solvent_density_fname = Simulation.default_solvent_density_fname\n",
    "        self.boxx_fname            = Simulation.default_boxx_fname\n",
    "        for fname in [self.top_fname, ]: # self.lipidator_fname, self.solvent_density_fname, self.boxx_fname]:\n",
    "            try:\n",
    "                for f in locate(fname, self.dirname):\n",
    "                    if fname in f:\n",
    "                        temp_found_file0 = f\n",
    "                    break\n",
    "            except:\n",
    "                print(\"something went wrong with locating {} in dir:\\n{}\".format(fname, self.dirname))    \n",
    "        # get the topology using MDAnalysis\n",
    "        # this is not used at this moment, so creating mda.Universe is skipped\n",
    "        if False:\n",
    "            try:\n",
    "                self.topology = mda.Universe(os.path.join(self.dirname, self.top_fname)) \n",
    "            except:\n",
    "                raise UserWarning(\"Error loading topology and trajectory in directory {}\".format(self.dirname))\n",
    "            \n",
    "            \n",
    "    \n",
    "    def calc_perm(self, m=20, use_symmetry=True, const_fric=None):\n",
    "        \"\"\"\n",
    "        calculate permeability from AWH simulation deltaG and friction profiles\n",
    "        \n",
    "        parameter m defines the number of samples from each side of the profile\n",
    "        to use for estimation of the zero-level \n",
    "        by taking mean on the left & right (which are obtained independently and have to agree in a converged sim.) \n",
    "        and comparing the values\n",
    "        \n",
    "        returns tuple with two values (permeability and , its err.estim.)\n",
    "        \"\"\"\n",
    "        \n",
    "        # locate the awh file (friction file has the same naming convention format, se we will only simply substitute)\n",
    "        awh_files = locate(\"awh_*.xvg\", self.dirname)\n",
    "        # choose the newest of the files\n",
    "        try:\n",
    "            newest_file = max(awh_files, key=os.path.getctime)\n",
    "        except:\n",
    "            print(\"cannot find newest file in dir {} \\n setting perm to None values\".format(sim.dirname))\n",
    "            return (None, None)\n",
    "        \n",
    "        # assign the AWH data sets to numpy arrays\n",
    "        awh_data  = np.loadtxt(newest_file, comments=(\"#\", \"@\"))\n",
    "        x    = awh_data[:,0]\n",
    "        fep  = awh_data[:,1]\n",
    "\n",
    "        # prepare friction data - from file (implicit) or constant (optional)\n",
    "        if not const_fric:\n",
    "            fric_data = np.loadtxt(newest_file.replace(\"/awh_\", \"/friction_\"), comments=(\"#\", \"@\"))\n",
    "            fric = fric_data[:,1]\n",
    "        else:\n",
    "            # OVERRIDING friction data with a constant number\n",
    "            fric = np.ones(fep.shape)*const_fric\n",
    "            \n",
    "        # store the AWH, x-coord & friction profile as attributes of this class Simulation\n",
    "        self.awh_x = x\n",
    "        self.awh   = fep\n",
    "        self.fric  = fric\n",
    "            \n",
    "        # obtain the estimate of deltaG from left & right\n",
    "        # BEWARE: only work with symmetric potentials with simple shapes \n",
    "        #         that have a bump in the middle, not depression!\n",
    "        #         -> this is corrected later in the section with `use_symmetry`\n",
    "        dg1 = np.max(fep-fep[-m:].mean())\n",
    "        dg2 = np.max(fep-fep[:m].mean())\n",
    "        self.dg    = np.mean([dg1, dg2])\n",
    "        self.dgstd = np.std([dg1, dg2])\n",
    "        \n",
    "        # calculate the permeability (through 1/resistance)\n",
    "        if use_symmetry:\n",
    "            # apply symmetry rules to the profile and obtain an estimate of error\n",
    "            fepsymm  = symmetrize(fep)\n",
    "            fricsymm = symmetrize(fric)\n",
    "            xsymm    = x[:fepsymm[0].shape[0]]\n",
    "            rxsymm    = np.exp(fepsymm[0]-fepsymm[0][:m].mean())*fricsymm[0]/1000.0    # r(x) = resistance\n",
    "            # use value of 100.0 instead of \"*fricsymm[1]\" to simplify the equation and error estimate?\n",
    "            rxstdsymm = ( np.exp(fepsymm[0])*fricsymm[1] + np.exp(fepsymm[1])*fricsymm[0] )/1000.0    # error of r(x) through chain rule\n",
    "            r         = np.trapz(x=xsymm[m:], y=rxsymm[m:]) *2.0   # *2, because i have only half of the profile after symmetrizing it\n",
    "            rstd      = np.trapz(x=xsymm[m:], y=rxstdsymm[m:]) *2.0\n",
    "            # update the estimate of dG including the correct sign\n",
    "            # by subtracting the values from left (membrane center) from right (solvent) edges of the profile\n",
    "            self.dg   = -np.mean(fepsymm[0][-m:] - fepsymm[0][:m])   # Part_coef Memb-Water  in kT units\n",
    "            self.dgstd= fepsymm[1][-m:].mean() + fepsymm[1][:m].mean()   # Part_coef Memb-Water  in kT units\n",
    "        else:\n",
    "            # set the zero-level (solvent) to 0 from one resp. other side\n",
    "            rx1  = np.exp(fep-fep[-m:].mean())*fric/1000.0    # r(x) ...\n",
    "            rx2  = np.exp(fep-fep[:m].mean()) *fric/1000.0    # resistance in ns/nm resp s/m\n",
    "            r = np.trapz(x=x[m:-m], y=np.vstack((rx1, rx2))[:,m:-m])\n",
    "\n",
    "        unit_scaling_factor = 100000.0  # provides unit cm/s *e-3 from simulation units (kT and ps)d\n",
    "        perm      = unit_scaling_factor/r   # in nm/us*e-4 resp cm/s*e-3\n",
    "        try: \n",
    "            permstd = perm**2 * rstd /unit_scaling_factor   # is the same as: perm*rstd/r\n",
    "        except:\n",
    "            permstd = None\n",
    "\n",
    "        self.__perm_perr = (perm, permstd)\n",
    "        return (perm, permstd)\n",
    "\n",
    "    \n",
    "    @property\n",
    "    def perm(self):\n",
    "        try:\n",
    "            return self.__perm_perr[0]\n",
    "        except:\n",
    "            # shall be raised e.g. in case self.apl is not defined yet\n",
    "            self.calc_perm()  # defines the above self.\"attribute\"\n",
    "        finally:\n",
    "            return self.__perm_perr[0]\n",
    "\n",
    "    @property\n",
    "    def permerr(self):\n",
    "        try:\n",
    "            return self.__perm_perr[1]\n",
    "        except:\n",
    "            # shall be raised e.g. in case self.apl is not defined yet\n",
    "            self.calc_perm()  # defines the above self.\"attribute\"\n",
    "        finally:\n",
    "            return self.__perm_perr[1]\n",
    "        \n",
    "    \n",
    "    def read_lipidator(self):\n",
    "        \"\"\"get several properties,\n",
    "        bending and tilt moduli [in units kT and kT/nm^2],\n",
    "        area per lipid (incl. stderr & stdev) [in units nm^2], \n",
    "        from lipidator file\"\"\"\n",
    "        try:\n",
    "            with open(os.path.join(self.dirname, self.lipidator_fname), \"r\") as lefile:\n",
    "                for line in lefile.readlines():\n",
    "                    linesplit = line.split()\n",
    "                    if line.startswith(\"Monolayer Bending\"):\n",
    "                        bending = float(linesplit[linesplit.index('kappa')+1])\n",
    "                    if line.startswith(\"Bilayer Tilt\"):\n",
    "                        tilt    = float(linesplit[linesplit.index('kappa')+1])\n",
    "                    if line.startswith(\" Area AVG\"):\n",
    "                        apl       = float(linesplit[linesplit.index('[bilayer]:')+1]) *0.01\n",
    "                        aplstderr = float(linesplit[linesplit.index('[bilayer]:')+4]) *0.01\n",
    "                        aplstdev  = float(linesplit[linesplit.index('[bilayer]:')+6]) *0.01\n",
    "                        \n",
    "        except IOError:\n",
    "            print(\"Problems loading the lipidator file in dir {}\".format(self.dirname))\n",
    "        except:\n",
    "            print(\"Generally some problems in loading Lipidator output -- check code.\")\n",
    "        finally:\n",
    "            try:\n",
    "                self.__bend       = bending\n",
    "                self.__tilt       = tilt\n",
    "                self.__apl        = apl\n",
    "                self.__apl_stderr = aplstderr\n",
    "                self.__apl_stdev  = aplstdev\n",
    "            except:\n",
    "                # will be raised e.g. in case any of the above is not defined \n",
    "                # (e.g. weren't accessed via the method above)\n",
    "                self.__bend = self.__tilt = self.__apl = self.__apl_stderr = self.__apl_stdev = None\n",
    "        return (bending, tilt, apl, aplstderr, aplstdev)\n",
    "    \n",
    "    \n",
    "    @property\n",
    "    def apl(self):\n",
    "        try:\n",
    "            return self.__apl\n",
    "        except:\n",
    "            # shall be raised e.g. in case self.apl is not defined yet\n",
    "            self.read_lipidator()  # defines the above self.apl\n",
    "        finally:\n",
    "            return self.__apl\n",
    "    \n",
    "\n",
    "    @property\n",
    "    def tilt(self):\n",
    "        try:\n",
    "            return self.__tilt\n",
    "        except:\n",
    "            # shall be raised e.g. in case self.apl is not defined yet\n",
    "            self.read_lipidator()  # defines the above self.apl\n",
    "        finally:\n",
    "            return self.__tilt\n",
    "    \n",
    "\n",
    "    @property\n",
    "    def bend(self):\n",
    "        try:\n",
    "            return self.__bend\n",
    "        except:\n",
    "            # shall be raised e.g. in case self.apl is not defined yet\n",
    "            self.read_lipidator()  # defines the above self.apl\n",
    "        finally:\n",
    "            return self.__bend\n",
    "    \n",
    "    \n",
    "    def calc_thick(self):\n",
    "        \"\"\"\n",
    "        method calculating Luzzati thickness (hydrophobic thickness) \n",
    "        from a density profile xvg file\n",
    "        \"\"\"\n",
    "        try:\n",
    "            # variable wat also accounts for generally any solvent (e.g. water+ethanol solution)\n",
    "            dens_arr = np.loadtxt(os.path.join(self.dirname, self.solvent_density_fname), comments=[\"#\", \"@\"])\n",
    "            wat = dens_arr[:,1]\n",
    "            x   = dens_arr[:,0]\n",
    "            d_z = np.abs(x[-1]-x[0])         # simulation box z-length , aka repeat distance\n",
    "            bulkwatdens = np.mean(wat[:10])\n",
    "            wat /= bulkwatdens\n",
    "            h   = d_z - np.trapz(wat, x)\n",
    "            #print(x, wat, bulkwatdens, d_z, h)\n",
    "        except IOError:\n",
    "            print(\"Problems loading the density_ethanol_water XVG file in dir {}\".format(self.dirname))\n",
    "            h = None\n",
    "        except:\n",
    "            print(\"Generally some problems in the density_ethanol_water loading resp. Luzzati thickness calc -- check code.\")\n",
    "            h = None\n",
    "        finally:\n",
    "            self.__thick = h\n",
    "            return thick                \n",
    "\n",
    "\n",
    "    @property\n",
    "    def thick(self):\n",
    "        try:\n",
    "            return self.__thick\n",
    "        except:\n",
    "            # shall be raised e.g. in case self.__thick is not defined yet\n",
    "            self.calc_thick()\n",
    "        finally:\n",
    "            return self.__thick\n",
    "\n",
    "            \n",
    "    #    Copied from below - turn into methods!\n",
    "    def calc_compressibility(self):\n",
    "        \"\"\"\n",
    "        method calculating \n",
    "        Area Compressibility modulus [in units kT/nm^2]\n",
    "        from Box-x xvg file - a time-series of box-x (data : np.array)\n",
    "        using the fluctuation theorem  \n",
    "        \"\"\"\n",
    "        try:\n",
    "            data_arr = np.loadtxt(os.path.join(self.dirname, self.boxx_fname), comments=[\"#\", \"@\"])\n",
    "            x_t = data_arr[:,1]\n",
    "            a_t = x_t**2\n",
    "            a_0 = a_t.mean()\n",
    "            var =  a_t.var()\n",
    "            ka = a_0/var\n",
    "        except IOError:\n",
    "            print(\"Problems loading the box-x XVG file in dir {}\".format(self.dirname))\n",
    "            ka = None\n",
    "        except:\n",
    "            print(\"Generally some problems in the Box-x loading/calc -- check code.\")\n",
    "            ka = None\n",
    "        finally:\n",
    "            self.__compress = ka\n",
    "            return ka\n",
    "           \n",
    "            \n",
    "    @property\n",
    "    def compress(self):\n",
    "        try:\n",
    "            return self.__compress\n",
    "        except:\n",
    "            # shall be raised e.g. in case self.apl is not defined yet\n",
    "            self.calc_compressibility()  # defines the above self.\"attribute\"\n",
    "        finally:\n",
    "            return self.__compress\n",
    " \n",
    "\n",
    "    def parse_dirname(self):\n",
    "        \"\"\"\n",
    "        Dirname parser assigning values to \n",
    "        simulation conditions (temperature)\n",
    "        and compositions (saturation number d, which lipids, what sterols and how much..)\n",
    "        as instance attributes\n",
    "        \n",
    "        This method is HIGHLY SPECIFIC to the permeability project \n",
    "        and the dirname naming conventions therein\n",
    "        \"\"\"\n",
    "        s = self.dirname # just a short-hand abbreviation for the long self.dirname \n",
    "        self.sterol_type     = cropstring(s, l=\"./\", r=\"sterol\")\n",
    "        self.sterol_conc  =int(cropstring(s, l=self.sterol_type+\"sterol\", r=\"p_PC\"))\n",
    "        self.temperature  = 293  # as in the main mdp file\n",
    "        self.particle = cropstring(s, \"perm_particle_EOL\", \"/sat-unsat\")\n",
    "        self.d = float(cropstring(s, \"_d_\", \"/sim1\"))/100.0  # saturation index d\n",
    "        self.starting_conf = cropstring(s, \"_awh_\")\n",
    "        # and finally, the dirname path was parsed, so ...\n",
    "        self.dirname_parsed  = True\n",
    "        \n",
    "    \n",
    "    @property\n",
    "    def satur_index(self):\n",
    "        \"\"\"\n",
    "        Assign a saturation index d depending on the used tails\n",
    "        \n",
    "        NOT USED in this project\n",
    "        \"\"\"\n",
    "        raise Warning(\"Invoking function >> satur_index <<, which shall not be used!\")\n",
    "        try:\n",
    "            self.tails\n",
    "        except:\n",
    "            self.parse_dirname()\n",
    "        finally:\n",
    "            t = self.tails\n",
    "            if t == \"DP\":\n",
    "                d = 0.0\n",
    "            elif t == \"PO\":\n",
    "                d = 0.5\n",
    "            elif t == \"DO\" or t == \"PI\":\n",
    "                d = 1.0\n",
    "            elif t == \"DI\":\n",
    "                d = 2.0\n",
    "            else:\n",
    "                d = None\n",
    "        self.sat_ind = d\n",
    "        return d\n",
    "    \n",
    "    \n",
    "    @property\n",
    "    def as_record(self):\n",
    "        \"\"\"\n",
    "        Export the single Simulation instance as a record (a tuple of items)\n",
    "        The order is given by the Class variable Simulation.column_labels\n",
    "        \"\"\"\n",
    "        try:\n",
    "            self.d\n",
    "        except:\n",
    "            self.parse_dirname()\n",
    "        finally:    \n",
    "            record = (self.d, \n",
    "                      self.sterol_conc, \n",
    "                      self.particle,\n",
    "                      self.starting_conf,\n",
    "                      self.compress,\n",
    "                      self.perm, self.permerr)\n",
    "\n",
    "        return record"
   ]
  },
  {
   "cell_type": "markdown",
   "metadata": {},
   "source": [
    "# Search through the simulations\n",
    "on my local disk on md39.\n",
    "\n",
    "In the following section, I will loop through the simulation folders and \n",
    "obtain results from my analysis scripts.\n",
    "\n",
    "This will be put together in a Pandas Dataframe with multiindexing at the end. \n",
    "\n",
    "The multiindex will use properties as parsed from the directory names."
   ]
  },
  {
   "cell_type": "code",
   "execution_count": 7,
   "metadata": {},
   "outputs": [],
   "source": [
    "tpr_files = find(\"topol.tpr\", os.curdir)"
   ]
  },
  {
   "cell_type": "code",
   "execution_count": 8,
   "metadata": {},
   "outputs": [
    {
     "data": {
      "text/plain": [
       "['./sim2_awh_fluid_AWHk2k_pull10k_linear_SC6/topol.tpr',\n",
       " './sim2_awh_fluid_AWHk2k_pull10k_linear_SP6/topol.tpr',\n",
       " './sim2_awh_fluid_AWHk2k_pull10k_linear_N5/topol.tpr',\n",
       " './sim2_awh_fluid_AWHk2k_pull10k_linear_SN3/topol.tpr',\n",
       " './sim2_awh_fluid_AWHk2k_pull10k_linear_SC5/topol.tpr',\n",
       " './sim2_awh_fluid_AWHk2k_pull10k_linear_SN5/topol.tpr',\n",
       " './sim2_awh_fluid_AWHk2k_pull10k_linear_N1/topol.tpr',\n",
       " './sim2_awh_fluid_AWHk2k_pull10k_linear_SP1/topol.tpr',\n",
       " './sim2_awh_fluid_AWHk2k_pull10k_linear_SP3/topol.tpr',\n",
       " './sim2_awh_fluid_AWHk2k_pull10k_linear_SN1/topol.tpr',\n",
       " './sim2_awh_fluid_AWHk2k_pull10k_linear_SN2/topol.tpr']"
      ]
     },
     "execution_count": 8,
     "metadata": {},
     "output_type": "execute_result"
    }
   ],
   "source": [
    "tpr_files"
   ]
  },
  {
   "cell_type": "code",
   "execution_count": 9,
   "metadata": {
    "scrolled": true
   },
   "outputs": [],
   "source": [
    "sims    = []\n",
    "for f in tpr_files:\n",
    "    sim = Simulation(os.path.dirname(f))\n",
    "    sims.append(sim)"
   ]
  },
  {
   "cell_type": "code",
   "execution_count": 10,
   "metadata": {},
   "outputs": [
    {
     "name": "stdout",
     "output_type": "stream",
     "text": [
      "Problems loading the density_ethanol_water XVG file in dir ./sim2_awh_fluid_AWHk2k_pull10k_linear_SN2\n"
     ]
    }
   ],
   "source": [
    "sim.dirname\n",
    "sim.thick"
   ]
  },
  {
   "cell_type": "markdown",
   "metadata": {},
   "source": [
    "# AWH profiles plotting\n",
    "As working with the pickled objects also requires defining the Simulation class,\n",
    "I will make the AWH-profile plots here in this notebook. \n",
    "\n",
    "## DOPC with permants of various POW\n",
    "In the following plots, I will show the dG profiles \n",
    "from permeations with various solutes of varying solubility. "
   ]
  },
  {
   "cell_type": "code",
   "execution_count": 9,
   "metadata": {
    "scrolled": true
   },
   "outputs": [
    {
     "name": "stdout",
     "output_type": "stream",
     "text": [
      "Sim in dir ./sim2_awh_fluid_AWHk2k_pull10k_linear_SC5\n",
      " has permeability 11545.712111621013 +/- 56768.30172969576 cm/s e-3\n",
      "Sim in dir ./sim2_awh_fluid_AWHk2k_pull10k_linear_SC6\n",
      " has permeability 12769.91680278084 +/- 66265.41238238575 cm/s e-3\n",
      "Sim in dir ./sim2_awh_fluid_AWHk2k_pull10k_linear_SN1\n",
      " has permeability 10359.593555077241 +/- 34103.37260852875 cm/s e-3\n",
      "Sim in dir ./sim2_awh_fluid_AWHk2k_pull10k_linear_SN2\n",
      " has permeability 7047.14623078723 +/- 18587.195594667977 cm/s e-3\n",
      "Sim in dir ./sim2_awh_fluid_AWHk2k_pull10k_linear_SN3\n",
      " has permeability 2049.3280059103663 +/- 1617.0865539178283 cm/s e-3\n",
      "Sim in dir ./sim2_awh_fluid_AWHk2k_pull10k_linear_SN5\n",
      " has permeability 401.9713726772274 +/- 80.0339980750461 cm/s e-3\n",
      "Sim in dir ./sim2_awh_fluid_AWHk2k_pull10k_linear_SP1\n",
      " has permeability 96.82906041874399 +/- 35.67818107627855 cm/s e-3\n",
      "Sim in dir ./sim2_awh_fluid_AWHk2k_pull10k_linear_SP3\n",
      " has permeability 34.6187234832542 +/- 4.288315108873823 cm/s e-3\n",
      "Sim in dir ./sim2_awh_fluid_AWHk2k_pull10k_linear_SP6\n",
      " has permeability 0.17341940686795193 +/- 0.01932482174595524 cm/s e-3\n",
      "Sim in dir ./sim2_awh_fluid_AWHk2k_pull10k_linear_N1\n",
      " has permeability 8709.424407951965 +/- 79724.82522355637 cm/s e-3\n",
      "Sim in dir ./sim2_awh_fluid_AWHk2k_pull10k_linear_N5\n",
      " has permeability 1114.9363074185142 +/- 2074.1328964797135 cm/s e-3\n"
     ]
    }
   ],
   "source": [
    "# define the particle name. \n",
    "# luckily it is always 3 character long, so this is simple\n",
    "for s in sims:\n",
    "    s.pname = s.dirname[-3:]\n",
    "    # calculate permeability and record the profiles\n",
    "    print(\"Sim in dir {}\\n has permeability {} +/- {} cm/s e-3\".format(s.dirname, s.perm, s.permerr))\n",
    "        "
   ]
  },
  {
   "cell_type": "markdown",
   "metadata": {},
   "source": [
    "Now, sort the lists after the particle name:"
   ]
  },
  {
   "cell_type": "code",
   "execution_count": 10,
   "metadata": {},
   "outputs": [],
   "source": [
    "sims.sort(key=lambda s: s.pname)"
   ]
  },
  {
   "cell_type": "code",
   "execution_count": 11,
   "metadata": {},
   "outputs": [
    {
     "name": "stdout",
     "output_type": "stream",
     "text": [
      "{'SC5': (2.6516602, 11545.712111621013), 'SC6': (1.51166825, 12769.91680278084), 'SN1': (0.6073417499999999, 10359.593555077241), 'SN2': (-0.33606525000000004, 7047.14623078723), 'SN3': (-1.8649150250000002, 2049.3280059103663), 'SN5': (-3.7433072975000004, 401.9713726772274), 'SP1': (-5.02266205, 96.82906041874399), 'SP3': (-6.548442735500001, 34.6187234832542), 'SP6': (-11.56837609625, 0.17341940686795193)}\n"
     ]
    }
   ],
   "source": [
    "records = {}\n",
    "for s in sims:\n",
    "    if s.pname.startswith(\"S\"):\n",
    "        records[s.pname] = (s.dg, s.perm)\n",
    "print(records)"
   ]
  },
  {
   "cell_type": "code",
   "execution_count": null,
   "metadata": {},
   "outputs": [],
   "source": []
  },
  {
   "cell_type": "markdown",
   "metadata": {},
   "source": [
    "### Plot the Perm -vs- Partition coef to membrane and octanol-water\n",
    "from M3 paper, we have the POW between octanol and water\n",
    "\n",
    "From this work, I have the Permeability and the Partition coef from membrane-water.\n",
    "\n",
    "Let's plot it to see whether there is any good correlation\n",
    "First, make a Datafreame with the dG and Perm values from simulations with membranes..."
   ]
  },
  {
   "cell_type": "code",
   "execution_count": 12,
   "metadata": {},
   "outputs": [
    {
     "data": {
      "text/html": [
       "<div>\n",
       "<style scoped>\n",
       "    .dataframe tbody tr th:only-of-type {\n",
       "        vertical-align: middle;\n",
       "    }\n",
       "\n",
       "    .dataframe tbody tr th {\n",
       "        vertical-align: top;\n",
       "    }\n",
       "\n",
       "    .dataframe thead th {\n",
       "        text-align: right;\n",
       "    }\n",
       "</style>\n",
       "<table border=\"1\" class=\"dataframe\">\n",
       "  <thead>\n",
       "    <tr style=\"text-align: right;\">\n",
       "      <th></th>\n",
       "      <th>dG</th>\n",
       "      <th>perm</th>\n",
       "    </tr>\n",
       "  </thead>\n",
       "  <tbody>\n",
       "    <tr>\n",
       "      <th>SC5</th>\n",
       "      <td>2.651660</td>\n",
       "      <td>11545.712112</td>\n",
       "    </tr>\n",
       "    <tr>\n",
       "      <th>SC6</th>\n",
       "      <td>1.511668</td>\n",
       "      <td>12769.916803</td>\n",
       "    </tr>\n",
       "    <tr>\n",
       "      <th>SN1</th>\n",
       "      <td>0.607342</td>\n",
       "      <td>10359.593555</td>\n",
       "    </tr>\n",
       "    <tr>\n",
       "      <th>SN2</th>\n",
       "      <td>-0.336065</td>\n",
       "      <td>7047.146231</td>\n",
       "    </tr>\n",
       "    <tr>\n",
       "      <th>SN3</th>\n",
       "      <td>-1.864915</td>\n",
       "      <td>2049.328006</td>\n",
       "    </tr>\n",
       "    <tr>\n",
       "      <th>SN5</th>\n",
       "      <td>-3.743307</td>\n",
       "      <td>401.971373</td>\n",
       "    </tr>\n",
       "    <tr>\n",
       "      <th>SP1</th>\n",
       "      <td>-5.022662</td>\n",
       "      <td>96.829060</td>\n",
       "    </tr>\n",
       "    <tr>\n",
       "      <th>SP3</th>\n",
       "      <td>-6.548443</td>\n",
       "      <td>34.618723</td>\n",
       "    </tr>\n",
       "    <tr>\n",
       "      <th>SP6</th>\n",
       "      <td>-11.568376</td>\n",
       "      <td>0.173419</td>\n",
       "    </tr>\n",
       "  </tbody>\n",
       "</table>\n",
       "</div>"
      ],
      "text/plain": [
       "            dG          perm\n",
       "SC5   2.651660  11545.712112\n",
       "SC6   1.511668  12769.916803\n",
       "SN1   0.607342  10359.593555\n",
       "SN2  -0.336065   7047.146231\n",
       "SN3  -1.864915   2049.328006\n",
       "SN5  -3.743307    401.971373\n",
       "SP1  -5.022662     96.829060\n",
       "SP3  -6.548443     34.618723\n",
       "SP6 -11.568376      0.173419"
      ]
     },
     "metadata": {},
     "output_type": "display_data"
    }
   ],
   "source": [
    "df = pd.DataFrame.from_dict(records, orient='index', columns=['dG', 'perm'])\n",
    "display(df)"
   ]
  },
  {
   "cell_type": "code",
   "execution_count": 13,
   "metadata": {},
   "outputs": [],
   "source": [
    "# DEPRECATED: the new definition of the dG value does not need sign correction,\n",
    "#             but the previous (which also resulted in incorrect results for hydrophobics) did. \n",
    "# correct for the sign of the delta-G (negative for hydrophilic compounds)\n",
    "#df['dG'].loc[\"SN2\":] = df['dG'].loc[\"SN2\":].multiply(-1)"
   ]
  },
  {
   "cell_type": "code",
   "execution_count": 14,
   "metadata": {},
   "outputs": [],
   "source": [
    "# calc the logarithms of the Permeability and the partition coef to be consistents with the exp data\n",
    "df[\"logPerm\"] = np.log10(df['perm'].multiply(10e-5))\n",
    "df[\"logPart\"] = df['dG']/5.71  ## conversion from kT to logPOW as in the Google-sheet"
   ]
  },
  {
   "cell_type": "code",
   "execution_count": 15,
   "metadata": {},
   "outputs": [
    {
     "data": {
      "text/html": [
       "<div>\n",
       "<style scoped>\n",
       "    .dataframe tbody tr th:only-of-type {\n",
       "        vertical-align: middle;\n",
       "    }\n",
       "\n",
       "    .dataframe tbody tr th {\n",
       "        vertical-align: top;\n",
       "    }\n",
       "\n",
       "    .dataframe thead th {\n",
       "        text-align: right;\n",
       "    }\n",
       "</style>\n",
       "<table border=\"1\" class=\"dataframe\">\n",
       "  <thead>\n",
       "    <tr style=\"text-align: right;\">\n",
       "      <th></th>\n",
       "      <th>dG</th>\n",
       "      <th>perm</th>\n",
       "      <th>logPerm</th>\n",
       "      <th>logPart</th>\n",
       "    </tr>\n",
       "  </thead>\n",
       "  <tbody>\n",
       "    <tr>\n",
       "      <th>SC5</th>\n",
       "      <td>2.651660</td>\n",
       "      <td>11545.712112</td>\n",
       "      <td>0.062421</td>\n",
       "      <td>0.464389</td>\n",
       "    </tr>\n",
       "    <tr>\n",
       "      <th>SC6</th>\n",
       "      <td>1.511668</td>\n",
       "      <td>12769.916803</td>\n",
       "      <td>0.106188</td>\n",
       "      <td>0.264740</td>\n",
       "    </tr>\n",
       "    <tr>\n",
       "      <th>SN1</th>\n",
       "      <td>0.607342</td>\n",
       "      <td>10359.593555</td>\n",
       "      <td>0.015343</td>\n",
       "      <td>0.106365</td>\n",
       "    </tr>\n",
       "    <tr>\n",
       "      <th>SN2</th>\n",
       "      <td>-0.336065</td>\n",
       "      <td>7047.146231</td>\n",
       "      <td>-0.151987</td>\n",
       "      <td>-0.058856</td>\n",
       "    </tr>\n",
       "    <tr>\n",
       "      <th>SN3</th>\n",
       "      <td>-1.864915</td>\n",
       "      <td>2049.328006</td>\n",
       "      <td>-0.688389</td>\n",
       "      <td>-0.326605</td>\n",
       "    </tr>\n",
       "    <tr>\n",
       "      <th>SN5</th>\n",
       "      <td>-3.743307</td>\n",
       "      <td>401.971373</td>\n",
       "      <td>-1.395805</td>\n",
       "      <td>-0.655570</td>\n",
       "    </tr>\n",
       "    <tr>\n",
       "      <th>SP1</th>\n",
       "      <td>-5.022662</td>\n",
       "      <td>96.829060</td>\n",
       "      <td>-2.013994</td>\n",
       "      <td>-0.879626</td>\n",
       "    </tr>\n",
       "    <tr>\n",
       "      <th>SP3</th>\n",
       "      <td>-6.548443</td>\n",
       "      <td>34.618723</td>\n",
       "      <td>-2.460689</td>\n",
       "      <td>-1.146838</td>\n",
       "    </tr>\n",
       "    <tr>\n",
       "      <th>SP6</th>\n",
       "      <td>-11.568376</td>\n",
       "      <td>0.173419</td>\n",
       "      <td>-4.760902</td>\n",
       "      <td>-2.025985</td>\n",
       "    </tr>\n",
       "  </tbody>\n",
       "</table>\n",
       "</div>"
      ],
      "text/plain": [
       "            dG          perm   logPerm   logPart\n",
       "SC5   2.651660  11545.712112  0.062421  0.464389\n",
       "SC6   1.511668  12769.916803  0.106188  0.264740\n",
       "SN1   0.607342  10359.593555  0.015343  0.106365\n",
       "SN2  -0.336065   7047.146231 -0.151987 -0.058856\n",
       "SN3  -1.864915   2049.328006 -0.688389 -0.326605\n",
       "SN5  -3.743307    401.971373 -1.395805 -0.655570\n",
       "SP1  -5.022662     96.829060 -2.013994 -0.879626\n",
       "SP3  -6.548443     34.618723 -2.460689 -1.146838\n",
       "SP6 -11.568376      0.173419 -4.760902 -2.025985"
      ]
     },
     "metadata": {},
     "output_type": "display_data"
    }
   ],
   "source": [
    "display(df)"
   ]
  },
  {
   "cell_type": "markdown",
   "metadata": {},
   "source": [
    "From other work, I also have recorded the logPOW values from the Martini 3 paper and put them in a csv file - pull it in!"
   ]
  },
  {
   "cell_type": "code",
   "execution_count": 16,
   "metadata": {},
   "outputs": [],
   "source": [
    "df_pow = pd.read_csv(\"sheet_pow_perm_var-particles.csv\")"
   ]
  },
  {
   "cell_type": "code",
   "execution_count": 17,
   "metadata": {},
   "outputs": [],
   "source": [
    "# set index to allow for a seamless merge with the other dataframe\n",
    "df_pow = df_pow.set_index(keys='particle type')"
   ]
  },
  {
   "cell_type": "code",
   "execution_count": 18,
   "metadata": {},
   "outputs": [],
   "source": [
    "# concatenate the dataframes along the columns (i.e. axis=1)\n",
    "dfall = pd.concat((df, df_pow), axis=1)"
   ]
  },
  {
   "cell_type": "code",
   "execution_count": 19,
   "metadata": {},
   "outputs": [
    {
     "data": {
      "text/html": [
       "<div>\n",
       "<style scoped>\n",
       "    .dataframe tbody tr th:only-of-type {\n",
       "        vertical-align: middle;\n",
       "    }\n",
       "\n",
       "    .dataframe tbody tr th {\n",
       "        vertical-align: top;\n",
       "    }\n",
       "\n",
       "    .dataframe thead th {\n",
       "        text-align: right;\n",
       "    }\n",
       "</style>\n",
       "<table border=\"1\" class=\"dataframe\">\n",
       "  <thead>\n",
       "    <tr style=\"text-align: right;\">\n",
       "      <th></th>\n",
       "      <th>index</th>\n",
       "      <th>dG</th>\n",
       "      <th>perm</th>\n",
       "      <th>logPerm</th>\n",
       "      <th>logPart</th>\n",
       "      <th>dGOW</th>\n",
       "      <th>POW</th>\n",
       "      <th>perm</th>\n",
       "      <th>log10(perm)</th>\n",
       "    </tr>\n",
       "  </thead>\n",
       "  <tbody>\n",
       "    <tr>\n",
       "      <th>0</th>\n",
       "      <td>SC5</td>\n",
       "      <td>2.651660</td>\n",
       "      <td>11545.712112</td>\n",
       "      <td>0.062421</td>\n",
       "      <td>0.464389</td>\n",
       "      <td>6.300</td>\n",
       "      <td>1.103327</td>\n",
       "      <td>11550.00</td>\n",
       "      <td>-0.937418</td>\n",
       "    </tr>\n",
       "    <tr>\n",
       "      <th>1</th>\n",
       "      <td>SC6</td>\n",
       "      <td>1.511668</td>\n",
       "      <td>12769.916803</td>\n",
       "      <td>0.106188</td>\n",
       "      <td>0.264740</td>\n",
       "      <td>5.300</td>\n",
       "      <td>0.928196</td>\n",
       "      <td>12770.00</td>\n",
       "      <td>-0.893809</td>\n",
       "    </tr>\n",
       "    <tr>\n",
       "      <th>2</th>\n",
       "      <td>SN1</td>\n",
       "      <td>0.607342</td>\n",
       "      <td>10359.593555</td>\n",
       "      <td>0.015343</td>\n",
       "      <td>0.106365</td>\n",
       "      <td>3.600</td>\n",
       "      <td>0.630473</td>\n",
       "      <td>10360.00</td>\n",
       "      <td>-0.984640</td>\n",
       "    </tr>\n",
       "    <tr>\n",
       "      <th>3</th>\n",
       "      <td>SN2</td>\n",
       "      <td>-0.336065</td>\n",
       "      <td>7047.146231</td>\n",
       "      <td>-0.151987</td>\n",
       "      <td>-0.058856</td>\n",
       "      <td>2.132</td>\n",
       "      <td>0.373380</td>\n",
       "      <td>7690.00</td>\n",
       "      <td>-1.114074</td>\n",
       "    </tr>\n",
       "    <tr>\n",
       "      <th>4</th>\n",
       "      <td>SN3</td>\n",
       "      <td>-1.864915</td>\n",
       "      <td>2049.328006</td>\n",
       "      <td>-0.688389</td>\n",
       "      <td>-0.326605</td>\n",
       "      <td>-1.800</td>\n",
       "      <td>-0.315236</td>\n",
       "      <td>2050.00</td>\n",
       "      <td>-1.688246</td>\n",
       "    </tr>\n",
       "    <tr>\n",
       "      <th>5</th>\n",
       "      <td>SN5</td>\n",
       "      <td>-3.743307</td>\n",
       "      <td>401.971373</td>\n",
       "      <td>-1.395805</td>\n",
       "      <td>-0.655570</td>\n",
       "      <td>-3.600</td>\n",
       "      <td>-0.630473</td>\n",
       "      <td>402.00</td>\n",
       "      <td>-2.395774</td>\n",
       "    </tr>\n",
       "    <tr>\n",
       "      <th>6</th>\n",
       "      <td>SP1</td>\n",
       "      <td>-5.022662</td>\n",
       "      <td>96.829060</td>\n",
       "      <td>-2.013994</td>\n",
       "      <td>-0.879626</td>\n",
       "      <td>-5.200</td>\n",
       "      <td>-0.910683</td>\n",
       "      <td>97.00</td>\n",
       "      <td>-3.013228</td>\n",
       "    </tr>\n",
       "    <tr>\n",
       "      <th>7</th>\n",
       "      <td>SP3</td>\n",
       "      <td>-6.548443</td>\n",
       "      <td>34.618723</td>\n",
       "      <td>-2.460689</td>\n",
       "      <td>-1.146838</td>\n",
       "      <td>-7.700</td>\n",
       "      <td>-1.348511</td>\n",
       "      <td>35.00</td>\n",
       "      <td>-3.455932</td>\n",
       "    </tr>\n",
       "    <tr>\n",
       "      <th>8</th>\n",
       "      <td>SP6</td>\n",
       "      <td>-11.568376</td>\n",
       "      <td>0.173419</td>\n",
       "      <td>-4.760902</td>\n",
       "      <td>-2.025985</td>\n",
       "      <td>-12.200</td>\n",
       "      <td>-2.136602</td>\n",
       "      <td>0.17</td>\n",
       "      <td>-5.769551</td>\n",
       "    </tr>\n",
       "  </tbody>\n",
       "</table>\n",
       "</div>"
      ],
      "text/plain": [
       "  index         dG          perm   logPerm   logPart    dGOW       POW  \\\n",
       "0   SC5   2.651660  11545.712112  0.062421  0.464389   6.300  1.103327   \n",
       "1   SC6   1.511668  12769.916803  0.106188  0.264740   5.300  0.928196   \n",
       "2   SN1   0.607342  10359.593555  0.015343  0.106365   3.600  0.630473   \n",
       "3   SN2  -0.336065   7047.146231 -0.151987 -0.058856   2.132  0.373380   \n",
       "4   SN3  -1.864915   2049.328006 -0.688389 -0.326605  -1.800 -0.315236   \n",
       "5   SN5  -3.743307    401.971373 -1.395805 -0.655570  -3.600 -0.630473   \n",
       "6   SP1  -5.022662     96.829060 -2.013994 -0.879626  -5.200 -0.910683   \n",
       "7   SP3  -6.548443     34.618723 -2.460689 -1.146838  -7.700 -1.348511   \n",
       "8   SP6 -11.568376      0.173419 -4.760902 -2.025985 -12.200 -2.136602   \n",
       "\n",
       "       perm  log10(perm)  \n",
       "0  11550.00    -0.937418  \n",
       "1  12770.00    -0.893809  \n",
       "2  10360.00    -0.984640  \n",
       "3   7690.00    -1.114074  \n",
       "4   2050.00    -1.688246  \n",
       "5    402.00    -2.395774  \n",
       "6     97.00    -3.013228  \n",
       "7     35.00    -3.455932  \n",
       "8      0.17    -5.769551  "
      ]
     },
     "execution_count": 19,
     "metadata": {},
     "output_type": "execute_result"
    }
   ],
   "source": [
    "# reset index so that I can use it in the plotting\n",
    "dfall = dfall.reset_index()\n",
    "dfall"
   ]
  },
  {
   "cell_type": "markdown",
   "metadata": {},
   "source": [
    "### PLOT log(P) -vs- log(P)"
   ]
  },
  {
   "cell_type": "code",
   "execution_count": 20,
   "metadata": {},
   "outputs": [],
   "source": [
    "sns.set_palette(\"viridis\", n_colors=len(dfall))"
   ]
  },
  {
   "cell_type": "code",
   "execution_count": 22,
   "metadata": {},
   "outputs": [
    {
     "data": {
      "image/png": "[encoded data removed]",
      "text/plain": [
       "<Figure size 216x288 with 1 Axes>"
      ]
     },
     "metadata": {
      "needs_background": "light"
     },
     "output_type": "display_data"
    }
   ],
   "source": [
    "sns.scatterplot(data=dfall, x='POW', y='logPerm', \n",
    "                label=r'P$_{Octanol–Water}$', \n",
    "                hue='index', palette='viridis', \n",
    "                legend=False,\n",
    "                marker='D')\n",
    "sns.regplot(data=dfall, x='logPart', y='logPerm', color='grey')\n",
    "sns.scatterplot(data=dfall, x='logPart', y='logPerm', label=r'P$_{Membrane–Water}$', color='xkcd:red')\n",
    "\n",
    "fig = plt.gca()\n",
    "# change the y-ticks labels to make y-axis appear \"like in a logscale\"\n",
    "fig.set_yticks(range(-4, 1, 1))\n",
    "fig.set_yticklabels([ r\"$10^{\"+str(i)+r\"}$\" for i in fig.get_yticks() ])\n",
    "# similar size and range as in the plot from experiments \n",
    "fig.figure.set_size_inches([3.0,4.0])\n",
    "fig.set_xlim([-2.5, 2.5])\n",
    "fig.set_ylim([-5, 0.3])\n",
    "fig.set_xlabel(r'log$P_{Hydrocarbon–Water}$')\n",
    "fig.set_ylabel(r'Permeability (cm/s $10^{-3}$)')  # assuming y-axis lables \"logscale-like\" !!!\n",
    "plt.savefig(\"perm-partMem-partOW-loglog-plot.png\", dpi=300, bbox_inches='tight')"
   ]
  },
  {
   "cell_type": "code",
   "execution_count": 23,
   "metadata": {},
   "outputs": [],
   "source": [
    "# save the table!\n",
    "dfall.to_csv(\"perm-partMem-partOW-loglog.csv\")"
   ]
  },
  {
   "cell_type": "markdown",
   "metadata": {},
   "source": [
    "### Free energy profiles\n",
    "\n",
    "in the code below,\n",
    "I plot the symmetrized AWH-free energy profiles.\n",
    "The differences from symmetrization \n",
    "give rise to the error estimates included in the plot. \n",
    "\n",
    "The plot can be futher improved \n",
    "by using a simulation snapshot as a background. "
   ]
  },
  {
   "cell_type": "code",
   "execution_count": 24,
   "metadata": {},
   "outputs": [],
   "source": [
    "# list of selected particles for plotting (selected a few for clarity of the plot)\n",
    "selected_particles = [\"SC5\", \"SP3\", \"SP6\", \"SN2\", \"SN3\"]\n",
    "# hydrophobic levels as defined in the publication for the selected particles (in the same order!)\n",
    "selected_particles_hydrophobic_levels = [\"IX\", \"II\", \"I\", \"VI\", \"V\"]\n",
    "# dictionary for particle-name :: hydrophobic-level translation  \n",
    "# (particle names are in dirnames, but levels are desired in the legends)\n",
    "particle_names_to_levels = { k:v for (k, v) in zip(selected_particles, selected_particles_hydrophobic_levels)}\n",
    "\n",
    "# select a nice palette\n",
    "sns.set_palette(\"viridis\", n_colors=len(selected_particles))"
   ]
  },
  {
   "cell_type": "code",
   "execution_count": 25,
   "metadata": {},
   "outputs": [],
   "source": [
    "def prep_to_plot(x, y, shift_to_zero=True, filt_freq=None, runmeansize=10):\n",
    "    \"\"\"Function symmetrizes and shifts the profiles for plotting.\"\"\"\n",
    "    ysymm_arr = symmetrize(y)\n",
    "    # apply filter to get rid of some noise\n",
    "    if filt_freq:\n",
    "        b, a = signal.butter(4, filt_freq)\n",
    "        ysymm_arr = signal.filtfilt(b, a, ysymm_arr, padlen=0)\n",
    "\n",
    "    ys    = ysymm_arr[:][0]\n",
    "    yserr = ysymm_arr[:][1]\n",
    "    x_half = -x[:len(ys)]\n",
    "    if shift_to_zero:\n",
    "        delta = ys[:50].mean()\n",
    "        ys -= delta\n",
    "    return (x_half, ys, yserr)"
   ]
  },
  {
   "cell_type": "code",
   "execution_count": 26,
   "metadata": {},
   "outputs": [
    {
     "name": "stdout",
     "output_type": "stream",
     "text": [
      "Working with sim in dir ./sim2_awh_fluid_AWHk2k_pull10k_linear_SC5\n",
      "Working with sim in dir ./sim2_awh_fluid_AWHk2k_pull10k_linear_SN2\n",
      "Working with sim in dir ./sim2_awh_fluid_AWHk2k_pull10k_linear_SN3\n",
      "Working with sim in dir ./sim2_awh_fluid_AWHk2k_pull10k_linear_SP3\n",
      "Working with sim in dir ./sim2_awh_fluid_AWHk2k_pull10k_linear_SP6\n"
     ]
    },
    {
     "data": {
      "image/png": "[encoded data removed]",
      "text/plain": [
       "<Figure size 172.8x158.4 with 1 Axes>"
      ]
     },
     "metadata": {
      "needs_background": "light"
     },
     "output_type": "display_data"
    }
   ],
   "source": [
    "for sim_list, xxpc in zip([sims, ], [\"DOPC\", ]):\n",
    "    for s in sim_list:\n",
    "        if (xxpc == 'DOPC') and s.pname in selected_particles:\n",
    "            print(\"Working with sim in dir {}\".format(s.dirname))\n",
    "            try:\n",
    "                    curr_hydrophobic_level = particle_names_to_levels[s.pname]\n",
    "                    (x_half, awhsym, awhsym_err) = prep_to_plot(s.awh_x, s.awh)\n",
    "                    plt.plot(x_half, awhsym)  #, label=\"{}\".format(s.pname))\n",
    "                    if True:\n",
    "                        plt.fill_between(x=x_half, \n",
    "                                     y1=awhsym+awhsym_err,\n",
    "                                     y2=awhsym-awhsym_err,\n",
    "                                     label=\"{}\".format(curr_hydrophobic_level))\n",
    "            except:\n",
    "                print(\"troubles plotting simulation in {}\".format(s.dirname))\n",
    "\n",
    "    #plt.legend()\n",
    "    fig = plt.gca()\n",
    "    fig.figure.set_size_inches([2.4,2.2])\n",
    "    #plt.ylim([-1, 11])\n",
    "    plt.xlim([0,3])\n",
    "    plt.ylabel(\"Free energy (kT)\")\n",
    "    plt.xlabel(\"Distance from membrane center (nm)\")\n",
    "    plt.savefig(\"awh_dG_profiles_{}_various-particles.png\".format(xxpc), dpi=300, bbox_inches='tight')\n",
    "    plt.show()"
   ]
  },
  {
   "cell_type": "markdown",
   "metadata": {},
   "source": [
    "### Friction profiles\n",
    "\n",
    "in the code below,\n",
    "I plot the symmetrized friction profiles.\n",
    "The differences from symmetrization \n",
    "give rise to the error estimates included in the plot. \n",
    "\n",
    "These plots are processed with smoothening to improve readability,\n",
    "as the source data contain large amount of noise."
   ]
  },
  {
   "cell_type": "code",
   "execution_count": 27,
   "metadata": {},
   "outputs": [
    {
     "name": "stdout",
     "output_type": "stream",
     "text": [
      "Working with sim in dri ./sim2_awh_fluid_AWHk2k_pull10k_linear_SC5\n",
      "Working with sim in dri ./sim2_awh_fluid_AWHk2k_pull10k_linear_SN2\n",
      "Working with sim in dri ./sim2_awh_fluid_AWHk2k_pull10k_linear_SN3\n",
      "Working with sim in dri ./sim2_awh_fluid_AWHk2k_pull10k_linear_SP3\n",
      "Working with sim in dri ./sim2_awh_fluid_AWHk2k_pull10k_linear_SP6\n"
     ]
    },
    {
     "data": {
      "image/png": "[encoded data removed]",
      "text/plain": [
       "<Figure size 316.8x158.4 with 1 Axes>"
      ]
     },
     "metadata": {
      "needs_background": "light"
     },
     "output_type": "display_data"
    }
   ],
   "source": [
    "# Butterworth filter of 4th degree with a Nyquist freq of 100Hz (Low pass filter)\n",
    "b, a = signal.butter(4, 0.080)\n",
    "\n",
    "for sim_list, xxpc in zip([sims, ], [\"DOPC\", ]):\n",
    "    for s in sim_list:\n",
    "        if (xxpc == 'DOPC') and s.pname in selected_particles:\n",
    "            print(\"Working with sim in dri {}\".format(s.dirname))\n",
    "            curr_hydrophobic_level = particle_names_to_levels[s.pname]\n",
    "            # applied Butterworth filter on the friction profile\n",
    "            (x_half, fricsym, fricsym_err) = prep_to_plot(s.awh_x, s.fric, shift_to_zero=False, filt_freq=0.160)\n",
    "            x_half = -s.awh_x[:len(fricsym)]\n",
    "            plt.plot(x_half, fricsym)  #, label=\"{}\".format(s.pname))\n",
    "            #plt.plot(x_half, fricsym_filt, label=\"{}\".format(s.pname))\n",
    "            if True:\n",
    "                        plt.fill_between(x=x_half, \n",
    "                                         y1=fricsym+fricsym_err,\n",
    "                                         y2=fricsym-fricsym_err,\n",
    "                                         label=\"{}\".format(curr_hydrophobic_level),\n",
    "                                         alpha=0.5)\n",
    "    plt.legend()\n",
    "    fig = plt.gca()\n",
    "    fig.figure.set_size_inches([4.4,2.2])\n",
    "    plt.ylabel(\"Friction (ps nm$^{-2}$ kT)\")\n",
    "    plt.xlabel(\"Distance from membrane center (nm)\")\n",
    "    plt.savefig(\"friction_profiles_{}_various-particles.png\".format(xxpc), dpi=300, bbox_inches='tight')\n",
    "    plt.show()"
   ]
  },
  {
   "cell_type": "markdown",
   "metadata": {},
   "source": [
    "### Plot AWH dG profile also for all particles"
   ]
  },
  {
   "cell_type": "code",
   "execution_count": 28,
   "metadata": {},
   "outputs": [
    {
     "name": "stdout",
     "output_type": "stream",
     "text": [
      "Working with sim in dri ./sim2_awh_fluid_AWHk2k_pull10k_linear_SC5\n",
      "Working with sim in dri ./sim2_awh_fluid_AWHk2k_pull10k_linear_SC6\n",
      "Working with sim in dri ./sim2_awh_fluid_AWHk2k_pull10k_linear_SN1\n",
      "Working with sim in dri ./sim2_awh_fluid_AWHk2k_pull10k_linear_SN2\n",
      "Working with sim in dri ./sim2_awh_fluid_AWHk2k_pull10k_linear_SN3\n",
      "Working with sim in dri ./sim2_awh_fluid_AWHk2k_pull10k_linear_SN5\n",
      "Working with sim in dri ./sim2_awh_fluid_AWHk2k_pull10k_linear_SP1\n",
      "Working with sim in dri ./sim2_awh_fluid_AWHk2k_pull10k_linear_SP3\n",
      "Working with sim in dri ./sim2_awh_fluid_AWHk2k_pull10k_linear_SP6\n"
     ]
    },
    {
     "data": {
      "image/png": "[encoded data removed]",
      "text/plain": [
       "<Figure size 316.8x316.8 with 1 Axes>"
      ]
     },
     "metadata": {
      "needs_background": "light"
     },
     "output_type": "display_data"
    }
   ],
   "source": [
    "# select a nice palette\n",
    "sns.set_palette(\"rocket\", n_colors=len(sim_list))\n",
    "\n",
    "for sim_list, xxpc in zip([sims, ], [\"DOPC\", ]):\n",
    "    for s in sim_list:\n",
    "        if (xxpc == 'DOPC') and s.pname.startswith(\"S\"):\n",
    "            print(\"Working with sim in dri {}\".format(s.dirname))\n",
    "            try:\n",
    "                    #curr_hydrophobic_level = particle_names_to_levels[s.pname]\n",
    "                    (x_half, awhsym, awhsym_err) = prep_to_plot(s.awh_x, s.awh)\n",
    "                    plt.plot(x_half, awhsym)  #, label=\"{}\".format(s.pname))\n",
    "                    if True:\n",
    "                        plt.fill_between(x=x_half, \n",
    "                                     y1=awhsym+awhsym_err,\n",
    "                                     y2=awhsym-awhsym_err,\n",
    "                                     label=\"{}\".format(s.pname))\n",
    "            except:\n",
    "                print(\"troubles plotting simulation in {}\".format(s.dirname))\n",
    "\n",
    "    plt.legend()\n",
    "    fig = plt.gca()\n",
    "    fig.figure.set_size_inches([4.4,4.4])\n",
    "    #plt.ylim([-1, 11])\n",
    "    plt.ylabel(\"Free energy (kT)\")\n",
    "    plt.xlabel(\"Distance from membrane center (nm)\")\n",
    "    plt.savefig(\"awh_dG_profiles_{}_various-particles_all-particles.png\".format(xxpc), dpi=300, bbox_inches='tight')\n",
    "    plt.show()"
   ]
  },
  {
   "cell_type": "markdown",
   "metadata": {},
   "source": [
    "## Save/Load the Simulation data\n",
    "Use `pickle` to save all Simulation class instances in a list into a file."
   ]
  },
  {
   "cell_type": "code",
   "execution_count": 31,
   "metadata": {},
   "outputs": [],
   "source": [
    "with open(\"all_sims_various-particles.pickle\", \"bw\") as f: pickle.dump(sims, f)"
   ]
  },
  {
   "cell_type": "code",
   "execution_count": 8,
   "metadata": {},
   "outputs": [],
   "source": [
    "with open(\"all_sims_various-particles.pickle\", \"br\") as f: sims = pickle.load(f)"
   ]
  },
  {
   "cell_type": "code",
   "execution_count": null,
   "metadata": {},
   "outputs": [],
   "source": []
  }
 ],
 "metadata": {
  "jupytext": {
   "formats": "ipynb,py:percent,md"
  },
  "kernelspec": {
   "display_name": "Python 3",
   "language": "python",
   "name": "python3"
  },
  "language_info": {
   "codemirror_mode": {
    "name": "ipython",
    "version": 3
   },
   "file_extension": ".py",
   "mimetype": "text/x-python",
   "name": "python",
   "nbconvert_exporter": "python",
   "pygments_lexer": "ipython3",
   "version": "3.7.8"
  }
 },
 "nbformat": 4,
 "nbformat_minor": 4
}
